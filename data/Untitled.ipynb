{
 "cells": [
  {
   "cell_type": "code",
   "execution_count": 4,
   "id": "2bc50e1d-fe95-4219-b5e1-8f8493bdad82",
   "metadata": {},
   "outputs": [],
   "source": [
    "import geopandas as gpd\n",
    "import pandas as pd\n",
    "import numpy as np\n",
    "import os\n",
    "from "
   ]
  },
  {
   "cell_type": "code",
   "execution_count": 9,
   "id": "e2810a80-503e-4823-93b0-deaafc8227a5",
   "metadata": {},
   "outputs": [],
   "source": [
    "os.chdir('/mnt/c/Users/TBGPEA-Sean/git_repos/tbng_veg/')"
   ]
  },
  {
   "cell_type": "code",
   "execution_count": 10,
   "id": "0536a257-a7e0-4c9d-9cea-0027c83e3867",
   "metadata": {},
   "outputs": [
    {
     "data": {
      "text/plain": [
       "'/mnt/c/Users/TBGPEA-Sean/git_repos/tbng_veg'"
      ]
     },
     "execution_count": 10,
     "metadata": {},
     "output_type": "execute_result"
    }
   ],
   "source": [
    "os.getcwd()"
   ]
  },
  {
   "cell_type": "code",
   "execution_count": 3,
   "id": "7b19298d-087e-4b20-b740-1dbe8c0d5d7a",
   "metadata": {},
   "outputs": [],
   "source": [
    "gdf_texture = gpd.read_file('/mnt/d/TBNG/data/vectors/soil_products/TBNG_soiltexture_avg.shp')"
   ]
  },
  {
   "cell_type": "code",
   "execution_count": 12,
   "id": "ad3e96ad-5c08-43d6-8a23-45250d6ab1bf",
   "metadata": {},
   "outputs": [],
   "source": [
    "# load csv of ground data\n",
    "df_aoi_txt = pd.read_csv('data/bm_extract/TB_all_bm.csv', parse_dates=[1])"
   ]
  },
  {
   "cell_type": "code",
   "execution_count": 16,
   "id": "a1f5a34e-23cd-417f-a9da-f9f60d7ebe23",
   "metadata": {},
   "outputs": [],
   "source": [
    "gdf_aoi_txt = gpd.GeoDataFrame(data=df_aoi_txt, crs=gdf_texture.crs,\n",
    "                               geometry=gpd.points_from_xy(df_aoi_txt['gps_E'], df_aoi_txt['gps_N']))"
   ]
  },
  {
   "cell_type": "code",
   "execution_count": 21,
   "id": "f2c823ae-3eeb-482a-9d5f-621100aad4c7",
   "metadata": {},
   "outputs": [],
   "source": [
    "gdf_aoi_out = gpd.sjoin(gdf_aoi_txt, gdf_texture)"
   ]
  },
  {
   "cell_type": "code",
   "execution_count": 23,
   "id": "4c5abaa5-16db-44bd-b713-4e2186310295",
   "metadata": {},
   "outputs": [],
   "source": [
    "gdf_aoi_out.to_csv('data/bm_extract/TB_all_bm_soiltexture.csv', index=False)"
   ]
  },
  {
   "cell_type": "code",
   "execution_count": null,
   "id": "81033b8d-49f4-439a-ac60-957300ef6fb7",
   "metadata": {},
   "outputs": [],
   "source": []
  }
 ],
 "metadata": {
  "kernelspec": {
   "display_name": "Python 3 (ipykernel)",
   "language": "python",
   "name": "python3"
  },
  "language_info": {
   "codemirror_mode": {
    "name": "ipython",
    "version": 3
   },
   "file_extension": ".py",
   "mimetype": "text/x-python",
   "name": "python",
   "nbconvert_exporter": "python",
   "pygments_lexer": "ipython3",
   "version": "3.9.9"
  }
 },
 "nbformat": 4,
 "nbformat_minor": 5
}
