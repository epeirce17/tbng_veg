{
 "cells": [
  {
   "cell_type": "code",
   "execution_count": 1,
   "id": "7a73a3b9-cc2c-4030-994e-787012baefbc",
   "metadata": {},
   "outputs": [],
   "source": [
    "import pandas as pd\n",
    "import os\n",
    "import re\n",
    "import numpy as np\n",
    "import datetime\n",
    "import seaborn as sns\n",
    "import matplotlib.pyplot as plt"
   ]
  },
  {
   "cell_type": "markdown",
   "id": "ad41938d-edbf-4bbc-ad71-17f016a33167",
   "metadata": {},
   "source": [
    "# Create initial datasets"
   ]
  },
  {
   "cell_type": "markdown",
   "id": "20cbec71-bc3a-4038-80b9-a1fb75a4bff5",
   "metadata": {
    "tags": []
   },
   "source": [
    "### Setup input/output"
   ]
  },
  {
   "cell_type": "code",
   "execution_count": 2,
   "id": "684efaf3-056e-4da6-9eb1-83f8f7d73176",
   "metadata": {},
   "outputs": [],
   "source": [
    "# set base directory\n",
    "#baseDIR = '/mnt/d'\n",
    "baseDIR = 'T:/2-Projects/Thunder Basin/'\n",
    "\n",
    "# set input directory\n",
    "#inDIR = 'TBNG/data/veg/NEX'\n",
    "inDIR = 'NestedExclosures/Data/Multi-Year Data/'\n",
    "\n",
    "# set input file\n",
    "#inXLSX = '2015-2021 Herb_16nov2021ep.xlsx'\n",
    "#inXLSX = '2015-2021 Herb_24jan2022ep.xlsx'\n",
    "inXLSX = '2015-2021 Herb_8Mar2022ce_fixedVOR.xlsx'"
   ]
  },
  {
   "cell_type": "markdown",
   "id": "7847607e-6634-425e-8392-1ce9c88d45e5",
   "metadata": {},
   "source": [
    "### Load data"
   ]
  },
  {
   "cell_type": "code",
   "execution_count": 3,
   "id": "bf72a2ae-59cc-4c2a-879e-2b39b2caefef",
   "metadata": {},
   "outputs": [
    {
     "data": {
      "text/plain": [
       "['Metadata 15-21',\n",
       " 'VOR 15-21',\n",
       " 'Basal 15-21',\n",
       " 'Biomass-FQ 15-21',\n",
       " 'Cover 15-21',\n",
       " 'Pin Frame 16-21',\n",
       " 'Pin_Calibration17-21',\n",
       " 'Dung 15-21',\n",
       " 'Grouse Pellets 15-21',\n",
       " 'Ants 15-21',\n",
       " 'PDog_activity 17-21',\n",
       " 'Pin_CalibClip_Shrubs 17-18',\n",
       " 'Fires',\n",
       " 'SmMammExcl']"
      ]
     },
     "metadata": {},
     "output_type": "display_data"
    }
   ],
   "source": [
    "# create an Excel file object for investigating contents\n",
    "nex_xlsx = pd.ExcelFile(os.path.join(baseDIR, inDIR, inXLSX))\n",
    "#nex_xlsx = pd.ExcelFile(os.path.join('T:/2-Projects/Thunder Basin/NestedExclosures/Data/Multi-Year Data', inXLSX))\n",
    "\n",
    "# display the sheet names in the .xlsx file\n",
    "display(nex_xlsx.sheet_names)"
   ]
  },
  {
   "cell_type": "code",
   "execution_count": 4,
   "id": "8cb5173d-323a-4a8b-bb30-3091e07706ab",
   "metadata": {},
   "outputs": [],
   "source": [
    "# Create the desired dataframes by parsing the individual sheets\n",
    "df_nex_bm = nex_xlsx.parse(sheet_name='Biomass-FQ 15-21', header=1, usecols='C:AL')\n",
    "df_nex_pf = nex_xlsx.parse(sheet_name='Pin_Calibration17-21', header=0)\n",
    "df_nex_vor = nex_xlsx.parse(sheet_name='VOR 15-21', header=0)"
   ]
  },
  {
   "cell_type": "markdown",
   "id": "0633a129-e9bc-45a5-9181-18f5e98f8288",
   "metadata": {},
   "source": [
    "# Biomass dataset"
   ]
  },
  {
   "cell_type": "markdown",
   "id": "910225a1-bf3f-485b-bfcd-6855f0f261e3",
   "metadata": {},
   "source": [
    "#### Clean up dates"
   ]
  },
  {
   "cell_type": "code",
   "execution_count": 5,
   "id": "9d7adc51-9de7-47b1-bd07-d9834a3402e1",
   "metadata": {},
   "outputs": [],
   "source": [
    "# create a mask to identify all values that are 'date-like'\n",
    "dates_bm_mask = df_nex_bm['Date'].map(lambda x: bool(re.match('\\d\\d\\d\\d-\\d\\d-\\d\\d 00:00:00', str(x))))\n",
    "# summarize to find all unique values in the 'Date' column for each year\n",
    "dates_yrly_bm = pd.DataFrame(df_nex_bm.groupby('Year')['Date'].unique()).explode('Date')\n",
    "# create a mask of 'date-like' values from the unique values pulled for each year\n",
    "dates_yrly_bm_mask = dates_yrly_bm['Date'].map(lambda x: bool(re.match('\\d\\d\\d\\d-\\d\\d-\\d\\d 00:00:00', str(x))))\n",
    "# create a Series of the 'date-like' unique values\n",
    "dates_yrly_bm_good = dates_yrly_bm['Date'][dates_yrly_bm_mask].astype(np.datetime64)\n",
    "# get the average date for each month of each year for manually correcting vague dates\n",
    "dates_yrly_bm_avgs = dates_yrly_bm_good.groupby(['Year', dates_yrly_bm_good.dt.month_name()]).mean().dt.date"
   ]
  },
  {
   "cell_type": "code",
   "execution_count": 6,
   "id": "acb180cd-c4c0-4110-b45b-580754b44b81",
   "metadata": {},
   "outputs": [
    {
     "data": {
      "text/plain": [
       "Year  Date  \n",
       "2016  August    2016-08-02\n",
       "      July      2016-07-08\n",
       "2017  July      2017-07-19\n",
       "2018  August    2018-08-03\n",
       "      July      2018-07-16\n",
       "      June      2018-06-16\n",
       "2019  August    2019-08-06\n",
       "      July      2019-07-16\n",
       "      June      2019-06-25\n",
       "2020  August    2020-08-06\n",
       "      July      2020-07-07\n",
       "2021  August    2021-08-04\n",
       "      July      2021-07-13\n",
       "      June      2021-06-30\n",
       "Name: Date, dtype: object"
      ]
     },
     "metadata": {},
     "output_type": "display_data"
    }
   ],
   "source": [
    "# display the average dates for each month of each year\n",
    "display(dates_yrly_bm_avgs)"
   ]
  },
  {
   "cell_type": "code",
   "execution_count": 7,
   "id": "95596f65-b78b-48bf-ad7a-ef942f6bc30b",
   "metadata": {},
   "outputs": [
    {
     "data": {
      "text/plain": [
       "Year\n",
       "2015                     na\n",
       "2015           7/20-23/2015\n",
       "2015          7/27-8/5/2015\n",
       "2016           6/6-6/9/2016\n",
       "2016          na, July 2016\n",
       "2017          na, June 2017\n",
       "2017          na, July 2017\n",
       "2017        na, August 2017\n",
       "2020    7/6/2020 - 7/7/2020\n",
       "2020    7/8/2020 - 7/9/2020\n",
       "2020      8/4/2020-8/5/2020\n",
       "Name: Date, dtype: object"
      ]
     },
     "metadata": {},
     "output_type": "display_data"
    }
   ],
   "source": [
    "# display the unique non-'date-like' values present in each year\n",
    "display(dates_yrly_bm['Date'][~dates_yrly_bm_mask])"
   ]
  },
  {
   "cell_type": "code",
   "execution_count": 8,
   "id": "9390d907-01d8-4054-9963-0291c5fc6e7e",
   "metadata": {},
   "outputs": [],
   "source": [
    "# create a dictionary to manually change non-'date-like' values to dates\n",
    "dates_bm_dict = {\n",
    "    2015: {\n",
    "        'na': pd.to_datetime('2015-07-27').date(),\n",
    "        '7/20-23/2015': pd.to_datetime('2015-07-21').date(),\n",
    "        '7/27-8/5/2015': pd.to_datetime('2015-08-01').date()\n",
    "    },\n",
    "    2016: {\n",
    "        'na, July 2016': dates_yrly_bm_avgs.loc[(2016, 'July')],\n",
    "        '6/6-6/9/2016': pd.to_datetime('2016-06-08').date(),\n",
    "    },\n",
    "    2017: {\n",
    "        'na, June 2017': pd.to_datetime('2017-06-22').date(),\n",
    "        'na, July 2017': dates_yrly_bm_avgs.loc[(2017, 'July')],\n",
    "        'na, August 2017': pd.to_datetime('2017-08-04').date(),\n",
    "    },\n",
    "    2020: {\n",
    "        '7/6/2020 - 7/7/2020': pd.to_datetime('2020-07-07').date(),\n",
    "        '7/8/2020 - 7/9/2020': pd.to_datetime('2020-07-09').date(),\n",
    "        '8/4/2020-8/5/2020': pd.to_datetime('2020-08-05').date()\n",
    "    }\n",
    "}"
   ]
  },
  {
   "cell_type": "code",
   "execution_count": 9,
   "id": "83fa069e-db8a-4bcf-8c9e-4a62ce00db06",
   "metadata": {},
   "outputs": [],
   "source": [
    "# Create a new column of cleaned up dates from 'date-like' values and manual replacement\n",
    "df_nex_bm.loc[dates_bm_mask, \n",
    "              'Date_cln'] = df_nex_bm['Date'][dates_bm_mask].astype(np.datetime64).dt.date\n",
    "df_nex_bm.loc[~dates_bm_mask, \n",
    "              'Date_cln'] = df_nex_bm[~dates_bm_mask].apply(lambda x: dates_bm_dict[x.Year][x.Date], axis=1)\n",
    "df_nex_bm['Date_cln'] = df_nex_bm['Date_cln'].astype(np.datetime64)"
   ]
  },
  {
   "cell_type": "code",
   "execution_count": 10,
   "id": "8b406476-69d0-4300-afba-2467f3e8d7ec",
   "metadata": {},
   "outputs": [
    {
     "data": {
      "text/plain": [
       "Year                                 int64\n",
       "Date                                object\n",
       "Transect ID                         object\n",
       "Site                                object\n",
       "Disturbance                         object\n",
       "Exclosure                           object\n",
       "Rep                                  int64\n",
       "Biomass?                            object\n",
       "Forage?                             object\n",
       "Pin Frame?                          object\n",
       "Area (m^2)                         float64\n",
       "% ARTR                              object\n",
       "% sd ARTR                          float64\n",
       "% KRLA                              object\n",
       "% ARCA                             float64\n",
       "% ATCA                             float64\n",
       "# OPPO cladodes                    float64\n",
       "# COVI                             float64\n",
       "% OPPO                             float64\n",
       "Total Weight (g)                   float64\n",
       "Total Weight (g/m^2)               float64\n",
       "How weighed?                        object\n",
       "C4 weight (g)                       object\n",
       "C3 weight (g)                       object\n",
       "Bromes weight (g)                   object\n",
       "Forbs weight (g)                   float64\n",
       "Ann Forb weight (g)                 object\n",
       "Per Forb weight (g)                 object\n",
       "VUOC weight (g)                     object\n",
       "Subshrub weight (g)                 object\n",
       "Standing Dead weight (g)           float64\n",
       "BOGR/BUDA                           object\n",
       "Other                               object\n",
       "Check                              float64\n",
       "Ward Lab ID                         object\n",
       "PASM or COMP?                       object\n",
       "Date_cln                    datetime64[ns]\n",
       "dtype: object"
      ]
     },
     "metadata": {},
     "output_type": "display_data"
    }
   ],
   "source": [
    "# display data types\n",
    "display(df_nex_bm.dtypes)"
   ]
  },
  {
   "cell_type": "code",
   "execution_count": 11,
   "id": "ff8987d7-5cc9-4905-938c-e8c83b829d26",
   "metadata": {},
   "outputs": [],
   "source": [
    "# remove all rows with weight value entered as 'x'\n",
    "df_nex_bm = df_nex_bm[~(\n",
    "    df_nex_bm.loc[:, df_nex_bm.columns.str.contains('eight \\(g\\)')] == 'x').any(axis=1)]\n",
    "\n",
    "# convert weight values to float\n",
    "df_nex_bm.loc[:, df_nex_bm.columns.str.contains('eight \\(g\\)')] = df_nex_bm.loc[:, df_nex_bm.columns.str.contains('eight \\(g\\)')].astype('float')\n",
    "\n",
    "# remove all rows with NA values for Total weight, including those signified with negative values\n",
    "df_nex_bm = df_nex_bm[df_nex_bm['Total Weight (g)'].notnull()]\n",
    "df_nex_bm = df_nex_bm[df_nex_bm['Total Weight (g)'] >= 0]\n",
    "\n",
    "# remove all clipping done for PASM only\n",
    "df_nex_bm = df_nex_bm[df_nex_bm['PASM or COMP?'] != 'PASM']\n",
    "\n",
    "# manually remove several rows with missing data not yet classified with -1\n",
    "#df_nex_bm = df_nex_bm[~((df_nex_bm['Date_cln'] == pd.to_datetime('2020-08-05')) &\n",
    "#                        (df_nex_bm['Transect ID'] == 'west fork-control-ungulate ex'))]\n",
    "\n",
    "#df_nex_bm = df_nex_bm[~((df_nex_bm['Date_cln'] == pd.to_datetime('2020-08-06')) &\n",
    "#                        (df_nex_bm['Transect ID'] == 'wildcat-control-livestock ex'))]\n",
    "\n",
    "#df_nex_bm = df_nex_bm[~((df_nex_bm['Date_cln'] == pd.to_datetime('2020-08-06')) &\n",
    "#                        (df_nex_bm['Transect ID'] == 'wildcat-control-out'))]"
   ]
  },
  {
   "cell_type": "markdown",
   "id": "7e1c8bdc-9b7a-4f75-b174-6d7356de0297",
   "metadata": {},
   "source": [
    "### Prep biomass values for joining to pin frame"
   ]
  },
  {
   "cell_type": "code",
   "execution_count": 12,
   "id": "bf4b9316-8d29-4830-a5e5-f82895f3e44b",
   "metadata": {},
   "outputs": [],
   "source": [
    "# create separate biomass dataframe that has functional group data for pinframe calibration\n",
    "df_nex_bm_fg = df_nex_bm[df_nex_bm['Pin Frame?'] == 'x'].copy(deep=True)"
   ]
  },
  {
   "cell_type": "code",
   "execution_count": 13,
   "id": "061e7163-2f1a-44b6-9d40-38e89dc6f665",
   "metadata": {},
   "outputs": [],
   "source": [
    "# fill all functional group clipping NA values with zeros for averaging\n",
    "df_nex_bm_fg.loc[\n",
    "    :, df_nex_bm_fg.columns.str.contains('weight \\(g\\)')] = df_nex_bm_fg.loc[\n",
    "    :, df_nex_bm_fg.columns.str.contains('weight \\(g\\)')].fillna(0)\n",
    "df_nex_bm_fg.loc[:, 'BOGR/BUDA'] = df_nex_bm_fg.loc[:, 'BOGR/BUDA'].fillna(0)\n",
    "\n",
    "# remove all rows with negative values or convert to NAN\n",
    "remove_indv_na = False\n",
    "if remove_indv_na:\n",
    "    df_nex_bm_fg = df_nex_bm_fg[~(\n",
    "        df_nex_bm_fg.loc[:, df_nex_bm_fg.columns.str.contains('weight \\(g\\)')] < 0).any(axis=1)]\n",
    "    df_nex_bm_fg = df_nex_bm_fg[~(df_nex_bm_fg.loc[:, 'BOGR/BUDA'] < 0)]\n",
    "else:\n",
    "    for c in list(df_nex_bm_fg.columns[df_nex_bm_fg.columns.str.contains('weight \\(g\\)')]) + ['BOGR/BUDA']:\n",
    "        df_nex_bm_fg[c] = df_nex_bm_fg[c].apply(lambda x: np.nan if x < 0 else x)"
   ]
  },
  {
   "cell_type": "code",
   "execution_count": 14,
   "id": "652f125f-052e-4a71-b9ac-5ca53b9defca",
   "metadata": {},
   "outputs": [
    {
     "data": {
      "text/plain": [
       "Index(['C4 weight (g)', 'C3 weight (g)', 'Bromes weight (g)',\n",
       "       'Forbs weight (g)', 'Ann Forb weight (g)', 'Per Forb weight (g)',\n",
       "       'VUOC weight (g)', 'Subshrub weight (g)', 'Standing Dead weight (g)'],\n",
       "      dtype='object')"
      ]
     },
     "execution_count": 14,
     "metadata": {},
     "output_type": "execute_result"
    }
   ],
   "source": [
    "df_nex_bm_fg.loc[\n",
    "    :, df_nex_bm_fg.columns.str.contains('weight \\(g\\)')].columns"
   ]
  },
  {
   "cell_type": "code",
   "execution_count": 15,
   "id": "5fbe1324-c415-43eb-a3a4-0157f2dbe047",
   "metadata": {},
   "outputs": [],
   "source": [
    "# create additional functional group groupings\n",
    "df_nex_bm_fg['Ann Grass weight (g)'] = df_nex_bm_fg['Bromes weight (g)'] + df_nex_bm_fg['VUOC weight (g)']"
   ]
  },
  {
   "cell_type": "code",
   "execution_count": 16,
   "id": "0dfc04f8-9671-47ed-8a58-0e38671953d8",
   "metadata": {},
   "outputs": [],
   "source": [
    "# create consistent Forbs weight across all years\n",
    "forb_years = df_nex_bm_fg.loc[(df_nex_bm_fg['Forbs weight (g)'].isnull() | df_nex_bm_fg['Forbs weight (g)'] == 0) & \n",
    "              (df_nex_bm_fg[['Ann Forb weight (g)', 'Per Forb weight (g)']].notnull().all(axis=1) & \n",
    "               df_nex_bm_fg[['Ann Forb weight (g)', 'Per Forb weight (g)']].sum(axis=1) != 0),\n",
    "                           'Year'].unique()\n",
    "df_nex_bm_fg['Forbs weight (g)'] = df_nex_bm_fg.apply(\n",
    "    lambda x: (x['Ann Forb weight (g)'] + x['Per Forb weight (g)']) if x['Year'] in forb_years else x['Forbs weight (g)'],\n",
    "    axis=1)\n",
    "\n",
    "# create consistent C4 weight across all years\n",
    "c4_years = df_nex_bm_fg.loc[(df_nex_bm_fg['BOGR/BUDA'].notnull() | df_nex_bm_fg['BOGR/BUDA'] != 0) &\n",
    "                            (df_nex_bm_fg['C4 weight (g)'].isnull() | df_nex_bm_fg['C4 weight (g)'] == 0), 'Year'].unique()\n",
    "\n",
    "df_nex_bm_fg['C4 weight (g)'] = df_nex_bm_fg.apply(\n",
    "    lambda x: x['C4 weight (g)'] + x['BOGR/BUDA'] if x['Year'] in c4_years else x['C4 weight (g)'],\n",
    "    axis=1)"
   ]
  },
  {
   "cell_type": "code",
   "execution_count": 17,
   "id": "6d798abe-f04b-4ca4-8fef-77055af86e47",
   "metadata": {},
   "outputs": [
    {
     "data": {
      "text/plain": [
       "array([2017, 2018, 2019, 2020], dtype=int64)"
      ]
     },
     "execution_count": 17,
     "metadata": {},
     "output_type": "execute_result"
    }
   ],
   "source": [
    "c4_years"
   ]
  },
  {
   "cell_type": "code",
   "execution_count": 18,
   "id": "dc43947b-21fb-4014-8b1b-d87a11dffc5f",
   "metadata": {},
   "outputs": [],
   "source": [
    "# create columns for aerial density of functional group biomass\n",
    "for c in [c for c in df_nex_bm_fg.columns if ' (g)' in c]:\n",
    "    df_nex_bm_fg[re.sub(' \\(g\\)', ' (g/m^2)', c)] = df_nex_bm_fg[c] * 2.0"
   ]
  },
  {
   "cell_type": "code",
   "execution_count": 19,
   "id": "3ecc374b-4250-43ec-a244-a4b537bed210",
   "metadata": {},
   "outputs": [
    {
     "data": {
      "text/html": [
       "<div>\n",
       "<style scoped>\n",
       "    .dataframe tbody tr th:only-of-type {\n",
       "        vertical-align: middle;\n",
       "    }\n",
       "\n",
       "    .dataframe tbody tr th {\n",
       "        vertical-align: top;\n",
       "    }\n",
       "\n",
       "    .dataframe thead th {\n",
       "        text-align: right;\n",
       "    }\n",
       "</style>\n",
       "<table border=\"1\" class=\"dataframe\">\n",
       "  <thead>\n",
       "    <tr style=\"text-align: right;\">\n",
       "      <th></th>\n",
       "      <th>Year</th>\n",
       "      <th>Date</th>\n",
       "      <th>Transect ID</th>\n",
       "      <th>Site</th>\n",
       "      <th>Disturbance</th>\n",
       "      <th>Exclosure</th>\n",
       "      <th>Rep</th>\n",
       "      <th>Biomass?</th>\n",
       "      <th>Forage?</th>\n",
       "      <th>Pin Frame?</th>\n",
       "      <th>...</th>\n",
       "      <th>C4 weight (g/m^2)</th>\n",
       "      <th>C3 weight (g/m^2)</th>\n",
       "      <th>Bromes weight (g/m^2)</th>\n",
       "      <th>Forbs weight (g/m^2)</th>\n",
       "      <th>Ann Forb weight (g/m^2)</th>\n",
       "      <th>Per Forb weight (g/m^2)</th>\n",
       "      <th>VUOC weight (g/m^2)</th>\n",
       "      <th>Subshrub weight (g/m^2)</th>\n",
       "      <th>Standing Dead weight (g/m^2)</th>\n",
       "      <th>Ann Grass weight (g/m^2)</th>\n",
       "    </tr>\n",
       "  </thead>\n",
       "  <tbody>\n",
       "    <tr>\n",
       "      <th>1274</th>\n",
       "      <td>2020</td>\n",
       "      <td>8/4/2020-8/5/2020</td>\n",
       "      <td>west fork-control-ungulate ex</td>\n",
       "      <td>west fork</td>\n",
       "      <td>control</td>\n",
       "      <td>ungulate ex</td>\n",
       "      <td>1</td>\n",
       "      <td>x</td>\n",
       "      <td>x</td>\n",
       "      <td>x</td>\n",
       "      <td>...</td>\n",
       "      <td>4.70</td>\n",
       "      <td>24.44</td>\n",
       "      <td>11.2200</td>\n",
       "      <td>NaN</td>\n",
       "      <td>NaN</td>\n",
       "      <td>0.6</td>\n",
       "      <td>0.3164</td>\n",
       "      <td>22.1</td>\n",
       "      <td>58.20</td>\n",
       "      <td>11.5364</td>\n",
       "    </tr>\n",
       "    <tr>\n",
       "      <th>1281</th>\n",
       "      <td>2020</td>\n",
       "      <td>2020-08-06 00:00:00</td>\n",
       "      <td>wildcat-control-livestock ex</td>\n",
       "      <td>wildcat</td>\n",
       "      <td>control</td>\n",
       "      <td>livestock ex</td>\n",
       "      <td>1</td>\n",
       "      <td>x</td>\n",
       "      <td>x</td>\n",
       "      <td>x</td>\n",
       "      <td>...</td>\n",
       "      <td>11.46</td>\n",
       "      <td>38.86</td>\n",
       "      <td>0.0218</td>\n",
       "      <td>NaN</td>\n",
       "      <td>0.0332</td>\n",
       "      <td>NaN</td>\n",
       "      <td>0.0400</td>\n",
       "      <td>0.0</td>\n",
       "      <td>18.74</td>\n",
       "      <td>0.0618</td>\n",
       "    </tr>\n",
       "  </tbody>\n",
       "</table>\n",
       "<p>2 rows × 48 columns</p>\n",
       "</div>"
      ],
      "text/plain": [
       "      Year                 Date                    Transect ID       Site  \\\n",
       "1274  2020    8/4/2020-8/5/2020  west fork-control-ungulate ex  west fork   \n",
       "1281  2020  2020-08-06 00:00:00   wildcat-control-livestock ex    wildcat   \n",
       "\n",
       "     Disturbance     Exclosure  Rep Biomass? Forage? Pin Frame?  ...  \\\n",
       "1274     control   ungulate ex    1        x       x          x  ...   \n",
       "1281     control  livestock ex    1        x       x          x  ...   \n",
       "\n",
       "      C4 weight (g/m^2) C3 weight (g/m^2)  Bromes weight (g/m^2)  \\\n",
       "1274               4.70             24.44                11.2200   \n",
       "1281              11.46             38.86                 0.0218   \n",
       "\n",
       "     Forbs weight (g/m^2)  Ann Forb weight (g/m^2)  Per Forb weight (g/m^2)  \\\n",
       "1274                  NaN                      NaN                      0.6   \n",
       "1281                  NaN                   0.0332                      NaN   \n",
       "\n",
       "      VUOC weight (g/m^2)  Subshrub weight (g/m^2)  \\\n",
       "1274               0.3164                     22.1   \n",
       "1281               0.0400                      0.0   \n",
       "\n",
       "      Standing Dead weight (g/m^2)  Ann Grass weight (g/m^2)  \n",
       "1274                         58.20                   11.5364  \n",
       "1281                         18.74                    0.0618  \n",
       "\n",
       "[2 rows x 48 columns]"
      ]
     },
     "execution_count": 19,
     "metadata": {},
     "output_type": "execute_result"
    }
   ],
   "source": [
    "df_nex_bm_fg.loc[((df_nex_bm_fg['Forbs weight (g)'].isnull()) | (df_nex_bm_fg['Forbs weight (g)'] == 0)) & \n",
    "              (df_nex_bm_fg[['Ann Forb weight (g)', 'Per Forb weight (g)']].sum(axis=1) != 0)]"
   ]
  },
  {
   "cell_type": "code",
   "execution_count": 20,
   "id": "afbca94a-fea3-44bf-9185-3cc904ae5c1c",
   "metadata": {},
   "outputs": [
    {
     "data": {
      "text/html": [
       "<div>\n",
       "<style scoped>\n",
       "    .dataframe tbody tr th:only-of-type {\n",
       "        vertical-align: middle;\n",
       "    }\n",
       "\n",
       "    .dataframe tbody tr th {\n",
       "        vertical-align: top;\n",
       "    }\n",
       "\n",
       "    .dataframe thead th {\n",
       "        text-align: right;\n",
       "    }\n",
       "</style>\n",
       "<table border=\"1\" class=\"dataframe\">\n",
       "  <thead>\n",
       "    <tr style=\"text-align: right;\">\n",
       "      <th></th>\n",
       "      <th>Year</th>\n",
       "      <th>Date</th>\n",
       "      <th>Transect ID</th>\n",
       "      <th>Site</th>\n",
       "      <th>Disturbance</th>\n",
       "      <th>Exclosure</th>\n",
       "      <th>Rep</th>\n",
       "      <th>Biomass?</th>\n",
       "      <th>Forage?</th>\n",
       "      <th>Pin Frame?</th>\n",
       "      <th>...</th>\n",
       "      <th>C4 weight (g/m^2)</th>\n",
       "      <th>C3 weight (g/m^2)</th>\n",
       "      <th>Bromes weight (g/m^2)</th>\n",
       "      <th>Forbs weight (g/m^2)</th>\n",
       "      <th>Ann Forb weight (g/m^2)</th>\n",
       "      <th>Per Forb weight (g/m^2)</th>\n",
       "      <th>VUOC weight (g/m^2)</th>\n",
       "      <th>Subshrub weight (g/m^2)</th>\n",
       "      <th>Standing Dead weight (g/m^2)</th>\n",
       "      <th>Ann Grass weight (g/m^2)</th>\n",
       "    </tr>\n",
       "  </thead>\n",
       "  <tbody>\n",
       "  </tbody>\n",
       "</table>\n",
       "<p>0 rows × 48 columns</p>\n",
       "</div>"
      ],
      "text/plain": [
       "Empty DataFrame\n",
       "Columns: [Year, Date, Transect ID, Site, Disturbance, Exclosure, Rep, Biomass?, Forage?, Pin Frame?, Area (m^2), % ARTR, % sd ARTR, % KRLA, % ARCA, % ATCA, # OPPO cladodes, # COVI, % OPPO, Total Weight (g), Total Weight (g/m^2), How weighed?, C4 weight (g), C3 weight (g), Bromes weight (g), Forbs weight (g), Ann Forb weight (g), Per Forb weight (g), VUOC weight (g), Subshrub weight (g), Standing Dead weight (g), BOGR/BUDA, Other, Check, Ward Lab ID, PASM or COMP?, Date_cln, Ann Grass weight (g), C4 weight (g/m^2), C3 weight (g/m^2), Bromes weight (g/m^2), Forbs weight (g/m^2), Ann Forb weight (g/m^2), Per Forb weight (g/m^2), VUOC weight (g/m^2), Subshrub weight (g/m^2), Standing Dead weight (g/m^2), Ann Grass weight (g/m^2)]\n",
       "Index: []\n",
       "\n",
       "[0 rows x 48 columns]"
      ]
     },
     "execution_count": 20,
     "metadata": {},
     "output_type": "execute_result"
    }
   ],
   "source": [
    "df_nex_bm_fg.loc[((df_nex_bm_fg['C4 weight (g)'].isnull()) | (df_nex_bm_fg['C4 weight (g)'] == 0)) & \n",
    "              (df_nex_bm_fg['BOGR/BUDA'].notnull() & df_nex_bm_fg['BOGR/BUDA'] != 0)]"
   ]
  },
  {
   "cell_type": "code",
   "execution_count": 21,
   "id": "2080cb40-5992-49d1-99d4-6a86131d8fbe",
   "metadata": {},
   "outputs": [
    {
     "data": {
      "text/html": [
       "<div>\n",
       "<style scoped>\n",
       "    .dataframe tbody tr th:only-of-type {\n",
       "        vertical-align: middle;\n",
       "    }\n",
       "\n",
       "    .dataframe tbody tr th {\n",
       "        vertical-align: top;\n",
       "    }\n",
       "\n",
       "    .dataframe thead th {\n",
       "        text-align: right;\n",
       "    }\n",
       "</style>\n",
       "<table border=\"1\" class=\"dataframe\">\n",
       "  <thead>\n",
       "    <tr style=\"text-align: right;\">\n",
       "      <th></th>\n",
       "      <th>Year</th>\n",
       "      <th>Date</th>\n",
       "      <th>Transect ID</th>\n",
       "      <th>Site</th>\n",
       "      <th>Disturbance</th>\n",
       "      <th>Exclosure</th>\n",
       "      <th>Rep</th>\n",
       "      <th>Biomass?</th>\n",
       "      <th>Forage?</th>\n",
       "      <th>Pin Frame?</th>\n",
       "      <th>...</th>\n",
       "      <th>C4 weight (g/m^2)</th>\n",
       "      <th>C3 weight (g/m^2)</th>\n",
       "      <th>Bromes weight (g/m^2)</th>\n",
       "      <th>Forbs weight (g/m^2)</th>\n",
       "      <th>Ann Forb weight (g/m^2)</th>\n",
       "      <th>Per Forb weight (g/m^2)</th>\n",
       "      <th>VUOC weight (g/m^2)</th>\n",
       "      <th>Subshrub weight (g/m^2)</th>\n",
       "      <th>Standing Dead weight (g/m^2)</th>\n",
       "      <th>Ann Grass weight (g/m^2)</th>\n",
       "    </tr>\n",
       "  </thead>\n",
       "  <tbody>\n",
       "  </tbody>\n",
       "</table>\n",
       "<p>0 rows × 48 columns</p>\n",
       "</div>"
      ],
      "text/plain": [
       "Empty DataFrame\n",
       "Columns: [Year, Date, Transect ID, Site, Disturbance, Exclosure, Rep, Biomass?, Forage?, Pin Frame?, Area (m^2), % ARTR, % sd ARTR, % KRLA, % ARCA, % ATCA, # OPPO cladodes, # COVI, % OPPO, Total Weight (g), Total Weight (g/m^2), How weighed?, C4 weight (g), C3 weight (g), Bromes weight (g), Forbs weight (g), Ann Forb weight (g), Per Forb weight (g), VUOC weight (g), Subshrub weight (g), Standing Dead weight (g), BOGR/BUDA, Other, Check, Ward Lab ID, PASM or COMP?, Date_cln, Ann Grass weight (g), C4 weight (g/m^2), C3 weight (g/m^2), Bromes weight (g/m^2), Forbs weight (g/m^2), Ann Forb weight (g/m^2), Per Forb weight (g/m^2), VUOC weight (g/m^2), Subshrub weight (g/m^2), Standing Dead weight (g/m^2), Ann Grass weight (g/m^2)]\n",
       "Index: []\n",
       "\n",
       "[0 rows x 48 columns]"
      ]
     },
     "execution_count": 21,
     "metadata": {},
     "output_type": "execute_result"
    }
   ],
   "source": [
    "df_nex_bm_fg.loc[df_nex_bm_fg['C4 weight (g)'].isnull()]"
   ]
  },
  {
   "cell_type": "markdown",
   "id": "afab8773-f63e-4d9b-b06a-1190592ea9bb",
   "metadata": {},
   "source": [
    "### Visualize data to check that it makes sense"
   ]
  },
  {
   "cell_type": "code",
   "execution_count": 22,
   "id": "54524b9e-6f40-4527-baba-366275d23246",
   "metadata": {},
   "outputs": [
    {
     "data": {
      "text/plain": [
       "<seaborn.axisgrid.FacetGrid at 0x17406a16940>"
      ]
     },
     "execution_count": 22,
     "metadata": {},
     "output_type": "execute_result"
    },
    {
     "data": {
      "image/png": "[encoded data removed]",
      "text/plain": [
       "<Figure size 1170.38x1440 with 12 Axes>"
      ]
     },
     "metadata": {
      "needs_background": "light"
     },
     "output_type": "display_data"
    }
   ],
   "source": [
    "# plot pin-frame calibration data\n",
    "sns.relplot(x='Date_cln', y='Total Weight (g/m^2)', hue='Disturbance', col='Exclosure', row='Site',\n",
    "            data=df_nex_bm_fg, kind='line', marker=\"o\")"
   ]
  },
  {
   "cell_type": "markdown",
   "id": "60701ef6-e67c-4adf-acaa-d40a5043319a",
   "metadata": {
    "tags": []
   },
   "source": [
    "# Pin Frame Dataset"
   ]
  },
  {
   "cell_type": "markdown",
   "id": "7a323d34-bf6b-44cd-88c3-50dfb2234502",
   "metadata": {},
   "source": [
    "### Combine Biomass and Pin Frame datasets"
   ]
  },
  {
   "cell_type": "code",
   "execution_count": 23,
   "id": "e220329d-d55c-47be-9fee-8128dbfab475",
   "metadata": {},
   "outputs": [],
   "source": [
    "# Create a new column in the Pin Frame dataframe pulling the nearest Biomass sampling date\n",
    "df_nex_pf = pd.merge_asof(df_nex_pf.sort_values('Date'), \n",
    "                          df_nex_bm_fg.groupby(['Site',\n",
    "                                             'Disturbance',\n",
    "                                             'Exclosure',\n",
    "                                             'Date_cln']).mean().reset_index().sort_values('Date_cln')[['Site',\n",
    "                                                                                                        'Disturbance',\n",
    "                                                                                                        'Exclosure',\n",
    "                                                                                                        'Total Weight (g/m^2)',\n",
    "                                                                                                        'C4 weight (g/m^2)',\n",
    "                                                                                                        'C3 weight (g/m^2)', \n",
    "                                                                                                        'Forbs weight (g/m^2)', \n",
    "                                                                                                        'Bromes weight (g/m^2)',\n",
    "                                                                                                        'VUOC weight (g/m^2)',\n",
    "                                                                                                        'Ann Grass weight (g/m^2)', \n",
    "                                                                                                        'Subshrub weight (g/m^2)',\n",
    "                                                                                                        'Standing Dead weight (g/m^2)',\n",
    "                                                                                                        'Date_cln']],\n",
    "                          left_on='Date',\n",
    "                          right_on='Date_cln',\n",
    "                          by=['Site', 'Disturbance', 'Exclosure'],\n",
    "                          direction='nearest',\n",
    "                          tolerance=datetime.timedelta(days=15),\n",
    "                          suffixes=['_x', ''])"
   ]
  },
  {
   "cell_type": "code",
   "execution_count": 24,
   "id": "4ad6d041-e860-401d-8adc-d346605f4007",
   "metadata": {},
   "outputs": [],
   "source": [
    "# drop any records missing Biomass data\n",
    "df_nex_pf = df_nex_pf[df_nex_pf['Total Weight (g/m^2)'].notnull()]"
   ]
  },
  {
   "cell_type": "code",
   "execution_count": 25,
   "id": "b99f913b-9365-4bea-b800-ad58961c78a1",
   "metadata": {},
   "outputs": [
    {
     "data": {
      "text/plain": [
       "array([], dtype=object)"
      ]
     },
     "execution_count": 25,
     "metadata": {},
     "output_type": "execute_result"
    }
   ],
   "source": [
    "# Check that all values in the newly created column are present in the Biomass dates (result should be empty)\n",
    "df_nex_pf['Date_cln'].sort_values().astype('str')[~df_nex_pf['Date_cln'].sort_values().isin(\n",
    "    df_nex_bm_fg[df_nex_bm_fg['Year'] >= 2017]['Date_cln'])].unique()"
   ]
  },
  {
   "cell_type": "markdown",
   "id": "db2e8369-f58f-4602-a148-72c361ba7339",
   "metadata": {},
   "source": [
    "### Clean up Pin Frame dataset"
   ]
  },
  {
   "cell_type": "code",
   "execution_count": 26,
   "id": "42058a64-f4d3-4826-9972-b53b72fe7312",
   "metadata": {},
   "outputs": [],
   "source": [
    "# drop basal hits\n",
    "df_nex_pf = df_nex_pf[df_nex_pf['Position'] != 'basal']\n",
    "\n",
    "# drop shrub and cactus hits since no clip data available\n",
    "df_nex_pf = df_nex_pf.drop(columns='Shrub/OPPO')"
   ]
  },
  {
   "cell_type": "code",
   "execution_count": 27,
   "id": "617a5b52-0257-40bf-b6db-413e4da82686",
   "metadata": {},
   "outputs": [],
   "source": [
    "# calculate forb hits\n",
    "df_nex_pf['Forb'] = df_nex_pf['AnnualForb'] + df_nex_pf['PerennialForb']\n",
    "\n",
    "# calculate annual grass hits\n",
    "df_nex_pf['Annual Grass'] = df_nex_pf['Brome'] + df_nex_pf['VUOC']"
   ]
  },
  {
   "cell_type": "markdown",
   "id": "1bf65248-7e6a-4ca9-acae-215f66648b49",
   "metadata": {},
   "source": [
    "### Calculate appropriate values at the experimental unit level"
   ]
  },
  {
   "cell_type": "code",
   "execution_count": 28,
   "id": "6ee83e81-47fc-4e26-8d79-1a5eec7d349e",
   "metadata": {},
   "outputs": [],
   "source": [
    "# aggregate data by experimental unit\n",
    "df_nex_pf_agg = df_nex_pf.groupby(\n",
    "    ['Site', 'Disturbance', 'Exclosure', 'Date_cln']).aggregate(\n",
    "    {'Total Hits': np.sum,\n",
    "     'C4P Grass': np.sum,\n",
    "     'C3P Grass': np.sum,\n",
    "     'Annual Grass': np.sum,\n",
    "     'Forb': np.sum,\n",
    "     'Brome': np.sum,\n",
    "     'VUOC': np.sum,\n",
    "     'Subshrub': np.sum,\n",
    "     'StandingDead': np.sum,\n",
    "     'TotalHerbHits': np.sum,\n",
    "     'Total Weight (g/m^2)': np.mean,\n",
    "     'C4 weight (g/m^2)': np.mean,\n",
    "     'C3 weight (g/m^2)': np.mean,\n",
    "     'Forbs weight (g/m^2)': np.mean,\n",
    "     'Bromes weight (g/m^2)': np.mean,\n",
    "     'VUOC weight (g/m^2)': np.mean,\n",
    "     'Ann Grass weight (g/m^2)': np.mean,\n",
    "     'Subshrub weight (g/m^2)': np.mean,\n",
    "     'Standing Dead weight (g/m^2)': np.mean}).reset_index()"
   ]
  },
  {
   "cell_type": "code",
   "execution_count": 29,
   "id": "62208ff8-cd88-4145-be01-b9a32658e285",
   "metadata": {},
   "outputs": [],
   "source": [
    "pf_colname_mapper = {\n",
    "    'C4P Grass': 'hits_C4',\n",
    "    'C3P Grass': 'hits_C3',\n",
    "    'Annual Grass': 'hits_AnnGrass',\n",
    "    'Forb': 'hits_Forb',\n",
    "    'Brome': 'hits_Brome',\n",
    "    'VUOC': 'hits_VUOC',\n",
    "    'Subshrub': 'hits_Subshrub',\n",
    "    'StandingDead': 'hits_SD',\n",
    "    'TotalHerbHits': 'hits_Total',\n",
    "    'C4 weight (g/m^2)': 'weight_C4',\n",
    "    'C3 weight (g/m^2)': 'weight_C3',\n",
    "    'Ann Grass weight (g/m^2)': 'weight_AnnGrass',\n",
    "    'Forbs weight (g/m^2)': 'weight_Forb',\n",
    "    'Bromes weight (g/m^2)': 'weight_Brome',\n",
    "    'VUOC weight (g/m^2)': 'weight_VUOC',\n",
    "    'Subshrub weight (g/m^2)': 'weight_Subshrub',\n",
    "    'Standing Dead weight (g/m^2)': 'weight_SD',\n",
    "    'Total Weight (g/m^2)': 'weight_Total'\n",
    "}\n",
    "\n",
    "df_nex_pf_agg = df_nex_pf_agg.rename(columns=pf_colname_mapper)"
   ]
  },
  {
   "cell_type": "code",
   "execution_count": 30,
   "id": "65601d8a-d1f6-4777-8f32-48cc93d48130",
   "metadata": {},
   "outputs": [],
   "source": [
    "# reset the year column\n",
    "df_nex_pf_agg['Year'] = df_nex_pf_agg['Date_cln'].dt.year\n",
    "\n",
    "# rename date column\n",
    "df_nex_pf_agg = df_nex_pf_agg.rename(columns={'Date_cln': 'Date'})"
   ]
  },
  {
   "cell_type": "markdown",
   "id": "e65a96fb-c42c-4cea-bb39-9da13664d3b1",
   "metadata": {},
   "source": [
    "### Create long-form version of data"
   ]
  },
  {
   "cell_type": "code",
   "execution_count": 31,
   "id": "22f969e1-d72a-4ec4-8029-ea48a6ad2fab",
   "metadata": {},
   "outputs": [],
   "source": [
    "# convert to long format to be able to plot with hue as the FG\n",
    "df_nex_pf_agg_long = pd.wide_to_long(df_nex_pf_agg.reset_index(), \n",
    "                                     stubnames=['hits', 'weight'], \n",
    "                                     i=['Site', 'Disturbance', 'Exclosure', 'Date'], \n",
    "                                     j='FG', \n",
    "                                     sep=\"_\", \n",
    "                                     suffix=r'\\w+').reset_index()"
   ]
  },
  {
   "cell_type": "markdown",
   "id": "5ddde353-b1c4-4114-a214-e429e74986d2",
   "metadata": {},
   "source": [
    "### Check data and save to disk"
   ]
  },
  {
   "cell_type": "code",
   "execution_count": 32,
   "id": "e7902657-9a50-4fcd-b48c-3e50074fda50",
   "metadata": {},
   "outputs": [
    {
     "data": {
      "text/html": [
       "<div>\n",
       "<style scoped>\n",
       "    .dataframe tbody tr th:only-of-type {\n",
       "        vertical-align: middle;\n",
       "    }\n",
       "\n",
       "    .dataframe tbody tr th {\n",
       "        vertical-align: top;\n",
       "    }\n",
       "\n",
       "    .dataframe thead th {\n",
       "        text-align: right;\n",
       "    }\n",
       "</style>\n",
       "<table border=\"1\" class=\"dataframe\">\n",
       "  <thead>\n",
       "    <tr style=\"text-align: right;\">\n",
       "      <th></th>\n",
       "      <th>Date</th>\n",
       "      <th>Transect ID</th>\n",
       "      <th>Site</th>\n",
       "      <th>Disturbance</th>\n",
       "      <th>Exclosure</th>\n",
       "      <th>Rep</th>\n",
       "      <th>Biomass?</th>\n",
       "      <th>Forage?</th>\n",
       "      <th>Pin Frame?</th>\n",
       "      <th>Area (m^2)</th>\n",
       "      <th>...</th>\n",
       "      <th>C4 weight (g/m^2)</th>\n",
       "      <th>C3 weight (g/m^2)</th>\n",
       "      <th>Bromes weight (g/m^2)</th>\n",
       "      <th>Forbs weight (g/m^2)</th>\n",
       "      <th>Ann Forb weight (g/m^2)</th>\n",
       "      <th>Per Forb weight (g/m^2)</th>\n",
       "      <th>VUOC weight (g/m^2)</th>\n",
       "      <th>Subshrub weight (g/m^2)</th>\n",
       "      <th>Standing Dead weight (g/m^2)</th>\n",
       "      <th>Ann Grass weight (g/m^2)</th>\n",
       "    </tr>\n",
       "    <tr>\n",
       "      <th>Year</th>\n",
       "      <th></th>\n",
       "      <th></th>\n",
       "      <th></th>\n",
       "      <th></th>\n",
       "      <th></th>\n",
       "      <th></th>\n",
       "      <th></th>\n",
       "      <th></th>\n",
       "      <th></th>\n",
       "      <th></th>\n",
       "      <th></th>\n",
       "      <th></th>\n",
       "      <th></th>\n",
       "      <th></th>\n",
       "      <th></th>\n",
       "      <th></th>\n",
       "      <th></th>\n",
       "      <th></th>\n",
       "      <th></th>\n",
       "      <th></th>\n",
       "      <th></th>\n",
       "    </tr>\n",
       "  </thead>\n",
       "  <tbody>\n",
       "    <tr>\n",
       "      <th>2017</th>\n",
       "      <td>36</td>\n",
       "      <td>36</td>\n",
       "      <td>36</td>\n",
       "      <td>36</td>\n",
       "      <td>36</td>\n",
       "      <td>36</td>\n",
       "      <td>36</td>\n",
       "      <td>0</td>\n",
       "      <td>36</td>\n",
       "      <td>36</td>\n",
       "      <td>...</td>\n",
       "      <td>36</td>\n",
       "      <td>36</td>\n",
       "      <td>36</td>\n",
       "      <td>36</td>\n",
       "      <td>36</td>\n",
       "      <td>36</td>\n",
       "      <td>36</td>\n",
       "      <td>36</td>\n",
       "      <td>36</td>\n",
       "      <td>36</td>\n",
       "    </tr>\n",
       "    <tr>\n",
       "      <th>2018</th>\n",
       "      <td>36</td>\n",
       "      <td>36</td>\n",
       "      <td>36</td>\n",
       "      <td>36</td>\n",
       "      <td>36</td>\n",
       "      <td>36</td>\n",
       "      <td>36</td>\n",
       "      <td>36</td>\n",
       "      <td>36</td>\n",
       "      <td>36</td>\n",
       "      <td>...</td>\n",
       "      <td>36</td>\n",
       "      <td>36</td>\n",
       "      <td>36</td>\n",
       "      <td>36</td>\n",
       "      <td>36</td>\n",
       "      <td>36</td>\n",
       "      <td>36</td>\n",
       "      <td>36</td>\n",
       "      <td>36</td>\n",
       "      <td>36</td>\n",
       "    </tr>\n",
       "    <tr>\n",
       "      <th>2019</th>\n",
       "      <td>36</td>\n",
       "      <td>36</td>\n",
       "      <td>36</td>\n",
       "      <td>36</td>\n",
       "      <td>36</td>\n",
       "      <td>36</td>\n",
       "      <td>36</td>\n",
       "      <td>36</td>\n",
       "      <td>36</td>\n",
       "      <td>36</td>\n",
       "      <td>...</td>\n",
       "      <td>36</td>\n",
       "      <td>35</td>\n",
       "      <td>35</td>\n",
       "      <td>36</td>\n",
       "      <td>36</td>\n",
       "      <td>36</td>\n",
       "      <td>36</td>\n",
       "      <td>36</td>\n",
       "      <td>36</td>\n",
       "      <td>35</td>\n",
       "    </tr>\n",
       "    <tr>\n",
       "      <th>2020</th>\n",
       "      <td>33</td>\n",
       "      <td>33</td>\n",
       "      <td>33</td>\n",
       "      <td>33</td>\n",
       "      <td>33</td>\n",
       "      <td>33</td>\n",
       "      <td>33</td>\n",
       "      <td>33</td>\n",
       "      <td>33</td>\n",
       "      <td>33</td>\n",
       "      <td>...</td>\n",
       "      <td>33</td>\n",
       "      <td>33</td>\n",
       "      <td>33</td>\n",
       "      <td>31</td>\n",
       "      <td>32</td>\n",
       "      <td>32</td>\n",
       "      <td>32</td>\n",
       "      <td>33</td>\n",
       "      <td>33</td>\n",
       "      <td>32</td>\n",
       "    </tr>\n",
       "  </tbody>\n",
       "</table>\n",
       "<p>4 rows × 47 columns</p>\n",
       "</div>"
      ],
      "text/plain": [
       "      Date  Transect ID  Site  Disturbance  Exclosure  Rep  Biomass?  Forage?  \\\n",
       "Year                                                                            \n",
       "2017    36           36    36           36         36   36        36        0   \n",
       "2018    36           36    36           36         36   36        36       36   \n",
       "2019    36           36    36           36         36   36        36       36   \n",
       "2020    33           33    33           33         33   33        33       33   \n",
       "\n",
       "      Pin Frame?  Area (m^2)  ...  C4 weight (g/m^2)  C3 weight (g/m^2)  \\\n",
       "Year                          ...                                         \n",
       "2017          36          36  ...                 36                 36   \n",
       "2018          36          36  ...                 36                 36   \n",
       "2019          36          36  ...                 36                 35   \n",
       "2020          33          33  ...                 33                 33   \n",
       "\n",
       "      Bromes weight (g/m^2)  Forbs weight (g/m^2)  Ann Forb weight (g/m^2)  \\\n",
       "Year                                                                         \n",
       "2017                     36                    36                       36   \n",
       "2018                     36                    36                       36   \n",
       "2019                     35                    36                       36   \n",
       "2020                     33                    31                       32   \n",
       "\n",
       "      Per Forb weight (g/m^2)  VUOC weight (g/m^2)  Subshrub weight (g/m^2)  \\\n",
       "Year                                                                          \n",
       "2017                       36                   36                       36   \n",
       "2018                       36                   36                       36   \n",
       "2019                       36                   36                       36   \n",
       "2020                       32                   32                       33   \n",
       "\n",
       "      Standing Dead weight (g/m^2)  Ann Grass weight (g/m^2)  \n",
       "Year                                                          \n",
       "2017                            36                        36  \n",
       "2018                            36                        36  \n",
       "2019                            36                        35  \n",
       "2020                            33                        32  \n",
       "\n",
       "[4 rows x 47 columns]"
      ]
     },
     "execution_count": 32,
     "metadata": {},
     "output_type": "execute_result"
    }
   ],
   "source": [
    "df_nex_bm_fg.groupby('Year').count()"
   ]
  },
  {
   "cell_type": "code",
   "execution_count": 33,
   "id": "b65ce1ad-7c23-47df-ad82-57c00f7f397e",
   "metadata": {},
   "outputs": [
    {
     "data": {
      "text/html": [
       "<div>\n",
       "<style scoped>\n",
       "    .dataframe tbody tr th:only-of-type {\n",
       "        vertical-align: middle;\n",
       "    }\n",
       "\n",
       "    .dataframe tbody tr th {\n",
       "        vertical-align: top;\n",
       "    }\n",
       "\n",
       "    .dataframe thead th {\n",
       "        text-align: right;\n",
       "    }\n",
       "</style>\n",
       "<table border=\"1\" class=\"dataframe\">\n",
       "  <thead>\n",
       "    <tr style=\"text-align: right;\">\n",
       "      <th></th>\n",
       "      <th>Site</th>\n",
       "      <th>Disturbance</th>\n",
       "      <th>Exclosure</th>\n",
       "      <th>Date</th>\n",
       "      <th>FG</th>\n",
       "      <th>index</th>\n",
       "      <th>Total Hits</th>\n",
       "      <th>hits</th>\n",
       "      <th>weight</th>\n",
       "    </tr>\n",
       "    <tr>\n",
       "      <th>Year</th>\n",
       "      <th></th>\n",
       "      <th></th>\n",
       "      <th></th>\n",
       "      <th></th>\n",
       "      <th></th>\n",
       "      <th></th>\n",
       "      <th></th>\n",
       "      <th></th>\n",
       "      <th></th>\n",
       "    </tr>\n",
       "  </thead>\n",
       "  <tbody>\n",
       "    <tr>\n",
       "      <th>2017</th>\n",
       "      <td>324</td>\n",
       "      <td>324</td>\n",
       "      <td>324</td>\n",
       "      <td>324</td>\n",
       "      <td>324</td>\n",
       "      <td>324</td>\n",
       "      <td>324</td>\n",
       "      <td>324</td>\n",
       "      <td>324</td>\n",
       "    </tr>\n",
       "    <tr>\n",
       "      <th>2018</th>\n",
       "      <td>324</td>\n",
       "      <td>324</td>\n",
       "      <td>324</td>\n",
       "      <td>324</td>\n",
       "      <td>324</td>\n",
       "      <td>324</td>\n",
       "      <td>324</td>\n",
       "      <td>324</td>\n",
       "      <td>324</td>\n",
       "    </tr>\n",
       "    <tr>\n",
       "      <th>2019</th>\n",
       "      <td>324</td>\n",
       "      <td>324</td>\n",
       "      <td>324</td>\n",
       "      <td>324</td>\n",
       "      <td>324</td>\n",
       "      <td>324</td>\n",
       "      <td>324</td>\n",
       "      <td>324</td>\n",
       "      <td>321</td>\n",
       "    </tr>\n",
       "    <tr>\n",
       "      <th>2020</th>\n",
       "      <td>297</td>\n",
       "      <td>297</td>\n",
       "      <td>297</td>\n",
       "      <td>297</td>\n",
       "      <td>297</td>\n",
       "      <td>297</td>\n",
       "      <td>297</td>\n",
       "      <td>297</td>\n",
       "      <td>293</td>\n",
       "    </tr>\n",
       "  </tbody>\n",
       "</table>\n",
       "</div>"
      ],
      "text/plain": [
       "      Site  Disturbance  Exclosure  Date   FG  index  Total Hits  hits  weight\n",
       "Year                                                                          \n",
       "2017   324          324        324   324  324    324         324   324     324\n",
       "2018   324          324        324   324  324    324         324   324     324\n",
       "2019   324          324        324   324  324    324         324   324     321\n",
       "2020   297          297        297   297  297    297         297   297     293"
      ]
     },
     "execution_count": 33,
     "metadata": {},
     "output_type": "execute_result"
    }
   ],
   "source": [
    "df_nex_pf_agg_long.groupby('Year').count()"
   ]
  },
  {
   "cell_type": "code",
   "execution_count": 34,
   "id": "fcd26b1e-1638-4fdd-b5ea-09162a2fedc7",
   "metadata": {},
   "outputs": [
    {
     "data": {
      "text/plain": [
       "<seaborn.axisgrid.FacetGrid at 0x174071b8af0>"
      ]
     },
     "execution_count": 34,
     "metadata": {},
     "output_type": "execute_result"
    },
    {
     "data": {
      "image/png": "[encoded data removed]",
      "text/plain": [
       "<Figure size 831.6x756 with 9 Axes>"
      ]
     },
     "metadata": {
      "needs_background": "light"
     },
     "output_type": "display_data"
    }
   ],
   "source": [
    "# plot linear fits for each functional group (FG)\n",
    "sns.lmplot(x='hits',\n",
    "           y='weight',\n",
    "           col='FG',\n",
    "           col_wrap=3,\n",
    "           hue='FG',\n",
    "           data=df_nex_pf_agg_long,\n",
    "           scatter=True, height=3.5, aspect=1.1)"
   ]
  },
  {
   "cell_type": "code",
   "execution_count": 35,
   "id": "dae3e220-a30f-41a0-9c3e-0a36ae71e1e3",
   "metadata": {},
   "outputs": [
    {
     "data": {
      "text/html": [
       "<div>\n",
       "<style scoped>\n",
       "    .dataframe tbody tr th:only-of-type {\n",
       "        vertical-align: middle;\n",
       "    }\n",
       "\n",
       "    .dataframe tbody tr th {\n",
       "        vertical-align: top;\n",
       "    }\n",
       "\n",
       "    .dataframe thead th {\n",
       "        text-align: right;\n",
       "    }\n",
       "</style>\n",
       "<table border=\"1\" class=\"dataframe\">\n",
       "  <thead>\n",
       "    <tr style=\"text-align: right;\">\n",
       "      <th></th>\n",
       "      <th>Site</th>\n",
       "      <th>Disturbance</th>\n",
       "      <th>Exclosure</th>\n",
       "      <th>Date</th>\n",
       "      <th>Total Hits</th>\n",
       "      <th>hits_C4</th>\n",
       "      <th>hits_C3</th>\n",
       "      <th>hits_AnnGrass</th>\n",
       "      <th>hits_Forb</th>\n",
       "      <th>hits_Brome</th>\n",
       "      <th>...</th>\n",
       "      <th>weight_Total</th>\n",
       "      <th>weight_C4</th>\n",
       "      <th>weight_C3</th>\n",
       "      <th>weight_Forb</th>\n",
       "      <th>weight_Brome</th>\n",
       "      <th>weight_VUOC</th>\n",
       "      <th>weight_AnnGrass</th>\n",
       "      <th>weight_Subshrub</th>\n",
       "      <th>weight_SD</th>\n",
       "      <th>Year</th>\n",
       "    </tr>\n",
       "  </thead>\n",
       "  <tbody>\n",
       "    <tr>\n",
       "      <th>2</th>\n",
       "      <td>lake creek</td>\n",
       "      <td>control</td>\n",
       "      <td>livestock ex</td>\n",
       "      <td>2019-07-31</td>\n",
       "      <td>23</td>\n",
       "      <td>1</td>\n",
       "      <td>0</td>\n",
       "      <td>20</td>\n",
       "      <td>2</td>\n",
       "      <td>20</td>\n",
       "      <td>...</td>\n",
       "      <td>138.52</td>\n",
       "      <td>71.30</td>\n",
       "      <td>0.00</td>\n",
       "      <td>18.7</td>\n",
       "      <td>44.90</td>\n",
       "      <td>0.02</td>\n",
       "      <td>44.92</td>\n",
       "      <td>0.0</td>\n",
       "      <td>3.6</td>\n",
       "      <td>2019</td>\n",
       "    </tr>\n",
       "    <tr>\n",
       "      <th>26</th>\n",
       "      <td>lake creek</td>\n",
       "      <td>prairie dog</td>\n",
       "      <td>livestock ex</td>\n",
       "      <td>2019-07-31</td>\n",
       "      <td>37</td>\n",
       "      <td>4</td>\n",
       "      <td>3</td>\n",
       "      <td>26</td>\n",
       "      <td>3</td>\n",
       "      <td>26</td>\n",
       "      <td>...</td>\n",
       "      <td>211.60</td>\n",
       "      <td>59.70</td>\n",
       "      <td>37.70</td>\n",
       "      <td>56.3</td>\n",
       "      <td>53.60</td>\n",
       "      <td>1.90</td>\n",
       "      <td>55.50</td>\n",
       "      <td>0.0</td>\n",
       "      <td>2.4</td>\n",
       "      <td>2019</td>\n",
       "    </tr>\n",
       "    <tr>\n",
       "      <th>48</th>\n",
       "      <td>steckley</td>\n",
       "      <td>fire</td>\n",
       "      <td>livestock ex</td>\n",
       "      <td>2017-07-17</td>\n",
       "      <td>2</td>\n",
       "      <td>0</td>\n",
       "      <td>2</td>\n",
       "      <td>0</td>\n",
       "      <td>0</td>\n",
       "      <td>0</td>\n",
       "      <td>...</td>\n",
       "      <td>235.90</td>\n",
       "      <td>148.06</td>\n",
       "      <td>47.52</td>\n",
       "      <td>0.0</td>\n",
       "      <td>40.32</td>\n",
       "      <td>0.00</td>\n",
       "      <td>40.32</td>\n",
       "      <td>0.0</td>\n",
       "      <td>0.0</td>\n",
       "      <td>2017</td>\n",
       "    </tr>\n",
       "    <tr>\n",
       "      <th>51</th>\n",
       "      <td>steckley</td>\n",
       "      <td>fire</td>\n",
       "      <td>out</td>\n",
       "      <td>2017-07-17</td>\n",
       "      <td>8</td>\n",
       "      <td>0</td>\n",
       "      <td>8</td>\n",
       "      <td>0</td>\n",
       "      <td>0</td>\n",
       "      <td>0</td>\n",
       "      <td>...</td>\n",
       "      <td>153.82</td>\n",
       "      <td>99.64</td>\n",
       "      <td>53.60</td>\n",
       "      <td>0.0</td>\n",
       "      <td>0.58</td>\n",
       "      <td>0.00</td>\n",
       "      <td>0.58</td>\n",
       "      <td>0.0</td>\n",
       "      <td>0.0</td>\n",
       "      <td>2017</td>\n",
       "    </tr>\n",
       "  </tbody>\n",
       "</table>\n",
       "<p>4 rows × 24 columns</p>\n",
       "</div>"
      ],
      "text/plain": [
       "          Site  Disturbance     Exclosure       Date  Total Hits  hits_C4  \\\n",
       "2   lake creek      control  livestock ex 2019-07-31          23        1   \n",
       "26  lake creek  prairie dog  livestock ex 2019-07-31          37        4   \n",
       "48    steckley         fire  livestock ex 2017-07-17           2        0   \n",
       "51    steckley         fire           out 2017-07-17           8        0   \n",
       "\n",
       "    hits_C3  hits_AnnGrass  hits_Forb  hits_Brome  ...  weight_Total  \\\n",
       "2         0             20          2          20  ...        138.52   \n",
       "26        3             26          3          26  ...        211.60   \n",
       "48        2              0          0           0  ...        235.90   \n",
       "51        8              0          0           0  ...        153.82   \n",
       "\n",
       "    weight_C4  weight_C3  weight_Forb  weight_Brome  weight_VUOC  \\\n",
       "2       71.30       0.00         18.7         44.90         0.02   \n",
       "26      59.70      37.70         56.3         53.60         1.90   \n",
       "48     148.06      47.52          0.0         40.32         0.00   \n",
       "51      99.64      53.60          0.0          0.58         0.00   \n",
       "\n",
       "    weight_AnnGrass  weight_Subshrub  weight_SD  Year  \n",
       "2             44.92              0.0        3.6  2019  \n",
       "26            55.50              0.0        2.4  2019  \n",
       "48            40.32              0.0        0.0  2017  \n",
       "51             0.58              0.0        0.0  2017  \n",
       "\n",
       "[4 rows x 24 columns]"
      ]
     },
     "execution_count": 35,
     "metadata": {},
     "output_type": "execute_result"
    }
   ],
   "source": [
    "# explore outliers\n",
    "df_nex_pf_agg[(df_nex_pf_agg.hits_C4 < 5) & (df_nex_pf_agg.weight_C4 > 50)]"
   ]
  },
  {
   "cell_type": "code",
   "execution_count": 36,
   "id": "6b771936-910b-4a58-874f-9ccbe6240004",
   "metadata": {},
   "outputs": [],
   "source": [
    "# drop meaningless columns\n",
    "df_nex_pf_agg_long = df_nex_pf_agg_long.drop(columns=['index'])\n",
    "# save datasets to disk\n",
    "df_nex_pf_agg.to_csv('data/TB_nex_pf.csv', index=False)\n",
    "df_nex_pf_agg_long.to_csv('data/TB_nex_pf_long.csv', index=False)"
   ]
  },
  {
   "cell_type": "markdown",
   "id": "f074758d-45a7-4084-979f-6c2b0fa37cfa",
   "metadata": {
    "tags": []
   },
   "source": [
    "# VOR"
   ]
  },
  {
   "cell_type": "markdown",
   "id": "052dd094-da51-47ad-88ca-79c4ab87c6e6",
   "metadata": {},
   "source": [
    "### *Additional cleaning*"
   ]
  },
  {
   "cell_type": "code",
   "execution_count": 36,
   "id": "a467f9da-53c4-4d7e-b4cd-a02ccffa0211",
   "metadata": {},
   "outputs": [],
   "source": [
    "remove_indv_na = True\n",
    "if remove_indv_na:\n",
    "    df_nex_bm = df_nex_bm[~(\n",
    "        df_nex_bm.loc[:, df_nex_bm.columns.str.contains('weight \\(g\\)')] < 0).any(axis=1)]"
   ]
  },
  {
   "cell_type": "markdown",
   "id": "87c47407-a592-43aa-aa62-93254bbb8671",
   "metadata": {},
   "source": [
    "### *Combine with biomass dataset*"
   ]
  },
  {
   "cell_type": "code",
   "execution_count": 37,
   "id": "91d68b27-3cf3-4a39-b297-39ec58b74ce8",
   "metadata": {},
   "outputs": [],
   "source": [
    "#df_nex_vor = nex_xlsx.parse(sheet_name='VOR 15-20', header=0)\n",
    "# join Biomass and VOR datasets using Biomass dates with a definted maximum threshold of date difference\n",
    "df_nex_vor = pd.merge_asof(df_nex_vor.sort_values('Date_Surveyed'), \n",
    "                           df_nex_bm.groupby(['Site',\n",
    "                                              'Disturbance',\n",
    "                                              'Exclosure',\n",
    "                                              'Date_cln']).mean().reset_index().sort_values('Date_cln')[['Site',\n",
    "                                                              'Disturbance',\n",
    "                                                              'Exclosure',\n",
    "                                                              'Area (m^2)',\n",
    "                                                              'Total Weight (g)',\n",
    "                                                              'Total Weight (g/m^2)',\n",
    "                                                              'Date_cln']],\n",
    "                           left_on='Date_Surveyed',\n",
    "                           right_on='Date_cln',\n",
    "                           by=['Site', 'Disturbance', 'Exclosure'],\n",
    "                           direction='nearest',\n",
    "                           tolerance=datetime.timedelta(days=10),\n",
    "                           suffixes=['_x', ''],)"
   ]
  },
  {
   "cell_type": "code",
   "execution_count": 38,
   "id": "1af5ceb5-86ab-4eed-a6c0-2321c68d0f93",
   "metadata": {},
   "outputs": [],
   "source": [
    "# drop any records missing Biomass data\n",
    "df_nex_vor = df_nex_vor[df_nex_vor['Total Weight (g/m^2)'].notnull()]"
   ]
  },
  {
   "cell_type": "code",
   "execution_count": 39,
   "id": "43be52fd-11bd-4385-b0c9-a510bc4faec0",
   "metadata": {},
   "outputs": [],
   "source": [
    "# fix erroneous species names\n",
    "spp_remap_dict = {'HECI': 'HECO',\n",
    "                  'JECO': 'HECO'}\n",
    "df_nex_vor['Spp_code'] = df_nex_vor['Spp_code'].apply(lambda x: spp_remap_dict[x] if x in spp_remap_dict.keys() else x)"
   ]
  },
  {
   "cell_type": "markdown",
   "id": "cbfc8e5e-3878-4493-860a-b263abeed5ec",
   "metadata": {},
   "source": [
    "### *Clean VOR dataset*"
   ]
  },
  {
   "cell_type": "code",
   "execution_count": 40,
   "id": "31a3b9b6-20a7-4852-b8ee-24e6dd55615c",
   "metadata": {},
   "outputs": [],
   "source": [
    "# create list of species to drop from VOR data\n",
    "vor_spp_drop_list = ['ATCA', 'atca', 'OPPO', 'oppo', 'ARTR', 'artr', 'SD ARTR', 'ARCA', 'arca', 'SD ATCA']\n",
    "\n",
    "# drop VOR readings in species list\n",
    "df_nex_vor = df_nex_vor[~df_nex_vor['Spp_code'].isin(vor_spp_drop_list)]\n",
    "\n",
    "# convert 'High_cm back to integer'\n",
    "df_nex_vor['High_cm'][df_nex_vor['High_cm'] == '90+'] = 90\n",
    "df_nex_vor['High_cm'] = df_nex_vor['High_cm'].astype('int')\n",
    "\n",
    "# drop VOR where low > high as suspected data entry errors\n",
    "df_nex_vor = df_nex_vor[df_nex_vor['Low_cm'] <= df_nex_vor['High_cm']]"
   ]
  },
  {
   "cell_type": "markdown",
   "id": "ae6970ea-108e-49ce-b36e-cad9a79b7004",
   "metadata": {},
   "source": [
    "### *Create dataset of mean values by experimental unit*"
   ]
  },
  {
   "cell_type": "code",
   "execution_count": 41,
   "id": "f5de082e-e072-4b0f-b570-cd9bb8806e20",
   "metadata": {},
   "outputs": [],
   "source": [
    "# get mean of each experimental unit\n",
    "df_nex_vor_agg = df_nex_vor.groupby(\n",
    "    ['Site', 'Disturbance', 'Exclosure', 'Date_Surveyed', 'Date_cln']).mean().reset_index()\n",
    "\n",
    "# reset the year column\n",
    "df_nex_vor_agg['Year'] = df_nex_vor_agg['Date_Surveyed'].dt.year\n",
    "\n",
    "# drop meaningless columns\n",
    "df_nex_vor_agg = df_nex_vor_agg.drop(columns=['Distance_along_transect_m'])\n",
    "\n",
    "# rename date columns\n",
    "df_nex_vor_agg = df_nex_vor_agg.rename(columns={'Date_Surveyed': 'Date'})"
   ]
  },
  {
   "cell_type": "markdown",
   "id": "38f227e7-abd8-4737-9e4e-0b076814c413",
   "metadata": {},
   "source": [
    "### *Check data and save to disk*"
   ]
  },
  {
   "cell_type": "code",
   "execution_count": 42,
   "id": "d9d8e5a5-5d9b-4570-9dca-4e973636309f",
   "metadata": {},
   "outputs": [
    {
     "data": {
      "text/html": [
       "<div>\n",
       "<style scoped>\n",
       "    .dataframe tbody tr th:only-of-type {\n",
       "        vertical-align: middle;\n",
       "    }\n",
       "\n",
       "    .dataframe tbody tr th {\n",
       "        vertical-align: top;\n",
       "    }\n",
       "\n",
       "    .dataframe thead th {\n",
       "        text-align: right;\n",
       "    }\n",
       "</style>\n",
       "<table border=\"1\" class=\"dataframe\">\n",
       "  <thead>\n",
       "    <tr style=\"text-align: right;\">\n",
       "      <th></th>\n",
       "      <th>Site</th>\n",
       "      <th>Disturbance</th>\n",
       "      <th>Exclosure</th>\n",
       "      <th>Date</th>\n",
       "      <th>Date_cln</th>\n",
       "      <th>High_cm</th>\n",
       "      <th>Low_cm</th>\n",
       "      <th>low_cm_ADJUSTED</th>\n",
       "      <th>Area (m^2)</th>\n",
       "      <th>Total Weight (g)</th>\n",
       "      <th>Total Weight (g/m^2)</th>\n",
       "    </tr>\n",
       "    <tr>\n",
       "      <th>Year</th>\n",
       "      <th></th>\n",
       "      <th></th>\n",
       "      <th></th>\n",
       "      <th></th>\n",
       "      <th></th>\n",
       "      <th></th>\n",
       "      <th></th>\n",
       "      <th></th>\n",
       "      <th></th>\n",
       "      <th></th>\n",
       "      <th></th>\n",
       "    </tr>\n",
       "  </thead>\n",
       "  <tbody>\n",
       "    <tr>\n",
       "      <th>2015</th>\n",
       "      <td>2</td>\n",
       "      <td>2</td>\n",
       "      <td>2</td>\n",
       "      <td>2</td>\n",
       "      <td>2</td>\n",
       "      <td>2</td>\n",
       "      <td>2</td>\n",
       "      <td>2</td>\n",
       "      <td>2</td>\n",
       "      <td>2</td>\n",
       "      <td>2</td>\n",
       "    </tr>\n",
       "    <tr>\n",
       "      <th>2018</th>\n",
       "      <td>36</td>\n",
       "      <td>36</td>\n",
       "      <td>36</td>\n",
       "      <td>36</td>\n",
       "      <td>36</td>\n",
       "      <td>36</td>\n",
       "      <td>36</td>\n",
       "      <td>36</td>\n",
       "      <td>36</td>\n",
       "      <td>36</td>\n",
       "      <td>36</td>\n",
       "    </tr>\n",
       "    <tr>\n",
       "      <th>2019</th>\n",
       "      <td>36</td>\n",
       "      <td>36</td>\n",
       "      <td>36</td>\n",
       "      <td>36</td>\n",
       "      <td>36</td>\n",
       "      <td>36</td>\n",
       "      <td>36</td>\n",
       "      <td>36</td>\n",
       "      <td>36</td>\n",
       "      <td>36</td>\n",
       "      <td>36</td>\n",
       "    </tr>\n",
       "    <tr>\n",
       "      <th>2020</th>\n",
       "      <td>29</td>\n",
       "      <td>29</td>\n",
       "      <td>29</td>\n",
       "      <td>29</td>\n",
       "      <td>29</td>\n",
       "      <td>29</td>\n",
       "      <td>29</td>\n",
       "      <td>29</td>\n",
       "      <td>29</td>\n",
       "      <td>29</td>\n",
       "      <td>29</td>\n",
       "    </tr>\n",
       "    <tr>\n",
       "      <th>2021</th>\n",
       "      <td>37</td>\n",
       "      <td>37</td>\n",
       "      <td>37</td>\n",
       "      <td>37</td>\n",
       "      <td>37</td>\n",
       "      <td>37</td>\n",
       "      <td>37</td>\n",
       "      <td>37</td>\n",
       "      <td>37</td>\n",
       "      <td>37</td>\n",
       "      <td>37</td>\n",
       "    </tr>\n",
       "  </tbody>\n",
       "</table>\n",
       "</div>"
      ],
      "text/plain": [
       "      Site  Disturbance  Exclosure  Date  Date_cln  High_cm  Low_cm  \\\n",
       "Year                                                                  \n",
       "2015     2            2          2     2         2        2       2   \n",
       "2018    36           36         36    36        36       36      36   \n",
       "2019    36           36         36    36        36       36      36   \n",
       "2020    29           29         29    29        29       29      29   \n",
       "2021    37           37         37    37        37       37      37   \n",
       "\n",
       "      low_cm_ADJUSTED  Area (m^2)  Total Weight (g)  Total Weight (g/m^2)  \n",
       "Year                                                                       \n",
       "2015                2           2                 2                     2  \n",
       "2018               36          36                36                    36  \n",
       "2019               36          36                36                    36  \n",
       "2020               29          29                29                    29  \n",
       "2021               37          37                37                    37  "
      ]
     },
     "execution_count": 42,
     "metadata": {},
     "output_type": "execute_result"
    }
   ],
   "source": [
    "df_nex_vor_agg.groupby('Year').count()"
   ]
  },
  {
   "cell_type": "code",
   "execution_count": 43,
   "id": "38da1460-6871-4c69-94d0-73bb3566ccff",
   "metadata": {},
   "outputs": [
    {
     "data": {
      "text/plain": [
       "<seaborn.axisgrid.FacetGrid at 0x1f64cce3f40>"
      ]
     },
     "execution_count": 43,
     "metadata": {},
     "output_type": "execute_result"
    },
    {
     "data": {
      "image/png": "[encoded data removed]",
      "text/plain": [
       "<Figure size 360x360 with 1 Axes>"
      ]
     },
     "metadata": {
      "needs_background": "light"
     },
     "output_type": "display_data"
    }
   ],
   "source": [
    "# plot linear fit of low VOR reading and Biomass\n",
    "sns.lmplot(x='High_cm', \n",
    "           y='Total Weight (g/m^2)',\n",
    "          data=df_nex_vor_agg)"
   ]
  },
  {
   "cell_type": "code",
   "execution_count": 44,
   "id": "c9e69bb1-3d8f-4d2f-8750-5f44b08daf55",
   "metadata": {},
   "outputs": [],
   "source": [
    "# save final data to disk\n",
    "df_nex_vor_agg.to_csv('data/TB_nex_vor.csv', index=False)"
   ]
  },
  {
   "cell_type": "markdown",
   "id": "d969840e-7c94-4f6f-b19a-c207f34a50d2",
   "metadata": {
    "tags": []
   },
   "source": [
    "# Questions\n",
    "### Biomass \n",
    "* What is the Rep? Only one rep for Pin frame and 3 reps for BM..\n",
    "  * should I average all reps or just take Rep 1?\n",
    " \n",
    "### Pin frame \n",
    "* What should be the final functional groups?\n",
    "  * currently considering:\n",
    "     * Annuals (BROME + VUOC)\n",
    "     * Forbs (PerFORB + AnnFORB)\n",
    "     * C3\n",
    "     * C4\n",
    "     * Subshrub\n",
    "* How to combine functional group in model?\n",
    "  * currently planning separate models for each FG\n",
    "* What is TotalHerbHits? Do I need to calculate herb weight?\n",
    "  * currently I am calculaing an herb weight from biomass clipping as: Total - SD\n",
    "* Should I be dropping basal hits?\n",
    "* Ok to drop Shrub/Oppo (no corresponding Biomass clipping)\n",
    "  * or should we sites with high shrub/oppo?\n",
    "* PASM vs. COMP? (!this is just for FQ)\n",
    "\n",
    "### VOR \n",
    "* Which species to drop from VOR?\n",
    "  * for CPER we dropped: ['OPPO', 'ATCA', 'GUSA', 'EREF', 'ARFR', 'ERNA', 'KRLA', 'YUGL']\n",
    "  * currently I am just dropping OPPO and ATCA\n",
    "* Should I clean up outliers?\n",
    "  * for CPER we used cut-off of 50 cm height (for high) and 2.5 sd's\n",
    "  * currently I am removing high > 75 cm and low > high\n",
    "* Max date difference between clipping and VOR?\n",
    "  * currently I am using 15 days\n",
    "  \n",
    "### PVSAGE\n",
    "* Anything different to be aware of?\n",
    "* Only use pre-treatment data for satellite extraction?\n",
    "    * Is the first year (2016?) baseline data pre-treatment? "
   ]
  },
  {
   "cell_type": "code",
   "execution_count": null,
   "id": "a6a69467-64c3-4af1-972e-4739efdae941",
   "metadata": {},
   "outputs": [],
   "source": [
    "#remove negative values\n",
    "# red cells will be NAN (check latest saved data)\n",
    "# Note that there is biomass data with no corresponding PF data (and not by FG)\n",
    "#drop all biomass data not used for pin frame calibration before PF join (then you won't be worrying about reps).\n",
    "#Add BOGR/BUDA back into C4 when present (starting in 2020)\n",
    "#drop all PASM data from Biomass\n",
    "#starting in 2019 need to add together annual and perennial forbs, but prior is just forbs\n",
    "\n",
    "# VOR\n",
    "#leave all high numbers. Change 90+ to 90\n",
    "# could check datasheets when low > high (ask Katie)\n",
    "#change date tolerance to 10 days max (look at VOR, should through out all of 2015-17, but very few in 2018+),\n",
    "#maybe reduce tolerance if needbe\n",
    "# YEAR IS WRONG FOR VOR DATA\n",
    "# CHANGE JUNE 2016 AND JUNE AND JULY 2017 DATES FOR VOR BIOMASS TO BE LATE JUNE AND EARLY JULY??"
   ]
  },
  {
   "cell_type": "code",
   "execution_count": 93,
   "id": "1b02d7d9-2173-4ff4-8000-a64f855e3411",
   "metadata": {},
   "outputs": [
    {
     "data": {
      "text/plain": [
       "array(['2018-06-25T00:00:00.000000000', '2018-06-26T00:00:00.000000000',\n",
       "       '2018-06-27T00:00:00.000000000', '2018-06-28T00:00:00.000000000',\n",
       "       '2018-07-02T00:00:00.000000000', '2018-07-03T00:00:00.000000000',\n",
       "       '2018-07-04T00:00:00.000000000', '2019-06-24T00:00:00.000000000',\n",
       "       '2019-06-27T00:00:00.000000000', '2019-07-01T00:00:00.000000000',\n",
       "       '2019-07-02T00:00:00.000000000', '2019-07-03T00:00:00.000000000',\n",
       "       '2019-07-08T00:00:00.000000000', '2020-06-30T00:00:00.000000000',\n",
       "       '2020-07-01T00:00:00.000000000', '2020-07-06T00:00:00.000000000',\n",
       "       '2020-07-07T00:00:00.000000000', '2020-07-08T00:00:00.000000000',\n",
       "       '2020-07-09T00:00:00.000000000', '2020-07-13T00:00:00.000000000',\n",
       "       '2020-07-14T00:00:00.000000000', '2021-07-15T00:00:00.000000000'],\n",
       "      dtype='datetime64[ns]')"
      ]
     },
     "execution_count": 93,
     "metadata": {},
     "output_type": "execute_result"
    }
   ],
   "source": [
    "#df_nex_vor = nex_xlsx.parse(sheet_name='VOR 15-20', header=0)\n",
    "df_nex_vor.Date_Surveyed.sort_values().unique()"
   ]
  },
  {
   "cell_type": "code",
   "execution_count": 95,
   "id": "35015fc3-ff58-46de-ace6-fcdcd3973b9f",
   "metadata": {},
   "outputs": [
    {
     "data": {
      "text/plain": [
       "array(['2018-06-25T00:00:00.000000000', '2018-06-26T00:00:00.000000000',\n",
       "       '2018-06-27T00:00:00.000000000', '2018-06-28T00:00:00.000000000',\n",
       "       '2018-07-02T00:00:00.000000000', '2018-07-03T00:00:00.000000000',\n",
       "       '2019-06-24T00:00:00.000000000', '2019-06-26T00:00:00.000000000',\n",
       "       '2019-07-01T00:00:00.000000000', '2019-07-02T00:00:00.000000000',\n",
       "       '2019-07-03T00:00:00.000000000', '2020-07-01T00:00:00.000000000',\n",
       "       '2020-07-07T00:00:00.000000000', '2020-07-09T00:00:00.000000000',\n",
       "       '2020-07-13T00:00:00.000000000', '2021-07-13T00:00:00.000000000'],\n",
       "      dtype='datetime64[ns]')"
      ]
     },
     "execution_count": 95,
     "metadata": {},
     "output_type": "execute_result"
    }
   ],
   "source": [
    "df_nex_vor_agg.Date.sort_values().unique()"
   ]
  },
  {
   "cell_type": "code",
   "execution_count": 24,
   "id": "2a7f439e-1107-4fc3-85f2-a8fed93be34b",
   "metadata": {},
   "outputs": [
    {
     "data": {
      "text/html": [
       "<div>\n",
       "<style scoped>\n",
       "    .dataframe tbody tr th:only-of-type {\n",
       "        vertical-align: middle;\n",
       "    }\n",
       "\n",
       "    .dataframe tbody tr th {\n",
       "        vertical-align: top;\n",
       "    }\n",
       "\n",
       "    .dataframe thead th {\n",
       "        text-align: right;\n",
       "    }\n",
       "</style>\n",
       "<table border=\"1\" class=\"dataframe\">\n",
       "  <thead>\n",
       "    <tr style=\"text-align: right;\">\n",
       "      <th></th>\n",
       "      <th>Site</th>\n",
       "      <th>Disturbance</th>\n",
       "      <th>Exclosure</th>\n",
       "      <th>Date</th>\n",
       "      <th>Date_cln</th>\n",
       "      <th>Year</th>\n",
       "      <th>High_cm</th>\n",
       "      <th>Low_cm</th>\n",
       "      <th>Area (m^2)</th>\n",
       "      <th>Total Weight (g)</th>\n",
       "      <th>Total Weight (g/m^2)</th>\n",
       "    </tr>\n",
       "    <tr>\n",
       "      <th>Date</th>\n",
       "      <th></th>\n",
       "      <th></th>\n",
       "      <th></th>\n",
       "      <th></th>\n",
       "      <th></th>\n",
       "      <th></th>\n",
       "      <th></th>\n",
       "      <th></th>\n",
       "      <th></th>\n",
       "      <th></th>\n",
       "      <th></th>\n",
       "    </tr>\n",
       "  </thead>\n",
       "  <tbody>\n",
       "    <tr>\n",
       "      <th>2015</th>\n",
       "      <td>2</td>\n",
       "      <td>2</td>\n",
       "      <td>2</td>\n",
       "      <td>2</td>\n",
       "      <td>2</td>\n",
       "      <td>2</td>\n",
       "      <td>2</td>\n",
       "      <td>2</td>\n",
       "      <td>2</td>\n",
       "      <td>2</td>\n",
       "      <td>2</td>\n",
       "    </tr>\n",
       "    <tr>\n",
       "      <th>2018</th>\n",
       "      <td>36</td>\n",
       "      <td>36</td>\n",
       "      <td>36</td>\n",
       "      <td>36</td>\n",
       "      <td>36</td>\n",
       "      <td>36</td>\n",
       "      <td>36</td>\n",
       "      <td>36</td>\n",
       "      <td>36</td>\n",
       "      <td>36</td>\n",
       "      <td>36</td>\n",
       "    </tr>\n",
       "    <tr>\n",
       "      <th>2019</th>\n",
       "      <td>36</td>\n",
       "      <td>36</td>\n",
       "      <td>36</td>\n",
       "      <td>36</td>\n",
       "      <td>36</td>\n",
       "      <td>36</td>\n",
       "      <td>36</td>\n",
       "      <td>36</td>\n",
       "      <td>36</td>\n",
       "      <td>36</td>\n",
       "      <td>36</td>\n",
       "    </tr>\n",
       "    <tr>\n",
       "      <th>2020</th>\n",
       "      <td>29</td>\n",
       "      <td>29</td>\n",
       "      <td>29</td>\n",
       "      <td>29</td>\n",
       "      <td>29</td>\n",
       "      <td>29</td>\n",
       "      <td>29</td>\n",
       "      <td>29</td>\n",
       "      <td>29</td>\n",
       "      <td>29</td>\n",
       "      <td>29</td>\n",
       "    </tr>\n",
       "    <tr>\n",
       "      <th>2021</th>\n",
       "      <td>4</td>\n",
       "      <td>4</td>\n",
       "      <td>4</td>\n",
       "      <td>4</td>\n",
       "      <td>4</td>\n",
       "      <td>4</td>\n",
       "      <td>4</td>\n",
       "      <td>4</td>\n",
       "      <td>4</td>\n",
       "      <td>4</td>\n",
       "      <td>4</td>\n",
       "    </tr>\n",
       "  </tbody>\n",
       "</table>\n",
       "</div>"
      ],
      "text/plain": [
       "      Site  Disturbance  Exclosure  Date  Date_cln  Year  High_cm  Low_cm  \\\n",
       "Date                                                                        \n",
       "2015     2            2          2     2         2     2        2       2   \n",
       "2018    36           36         36    36        36    36       36      36   \n",
       "2019    36           36         36    36        36    36       36      36   \n",
       "2020    29           29         29    29        29    29       29      29   \n",
       "2021     4            4          4     4         4     4        4       4   \n",
       "\n",
       "      Area (m^2)  Total Weight (g)  Total Weight (g/m^2)  \n",
       "Date                                                      \n",
       "2015           2                 2                     2  \n",
       "2018          36                36                    36  \n",
       "2019          36                36                    36  \n",
       "2020          29                29                    29  \n",
       "2021           4                 4                     4  "
      ]
     },
     "execution_count": 24,
     "metadata": {},
     "output_type": "execute_result"
    }
   ],
   "source": [
    "df_nex_vor_agg.groupby(df_nex_vor_agg.Date.dt.year).count()"
   ]
  },
  {
   "cell_type": "code",
   "execution_count": 26,
   "id": "1855e319-6edb-4f7c-9622-1ea3c1c20c24",
   "metadata": {},
   "outputs": [
    {
     "data": {
      "text/html": [
       "<div>\n",
       "<style scoped>\n",
       "    .dataframe tbody tr th:only-of-type {\n",
       "        vertical-align: middle;\n",
       "    }\n",
       "\n",
       "    .dataframe tbody tr th {\n",
       "        vertical-align: top;\n",
       "    }\n",
       "\n",
       "    .dataframe thead th {\n",
       "        text-align: right;\n",
       "    }\n",
       "</style>\n",
       "<table border=\"1\" class=\"dataframe\">\n",
       "  <thead>\n",
       "    <tr style=\"text-align: right;\">\n",
       "      <th></th>\n",
       "      <th>Entered By</th>\n",
       "      <th>Observer</th>\n",
       "      <th>Recorder</th>\n",
       "      <th>Date_Surveyed</th>\n",
       "      <th>Transect ID</th>\n",
       "      <th>Direction</th>\n",
       "      <th>Distance_along_transect_m</th>\n",
       "      <th>High_cm</th>\n",
       "      <th>Low_cm</th>\n",
       "      <th>Spp_code</th>\n",
       "      <th>comments</th>\n",
       "      <th>Unnamed: 15</th>\n",
       "    </tr>\n",
       "    <tr>\n",
       "      <th>Year</th>\n",
       "      <th></th>\n",
       "      <th></th>\n",
       "      <th></th>\n",
       "      <th></th>\n",
       "      <th></th>\n",
       "      <th></th>\n",
       "      <th></th>\n",
       "      <th></th>\n",
       "      <th></th>\n",
       "      <th></th>\n",
       "      <th></th>\n",
       "      <th></th>\n",
       "    </tr>\n",
       "  </thead>\n",
       "  <tbody>\n",
       "    <tr>\n",
       "      <th>2015</th>\n",
       "      <td>36</td>\n",
       "      <td>36</td>\n",
       "      <td>36</td>\n",
       "      <td>36</td>\n",
       "      <td>36</td>\n",
       "      <td>36</td>\n",
       "      <td>36</td>\n",
       "      <td>36</td>\n",
       "      <td>36</td>\n",
       "      <td>36</td>\n",
       "      <td>5</td>\n",
       "      <td>1</td>\n",
       "    </tr>\n",
       "    <tr>\n",
       "      <th>2016</th>\n",
       "      <td>36</td>\n",
       "      <td>36</td>\n",
       "      <td>36</td>\n",
       "      <td>36</td>\n",
       "      <td>36</td>\n",
       "      <td>36</td>\n",
       "      <td>36</td>\n",
       "      <td>36</td>\n",
       "      <td>36</td>\n",
       "      <td>36</td>\n",
       "      <td>11</td>\n",
       "      <td>0</td>\n",
       "    </tr>\n",
       "    <tr>\n",
       "      <th>2017</th>\n",
       "      <td>36</td>\n",
       "      <td>36</td>\n",
       "      <td>36</td>\n",
       "      <td>36</td>\n",
       "      <td>36</td>\n",
       "      <td>36</td>\n",
       "      <td>36</td>\n",
       "      <td>36</td>\n",
       "      <td>36</td>\n",
       "      <td>36</td>\n",
       "      <td>4</td>\n",
       "      <td>0</td>\n",
       "    </tr>\n",
       "    <tr>\n",
       "      <th>2018</th>\n",
       "      <td>36</td>\n",
       "      <td>36</td>\n",
       "      <td>36</td>\n",
       "      <td>36</td>\n",
       "      <td>36</td>\n",
       "      <td>36</td>\n",
       "      <td>36</td>\n",
       "      <td>36</td>\n",
       "      <td>36</td>\n",
       "      <td>36</td>\n",
       "      <td>26</td>\n",
       "      <td>0</td>\n",
       "    </tr>\n",
       "    <tr>\n",
       "      <th>2019</th>\n",
       "      <td>36</td>\n",
       "      <td>36</td>\n",
       "      <td>36</td>\n",
       "      <td>36</td>\n",
       "      <td>36</td>\n",
       "      <td>36</td>\n",
       "      <td>36</td>\n",
       "      <td>36</td>\n",
       "      <td>36</td>\n",
       "      <td>36</td>\n",
       "      <td>28</td>\n",
       "      <td>0</td>\n",
       "    </tr>\n",
       "    <tr>\n",
       "      <th>2020</th>\n",
       "      <td>29</td>\n",
       "      <td>29</td>\n",
       "      <td>29</td>\n",
       "      <td>29</td>\n",
       "      <td>29</td>\n",
       "      <td>29</td>\n",
       "      <td>29</td>\n",
       "      <td>29</td>\n",
       "      <td>29</td>\n",
       "      <td>29</td>\n",
       "      <td>5</td>\n",
       "      <td>0</td>\n",
       "    </tr>\n",
       "    <tr>\n",
       "      <th>2021</th>\n",
       "      <td>4</td>\n",
       "      <td>4</td>\n",
       "      <td>4</td>\n",
       "      <td>4</td>\n",
       "      <td>4</td>\n",
       "      <td>4</td>\n",
       "      <td>4</td>\n",
       "      <td>4</td>\n",
       "      <td>4</td>\n",
       "      <td>4</td>\n",
       "      <td>0</td>\n",
       "      <td>0</td>\n",
       "    </tr>\n",
       "  </tbody>\n",
       "</table>\n",
       "</div>"
      ],
      "text/plain": [
       "      Entered By  Observer  Recorder  Date_Surveyed  Transect ID  Direction  \\\n",
       "Year                                                                          \n",
       "2015          36        36        36             36           36         36   \n",
       "2016          36        36        36             36           36         36   \n",
       "2017          36        36        36             36           36         36   \n",
       "2018          36        36        36             36           36         36   \n",
       "2019          36        36        36             36           36         36   \n",
       "2020          29        29        29             29           29         29   \n",
       "2021           4         4         4              4            4          4   \n",
       "\n",
       "      Distance_along_transect_m  High_cm  Low_cm  Spp_code  comments  \\\n",
       "Year                                                                   \n",
       "2015                         36       36      36        36         5   \n",
       "2016                         36       36      36        36        11   \n",
       "2017                         36       36      36        36         4   \n",
       "2018                         36       36      36        36        26   \n",
       "2019                         36       36      36        36        28   \n",
       "2020                         29       29      29        29         5   \n",
       "2021                          4        4       4         4         0   \n",
       "\n",
       "      Unnamed: 15  \n",
       "Year               \n",
       "2015            1  \n",
       "2016            0  \n",
       "2017            0  \n",
       "2018            0  \n",
       "2019            0  \n",
       "2020            0  \n",
       "2021            0  "
      ]
     },
     "execution_count": 26,
     "metadata": {},
     "output_type": "execute_result"
    }
   ],
   "source": [
    "test = nex_xlsx.parse(sheet_name='VOR 15-20', header=0)\n",
    "test['Year'] = test['Date_Surveyed'].dt.year\n",
    "test.groupby(['Year', 'Site', 'Disturbance', 'Exclosure']).first().groupby('Year').count()"
   ]
  },
  {
   "cell_type": "code",
   "execution_count": 27,
   "id": "95509426-57d5-4934-8574-77ca325d0529",
   "metadata": {},
   "outputs": [
    {
     "data": {
      "text/plain": [
       "[numpy.datetime64('2015-06-23T00:00:00.000000000'),\n",
       " numpy.datetime64('2015-06-24T00:00:00.000000000'),\n",
       " numpy.datetime64('2015-06-25T00:00:00.000000000'),\n",
       " numpy.datetime64('2015-06-29T00:00:00.000000000'),\n",
       " numpy.datetime64('2015-06-30T00:00:00.000000000'),\n",
       " numpy.datetime64('2015-07-01T00:00:00.000000000'),\n",
       " numpy.datetime64('2015-07-06T00:00:00.000000000'),\n",
       " numpy.datetime64('2015-07-07T00:00:00.000000000'),\n",
       " numpy.datetime64('2015-07-08T00:00:00.000000000'),\n",
       " numpy.datetime64('2015-07-09T00:00:00.000000000'),\n",
       " numpy.datetime64('2016-06-27T00:00:00.000000000'),\n",
       " numpy.datetime64('2016-06-28T00:00:00.000000000'),\n",
       " numpy.datetime64('2016-06-29T00:00:00.000000000'),\n",
       " numpy.datetime64('2016-06-30T00:00:00.000000000'),\n",
       " numpy.datetime64('2016-07-05T00:00:00.000000000'),\n",
       " numpy.datetime64('2016-07-06T00:00:00.000000000'),\n",
       " numpy.datetime64('2017-06-26T00:00:00.000000000'),\n",
       " numpy.datetime64('2017-06-27T00:00:00.000000000'),\n",
       " numpy.datetime64('2017-06-28T00:00:00.000000000'),\n",
       " numpy.datetime64('2017-06-29T00:00:00.000000000'),\n",
       " numpy.datetime64('2017-07-04T00:00:00.000000000'),\n",
       " numpy.datetime64('2017-07-05T00:00:00.000000000'),\n",
       " numpy.datetime64('2017-07-06T00:00:00.000000000')]"
      ]
     },
     "execution_count": 27,
     "metadata": {},
     "output_type": "execute_result"
    }
   ],
   "source": [
    "# SEEMS LIKE JUNE 2016 AND JUNE AND JULY 2017 SHOULD NOT BE DROPPED (THERE WERE NOT DATES IN BIOMASS DATA, MANUALLY ADJUSTED).\n",
    "# ALSO THE JULY 2019 (BIOMASS SAMPLING WAS DONE 1-3 AND 29-31)?\n",
    "[d for d in test.Date_Surveyed.sort_values().unique() if not d in df_nex_vor_agg.Date.sort_values().unique()]"
   ]
  },
  {
   "cell_type": "code",
   "execution_count": 119,
   "id": "d02a5444-963b-4f71-9c6d-e3b8b3dd4e5e",
   "metadata": {},
   "outputs": [
    {
     "data": {
      "text/plain": [
       "array(['2015-07-01T00:00:00.000000000', '2015-06-29T00:00:00.000000000',\n",
       "       '2015-06-30T00:00:00.000000000', '2015-06-25T00:00:00.000000000',\n",
       "       '2015-07-06T00:00:00.000000000', '2015-07-07T00:00:00.000000000',\n",
       "       '2015-07-08T00:00:00.000000000', '2015-07-09T00:00:00.000000000',\n",
       "       '2015-06-23T00:00:00.000000000', '2015-06-24T00:00:00.000000000',\n",
       "       '2015-07-13T00:00:00.000000000', '2015-07-14T00:00:00.000000000',\n",
       "       '2016-07-05T00:00:00.000000000', '2016-07-06T00:00:00.000000000',\n",
       "       '2016-06-30T00:00:00.000000000', '2016-06-29T00:00:00.000000000',\n",
       "       '2016-06-28T00:00:00.000000000', '2016-06-27T00:00:00.000000000',\n",
       "       '2017-07-04T00:00:00.000000000', '2017-06-29T00:00:00.000000000',\n",
       "       '2017-06-26T00:00:00.000000000', '2017-06-27T00:00:00.000000000',\n",
       "       '2017-06-28T00:00:00.000000000', '2017-07-05T00:00:00.000000000',\n",
       "       '2017-07-06T00:00:00.000000000', '2018-07-03T00:00:00.000000000',\n",
       "       '2018-07-04T00:00:00.000000000', '2018-06-28T00:00:00.000000000',\n",
       "       '2018-06-25T00:00:00.000000000', '2018-06-27T00:00:00.000000000',\n",
       "       '2018-07-02T00:00:00.000000000', '2018-06-26T00:00:00.000000000',\n",
       "       '2019-07-01T00:00:00.000000000', '2019-07-02T00:00:00.000000000',\n",
       "       '2019-07-09T00:00:00.000000000', '2019-06-27T00:00:00.000000000',\n",
       "       '2019-06-24T00:00:00.000000000', '2019-07-08T00:00:00.000000000',\n",
       "       '2019-07-03T00:00:00.000000000', '2021-07-15T00:00:00.000000000',\n",
       "       '2020-07-14T00:00:00.000000000', '2020-07-13T00:00:00.000000000',\n",
       "       '2020-07-01T00:00:00.000000000', '2020-06-30T00:00:00.000000000',\n",
       "       '2020-07-06T00:00:00.000000000', '2020-07-07T00:00:00.000000000',\n",
       "       '2020-07-08T00:00:00.000000000', '2020-07-09T00:00:00.000000000'],\n",
       "      dtype='datetime64[ns]')"
      ]
     },
     "execution_count": 119,
     "metadata": {},
     "output_type": "execute_result"
    }
   ],
   "source": [
    "test.Date_Surveyed.unique()"
   ]
  },
  {
   "cell_type": "code",
   "execution_count": 28,
   "id": "c3cd1f67-448d-4857-89ce-9d61330d3bc1",
   "metadata": {},
   "outputs": [
    {
     "data": {
      "text/plain": [
       "array(['2015-07-13T00:00:00.000000000', '2015-07-14T00:00:00.000000000',\n",
       "       '2018-06-25T00:00:00.000000000', '2018-06-26T00:00:00.000000000',\n",
       "       '2018-06-27T00:00:00.000000000', '2018-06-28T00:00:00.000000000',\n",
       "       '2018-07-02T00:00:00.000000000', '2018-07-03T00:00:00.000000000',\n",
       "       '2018-07-04T00:00:00.000000000', '2019-06-24T00:00:00.000000000',\n",
       "       '2019-06-27T00:00:00.000000000', '2019-07-01T00:00:00.000000000',\n",
       "       '2019-07-02T00:00:00.000000000', '2019-07-03T00:00:00.000000000',\n",
       "       '2019-07-08T00:00:00.000000000', '2019-07-09T00:00:00.000000000',\n",
       "       '2020-06-30T00:00:00.000000000', '2020-07-01T00:00:00.000000000',\n",
       "       '2020-07-06T00:00:00.000000000', '2020-07-07T00:00:00.000000000',\n",
       "       '2020-07-08T00:00:00.000000000', '2020-07-09T00:00:00.000000000',\n",
       "       '2020-07-13T00:00:00.000000000', '2020-07-14T00:00:00.000000000',\n",
       "       '2021-07-15T00:00:00.000000000'], dtype='datetime64[ns]')"
      ]
     },
     "execution_count": 28,
     "metadata": {},
     "output_type": "execute_result"
    }
   ],
   "source": [
    "df_nex_vor_agg.Date.sort_values().unique()"
   ]
  },
  {
   "cell_type": "code",
   "execution_count": null,
   "id": "57e6da30-2dd7-4ee2-b60c-0a470d2b07c7",
   "metadata": {},
   "outputs": [],
   "source": [
    "df_nex_vor_agg[df_nex_vor_agg['Date']]"
   ]
  }
 ],
 "metadata": {
  "kernelspec": {
   "display_name": "Python 3 (ipykernel)",
   "language": "python",
   "name": "python3"
  },
  "language_info": {
   "codemirror_mode": {
    "name": "ipython",
    "version": 3
   },
   "file_extension": ".py",
   "mimetype": "text/x-python",
   "name": "python",
   "nbconvert_exporter": "python",
   "pygments_lexer": "ipython3",
   "version": "3.9.7"
  }
 },
 "nbformat": 4,
 "nbformat_minor": 5
}
