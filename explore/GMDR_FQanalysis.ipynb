{
 "cells": [
  {
   "cell_type": "code",
   "execution_count": 1,
   "id": "d1a72665-9d2e-48e7-ace0-a0483608c861",
   "metadata": {},
   "outputs": [],
   "source": [
    "import pandas as pd\n",
    "import numpy as np\n",
    "import datetime\n",
    "import seaborn as sns"
   ]
  },
  {
   "cell_type": "code",
   "execution_count": 2,
   "id": "a19d287a-2c14-4672-8ff5-3b45b224d6b3",
   "metadata": {},
   "outputs": [],
   "source": [
    "fq = pd.read_csv(r'C:\\Users\\John\\OneDrive\\Desktop\\GxDR_Data\\FQ_analysis\\GMDR_FQ.csv')\n",
    "anpp= pd.read_csv('GMDR_ANPP_13Dec21.csv')\n",
    "robel= pd.read_csv('GMDR_ROBEL_2021.csv', parse_dates= {\"Date1\" : [\"Year\",\"Month\",\"Date\"]})\n",
    "clips= pd.read_csv('GMDR_ExitClips.csv')"
   ]
  },
  {
   "cell_type": "markdown",
   "id": "b23640d4-3245-4698-9699-8ce2786c68cc",
   "metadata": {},
   "source": [
    "# ANPP"
   ]
  },
  {
   "cell_type": "markdown",
   "id": "201cf917-4489-4448-8bdd-162121deac67",
   "metadata": {},
   "source": [
    "Create list of columns for smaller anpp table"
   ]
  },
  {
   "cell_type": "code",
   "execution_count": 3,
   "id": "fc6a763e-f52c-472a-a38d-2f7439daa9ff",
   "metadata": {},
   "outputs": [],
   "source": [
    "anppcols=['Date', 'Year', 'Drought', 'Grazing', 'PlotID', 'C3P(g)', 'C4P(g)', \n",
    "      'Forb(g)','Standing Dead(g)', 'Vulpia(g)', 'Bromus(g)']\n",
    "anpp=anpp[anppcols]"
   ]
  },
  {
   "cell_type": "code",
   "execution_count": 4,
   "id": "f457d7e8-6bd4-4c55-baa3-a9b781c55b8b",
   "metadata": {},
   "outputs": [
    {
     "data": {
      "text/plain": [
       "108    nan\n",
       "109    nan\n",
       "110    nan\n",
       "111    nan\n",
       "112    nan\n",
       "      ... \n",
       "211    nan\n",
       "212    nan\n",
       "213    nan\n",
       "214    nan\n",
       "215    nan\n",
       "Name: Date, Length: 108, dtype: object"
      ]
     },
     "execution_count": 4,
     "metadata": {},
     "output_type": "execute_result"
    }
   ],
   "source": [
    "# Convert NaN values to the string 'nan' in order to be able to interpret with dictionary below\n",
    "anpp['Date'][anpp['Date'].isna()]= 'nan'\n",
    "anpp['Date'][anpp['Date']=='nan']"
   ]
  },
  {
   "cell_type": "code",
   "execution_count": 5,
   "id": "31138a2f-bc6a-4d77-8844-ed05cabec8c8",
   "metadata": {},
   "outputs": [
    {
     "data": {
      "text/plain": [
       "array(['July, 2019', 'nan', '7/28/2020', '7/29/2020', '7/30/2020',\n",
       "       '7/27/2021'], dtype=object)"
      ]
     },
     "execution_count": 5,
     "metadata": {},
     "output_type": "execute_result"
    }
   ],
   "source": [
    "# Figure out which values occur in the date column\n",
    "pd.unique(anpp.Date)"
   ]
  },
  {
   "cell_type": "code",
   "execution_count": 6,
   "id": "47e1bde9-3c1e-4946-9d2d-998f4dc37e4c",
   "metadata": {},
   "outputs": [],
   "source": [
    "# Make a nested dictionary relating date values to what they should be\n",
    "datedict={\n",
    "    2018: {'nan': '7/27/2018'},\n",
    "    2019: {'July, 2019': '7/24/2019'},\n",
    "    2020: {'7/28/2020': '7/28/2020',\n",
    "           '7/29/2020': '7/28/2020',\n",
    "           '7/30/2020': '7/28/2020'},\n",
    "    2021: {'7/27/2021': '7/27/2021'},\n",
    "          }"
   ]
  },
  {
   "cell_type": "code",
   "execution_count": 7,
   "id": "187d5315-16bc-420e-ae08-1004cf19be0e",
   "metadata": {},
   "outputs": [],
   "source": [
    "# Overwrite Date column using dictionary and lambda function\n",
    "anpp['Date']= anpp.apply(lambda row: datedict[row.Year][row.Date] if row.Year in datedict.keys() else row.Date, \n",
    "                            axis=1)\n",
    "\n",
    "# Convert Date column to datetime data type\n",
    "anpp['Date']= pd.to_datetime(anpp['Date'])"
   ]
  },
  {
   "cell_type": "markdown",
   "id": "bcf5372a-8061-4bed-ba04-b676e9cd003d",
   "metadata": {},
   "source": [
    "Create a list of columns (biomass categories) to be added together"
   ]
  },
  {
   "cell_type": "code",
   "execution_count": 8,
   "id": "f70e6e68-aca5-48e1-beae-be9044b45550",
   "metadata": {},
   "outputs": [],
   "source": [
    "#Create a list of columns (biomass categories) to be added together for total biomass \n",
    "plants=['C3P(g)', 'C4P(g)', 'Forb(g)','Standing Dead(g)', 'Vulpia(g)', 'Bromus(g)']"
   ]
  },
  {
   "cell_type": "markdown",
   "id": "37978da1-6420-42b2-85ba-cf7364bbe5c5",
   "metadata": {},
   "source": [
    "Vulpia and Brome are type object not float64"
   ]
  },
  {
   "cell_type": "code",
   "execution_count": 9,
   "id": "e2a28eb1-092d-4a4e-b75f-7536de756991",
   "metadata": {},
   "outputs": [
    {
     "data": {
      "text/plain": [
       "132       ?\n",
       "157       ?\n",
       "247    1.13\n",
       "182     0.9\n",
       "154     0.7\n",
       "       ... \n",
       "33        0\n",
       "252       0\n",
       "431       0\n",
       "146     NaN\n",
       "158     NaN\n",
       "Name: Vulpia(g), Length: 432, dtype: object"
      ]
     },
     "execution_count": 9,
     "metadata": {},
     "output_type": "execute_result"
    }
   ],
   "source": [
    "# Look at sorted Vulpia data to assess why it is not a float\n",
    "anpp['Vulpia(g)'].sort_values(ascending=False)\n"
   ]
  },
  {
   "cell_type": "code",
   "execution_count": 10,
   "id": "2e39ecd9-c587-48fa-9d3e-9a57dc300e63",
   "metadata": {},
   "outputs": [
    {
     "data": {
      "text/plain": [
       "132       ?\n",
       "118    9.45\n",
       "1       7.6\n",
       "355    5.91\n",
       "119    5.85\n",
       "       ... \n",
       "305       0\n",
       "306       0\n",
       "431       0\n",
       "146     NaN\n",
       "158     NaN\n",
       "Name: Bromus(g), Length: 432, dtype: object"
      ]
     },
     "execution_count": 10,
     "metadata": {},
     "output_type": "execute_result"
    }
   ],
   "source": [
    "# Look at sorted Bromus data to assess why it is not a float\n",
    "anpp['Bromus(g)'].sort_values(ascending=False)"
   ]
  },
  {
   "cell_type": "markdown",
   "id": "eff51094-9439-4c83-95ae-a2a33ecbfa70",
   "metadata": {},
   "source": [
    "Replace the 2 records of Vulpia and 1 of Bromus equal to ? with 0. and set series to float datatype"
   ]
  },
  {
   "cell_type": "code",
   "execution_count": 11,
   "id": "cc80efef-f38b-4d8e-b20a-a870f6096ac7",
   "metadata": {},
   "outputs": [],
   "source": [
    "anpp['Vulpia(g)'].replace('?','0', inplace=True)\n",
    "anpp['Vulpia(g)']=anpp['Vulpia(g)'].astype('float64')\n",
    "\n",
    "anpp['Bromus(g)'].replace('?','0', inplace=True)\n",
    "anpp['Bromus(g)']=anpp['Vulpia(g)'].astype('float64')"
   ]
  },
  {
   "cell_type": "markdown",
   "id": "b51e33b4-63f7-434d-8e71-1ba78fea7386",
   "metadata": {},
   "source": [
    "Remove 2018- from plot IDS"
   ]
  },
  {
   "cell_type": "code",
   "execution_count": 12,
   "id": "e0085055-8905-43d2-bda2-8e4bbe713feb",
   "metadata": {},
   "outputs": [
    {
     "data": {
      "text/html": [
       "<div>\n",
       "<style scoped>\n",
       "    .dataframe tbody tr th:only-of-type {\n",
       "        vertical-align: middle;\n",
       "    }\n",
       "\n",
       "    .dataframe tbody tr th {\n",
       "        vertical-align: top;\n",
       "    }\n",
       "\n",
       "    .dataframe thead th {\n",
       "        text-align: right;\n",
       "    }\n",
       "</style>\n",
       "<table border=\"1\" class=\"dataframe\">\n",
       "  <thead>\n",
       "    <tr style=\"text-align: right;\">\n",
       "      <th></th>\n",
       "      <th>Date</th>\n",
       "      <th>Year</th>\n",
       "      <th>Drought</th>\n",
       "      <th>Grazing</th>\n",
       "      <th>PlotID</th>\n",
       "      <th>C3P(g)</th>\n",
       "      <th>C4P(g)</th>\n",
       "      <th>Forb(g)</th>\n",
       "      <th>Standing Dead(g)</th>\n",
       "      <th>Vulpia(g)</th>\n",
       "      <th>Bromus(g)</th>\n",
       "    </tr>\n",
       "  </thead>\n",
       "  <tbody>\n",
       "    <tr>\n",
       "      <th>108</th>\n",
       "      <td>2018-07-27</td>\n",
       "      <td>2018</td>\n",
       "      <td>75</td>\n",
       "      <td>HHMMM</td>\n",
       "      <td>2018-1</td>\n",
       "      <td>2.40</td>\n",
       "      <td>3.45</td>\n",
       "      <td>0.80</td>\n",
       "      <td>0.55</td>\n",
       "      <td>0.01</td>\n",
       "      <td>0.01</td>\n",
       "    </tr>\n",
       "    <tr>\n",
       "      <th>109</th>\n",
       "      <td>2018-07-27</td>\n",
       "      <td>2018</td>\n",
       "      <td>75</td>\n",
       "      <td>HHMMM</td>\n",
       "      <td>2018-1</td>\n",
       "      <td>1.15</td>\n",
       "      <td>5.00</td>\n",
       "      <td>1.15</td>\n",
       "      <td>1.35</td>\n",
       "      <td>0.00</td>\n",
       "      <td>0.00</td>\n",
       "    </tr>\n",
       "    <tr>\n",
       "      <th>110</th>\n",
       "      <td>2018-07-27</td>\n",
       "      <td>2018</td>\n",
       "      <td>99</td>\n",
       "      <td>HHMMM</td>\n",
       "      <td>2018-2</td>\n",
       "      <td>2.20</td>\n",
       "      <td>4.85</td>\n",
       "      <td>5.80</td>\n",
       "      <td>1.15</td>\n",
       "      <td>0.05</td>\n",
       "      <td>0.05</td>\n",
       "    </tr>\n",
       "    <tr>\n",
       "      <th>111</th>\n",
       "      <td>2018-07-27</td>\n",
       "      <td>2018</td>\n",
       "      <td>99</td>\n",
       "      <td>HHMMM</td>\n",
       "      <td>2018-2</td>\n",
       "      <td>23.90</td>\n",
       "      <td>0.00</td>\n",
       "      <td>0.15</td>\n",
       "      <td>4.45</td>\n",
       "      <td>0.00</td>\n",
       "      <td>0.00</td>\n",
       "    </tr>\n",
       "    <tr>\n",
       "      <th>112</th>\n",
       "      <td>2018-07-27</td>\n",
       "      <td>2018</td>\n",
       "      <td>1</td>\n",
       "      <td>HHMMM</td>\n",
       "      <td>2018-3</td>\n",
       "      <td>3.80</td>\n",
       "      <td>3.25</td>\n",
       "      <td>6.15</td>\n",
       "      <td>1.90</td>\n",
       "      <td>0.20</td>\n",
       "      <td>0.20</td>\n",
       "    </tr>\n",
       "  </tbody>\n",
       "</table>\n",
       "</div>"
      ],
      "text/plain": [
       "          Date  Year  Drought Grazing  PlotID  C3P(g)  C4P(g)  Forb(g)  \\\n",
       "108 2018-07-27  2018       75   HHMMM  2018-1    2.40    3.45     0.80   \n",
       "109 2018-07-27  2018       75   HHMMM  2018-1    1.15    5.00     1.15   \n",
       "110 2018-07-27  2018       99   HHMMM  2018-2    2.20    4.85     5.80   \n",
       "111 2018-07-27  2018       99   HHMMM  2018-2   23.90    0.00     0.15   \n",
       "112 2018-07-27  2018        1   HHMMM  2018-3    3.80    3.25     6.15   \n",
       "\n",
       "     Standing Dead(g)  Vulpia(g)  Bromus(g)  \n",
       "108              0.55       0.01       0.01  \n",
       "109              1.35       0.00       0.00  \n",
       "110              1.15       0.05       0.05  \n",
       "111              4.45       0.00       0.00  \n",
       "112              1.90       0.20       0.20  "
      ]
     },
     "execution_count": 12,
     "metadata": {},
     "output_type": "execute_result"
    }
   ],
   "source": [
    "anpp[anpp.PlotID.str.startswith('2018-')].head()"
   ]
  },
  {
   "cell_type": "code",
   "execution_count": 13,
   "id": "6a9a2903-3195-4629-b9ea-1ec8763bd4a5",
   "metadata": {},
   "outputs": [],
   "source": [
    "# Create lambda function that removes 2018 from PlotID.  It splits PlotID into a tuple and takes the second value [1]\n",
    "anpp['PlotID']= anpp.apply(lambda row: row['PlotID'].split('-')[1] if row['PlotID'].startswith('2018-') else\n",
    "                            row['PlotID'], axis=1)\n"
   ]
  },
  {
   "cell_type": "markdown",
   "id": "97c7584d-a292-4647-8cc3-28bc77066207",
   "metadata": {},
   "source": [
    "Sum biomass of forage quality types and put in new column, divide by 0.05 for g per m2"
   ]
  },
  {
   "cell_type": "code",
   "execution_count": 16,
   "id": "c2cecda5-14e3-46cd-812f-cba9239a3e0b",
   "metadata": {},
   "outputs": [],
   "source": [
    "anpp['total']= anpp[plants].sum(axis=1) #   df['Sum'] = df[col_list].sum(axis=1)"
   ]
  },
  {
   "cell_type": "code",
   "execution_count": 17,
   "id": "a4feb650-bad9-4e93-a87a-a61cb3e1c395",
   "metadata": {},
   "outputs": [],
   "source": [
    "anpp['g/m2']=anpp.total/0.05"
   ]
  },
  {
   "cell_type": "markdown",
   "id": "1426f123-f206-4927-afa9-6ff80f752557",
   "metadata": {},
   "source": [
    "# fq"
   ]
  },
  {
   "cell_type": "code",
   "execution_count": 18,
   "id": "50625def-5b71-4550-85a3-108690647361",
   "metadata": {},
   "outputs": [],
   "source": [
    "# Make a list of just the columns we want\n",
    "fqcol = ['DateCollected', 'Year', 'Drought', 'Grazing', 'PlotID', 'g/m2']\n",
    "fq = fq[fqcol]"
   ]
  },
  {
   "cell_type": "markdown",
   "id": "a57a3ded-3f56-4dc1-a61c-642cc6666476",
   "metadata": {},
   "source": [
    "Change name of DateCollected column to Date"
   ]
  },
  {
   "cell_type": "code",
   "execution_count": 19,
   "id": "e2191656-baa3-4052-99e9-5e8aefd2bc55",
   "metadata": {},
   "outputs": [],
   "source": [
    "fq.rename(columns={'DateCollected': 'Date'}, inplace=True)"
   ]
  },
  {
   "cell_type": "markdown",
   "id": "b783f219-ba50-434e-a70d-6e03f1cbe1a5",
   "metadata": {},
   "source": [
    "combine (append) anpp to fq ne dataframe should have 366 + 432 = 798 rows"
   ]
  },
  {
   "cell_type": "code",
   "execution_count": 20,
   "id": "8cef28e0-49c9-419d-b4e1-8164fbc9f1a7",
   "metadata": {},
   "outputs": [],
   "source": [
    "fq1=pd.concat([fq,anpp], ignore_index=True, join='inner')"
   ]
  },
  {
   "cell_type": "markdown",
   "id": "cbfb64dc-89da-44e4-8b10-b3f983a2f8b7",
   "metadata": {},
   "source": [
    "summarize with groupby/agg to get means for each drought treatment for each year"
   ]
  },
  {
   "cell_type": "code",
   "execution_count": 22,
   "id": "7cca0ba7-ccd7-42cb-b2e6-e09ed1aeb82c",
   "metadata": {},
   "outputs": [
    {
     "data": {
      "text/html": [
       "<div>\n",
       "<style scoped>\n",
       "    .dataframe tbody tr th:only-of-type {\n",
       "        vertical-align: middle;\n",
       "    }\n",
       "\n",
       "    .dataframe tbody tr th {\n",
       "        vertical-align: top;\n",
       "    }\n",
       "\n",
       "    .dataframe thead th {\n",
       "        text-align: right;\n",
       "    }\n",
       "</style>\n",
       "<table border=\"1\" class=\"dataframe\">\n",
       "  <thead>\n",
       "    <tr style=\"text-align: right;\">\n",
       "      <th></th>\n",
       "      <th></th>\n",
       "      <th>g/m2</th>\n",
       "    </tr>\n",
       "    <tr>\n",
       "      <th>Year</th>\n",
       "      <th>Drought</th>\n",
       "      <th></th>\n",
       "    </tr>\n",
       "  </thead>\n",
       "  <tbody>\n",
       "    <tr>\n",
       "      <th rowspan=\"6\" valign=\"top\">2018</th>\n",
       "      <th>1</th>\n",
       "      <td>262.200000</td>\n",
       "    </tr>\n",
       "    <tr>\n",
       "      <th>2</th>\n",
       "      <td>268.322222</td>\n",
       "    </tr>\n",
       "    <tr>\n",
       "      <th>25</th>\n",
       "      <td>306.333333</td>\n",
       "    </tr>\n",
       "    <tr>\n",
       "      <th>50</th>\n",
       "      <td>338.744444</td>\n",
       "    </tr>\n",
       "    <tr>\n",
       "      <th>75</th>\n",
       "      <td>268.455556</td>\n",
       "    </tr>\n",
       "    <tr>\n",
       "      <th>99</th>\n",
       "      <td>340.622222</td>\n",
       "    </tr>\n",
       "    <tr>\n",
       "      <th rowspan=\"6\" valign=\"top\">2019</th>\n",
       "      <th>1</th>\n",
       "      <td>106.944444</td>\n",
       "    </tr>\n",
       "    <tr>\n",
       "      <th>2</th>\n",
       "      <td>132.400000</td>\n",
       "    </tr>\n",
       "    <tr>\n",
       "      <th>25</th>\n",
       "      <td>123.811111</td>\n",
       "    </tr>\n",
       "    <tr>\n",
       "      <th>50</th>\n",
       "      <td>135.303704</td>\n",
       "    </tr>\n",
       "    <tr>\n",
       "      <th>75</th>\n",
       "      <td>106.238889</td>\n",
       "    </tr>\n",
       "    <tr>\n",
       "      <th>99</th>\n",
       "      <td>138.011111</td>\n",
       "    </tr>\n",
       "    <tr>\n",
       "      <th rowspan=\"6\" valign=\"top\">2020</th>\n",
       "      <th>1</th>\n",
       "      <td>106.809756</td>\n",
       "    </tr>\n",
       "    <tr>\n",
       "      <th>2</th>\n",
       "      <td>95.873684</td>\n",
       "    </tr>\n",
       "    <tr>\n",
       "      <th>25</th>\n",
       "      <td>131.810526</td>\n",
       "    </tr>\n",
       "    <tr>\n",
       "      <th>50</th>\n",
       "      <td>129.447368</td>\n",
       "    </tr>\n",
       "    <tr>\n",
       "      <th>75</th>\n",
       "      <td>105.229268</td>\n",
       "    </tr>\n",
       "    <tr>\n",
       "      <th>99</th>\n",
       "      <td>132.415000</td>\n",
       "    </tr>\n",
       "    <tr>\n",
       "      <th rowspan=\"6\" valign=\"top\">2021</th>\n",
       "      <th>1</th>\n",
       "      <td>90.428205</td>\n",
       "    </tr>\n",
       "    <tr>\n",
       "      <th>2</th>\n",
       "      <td>102.851351</td>\n",
       "    </tr>\n",
       "    <tr>\n",
       "      <th>25</th>\n",
       "      <td>92.682051</td>\n",
       "    </tr>\n",
       "    <tr>\n",
       "      <th>50</th>\n",
       "      <td>99.048649</td>\n",
       "    </tr>\n",
       "    <tr>\n",
       "      <th>75</th>\n",
       "      <td>56.127132</td>\n",
       "    </tr>\n",
       "    <tr>\n",
       "      <th>99</th>\n",
       "      <td>71.866667</td>\n",
       "    </tr>\n",
       "  </tbody>\n",
       "</table>\n",
       "</div>"
      ],
      "text/plain": [
       "                    g/m2\n",
       "Year Drought            \n",
       "2018 1        262.200000\n",
       "     2        268.322222\n",
       "     25       306.333333\n",
       "     50       338.744444\n",
       "     75       268.455556\n",
       "     99       340.622222\n",
       "2019 1        106.944444\n",
       "     2        132.400000\n",
       "     25       123.811111\n",
       "     50       135.303704\n",
       "     75       106.238889\n",
       "     99       138.011111\n",
       "2020 1        106.809756\n",
       "     2         95.873684\n",
       "     25       131.810526\n",
       "     50       129.447368\n",
       "     75       105.229268\n",
       "     99       132.415000\n",
       "2021 1         90.428205\n",
       "     2        102.851351\n",
       "     25        92.682051\n",
       "     50        99.048649\n",
       "     75        56.127132\n",
       "     99        71.866667"
      ]
     },
     "execution_count": 22,
     "metadata": {},
     "output_type": "execute_result"
    }
   ],
   "source": [
    "fqm = fq1.groupby(['Year', 'Drought']).agg({'g/m2': 'mean'})\n",
    "fqm"
   ]
  },
  {
   "cell_type": "markdown",
   "id": "3004f1c7-4747-44a8-9609-17074d1dd454",
   "metadata": {},
   "source": [
    "# robel"
   ]
  },
  {
   "cell_type": "code",
   "execution_count": 23,
   "id": "34c469a7-209c-478d-95f3-23fa3cca4ca7",
   "metadata": {},
   "outputs": [],
   "source": [
    "# Make a list of just the columns we want\n",
    "robelcols = ['Date1', 'Block', 'Paddock', 'Plot', 'Direction', 'Location', 'Height Hi', 'Height Lo']\n",
    "robel = robel[robelcols]"
   ]
  },
  {
   "cell_type": "code",
   "execution_count": 24,
   "id": "ef537283-5934-4986-8139-89b81e8d2963",
   "metadata": {},
   "outputs": [],
   "source": [
    "robel['Robel_loc'] = robel['Block'].map(str) + '-' + robel['Paddock'].map(str) + '-' + robel['Location']"
   ]
  },
  {
   "cell_type": "code",
   "execution_count": 25,
   "id": "58bd1b33-5a8b-45e2-9e8f-50983993c487",
   "metadata": {},
   "outputs": [],
   "source": [
    "robel[robel['Height Lo'] == '.']\n",
    "robel.loc[robel['Height Lo'] == '.', 'Height Lo'] = np.nan\n",
    "robel.loc[robel['Height Hi'] == '.', 'Height Hi'] = np.nan\n",
    "#robel['Height Lo'][robel['Height Lo'] == '.']=np.nan"
   ]
  },
  {
   "cell_type": "code",
   "execution_count": 26,
   "id": "32d07c95-9fea-4134-99b2-c185b40c862f",
   "metadata": {},
   "outputs": [],
   "source": [
    "robel['Year']=robel['Date1'].dt.year\n",
    "robel['Height Lo'] = robel['Height Lo'].astype('float64')\n",
    "robel['Height Hi'] = robel['Height Hi'].astype('float64')"
   ]
  },
  {
   "cell_type": "markdown",
   "id": "56e27002-4599-44ab-a44a-a080d7f697c9",
   "metadata": {},
   "source": [
    "# Clips"
   ]
  },
  {
   "cell_type": "code",
   "execution_count": 27,
   "id": "765bac2a-82f8-4dce-9c00-a773e8a458ee",
   "metadata": {},
   "outputs": [],
   "source": [
    "clipscols=['Year', 'Block', 'Paddock', 'Plot', 'Location', 'GrazingTrt2019', 'GrazingTrt2020', 'GrazingTrt2021', 'g/m2']\n",
    "clips= clips[clipscols]"
   ]
  },
  {
   "cell_type": "code",
   "execution_count": 28,
   "id": "06ad4deb-5c46-4d7e-ac19-d9a06446fb57",
   "metadata": {},
   "outputs": [],
   "source": [
    "clips['Robel_loc'] = clips['Block'].map(str) + '-' + clips['Paddock'].map(str) + '-' + clips['Location']\n"
   ]
  },
  {
   "cell_type": "code",
   "execution_count": 29,
   "id": "53fa4fc8-e315-4700-9004-853dfb4d9fe9",
   "metadata": {},
   "outputs": [],
   "source": [
    "clips['Date']= clips.apply(lambda row: str(row.Year) + '-' + '08-01', axis=1)\n",
    "\n",
    "clips['Date']= pd.to_datetime(clips['Date'])\n",
    "#clips['Date']= clips['Date'].astype(datetime64)\n",
    "\n",
    "#anpp['Date']= anpp.apply(lambda row: datedict[row.Year][row.Date] if row.Year in datedict.keys() else row.Date, \n",
    " #                           axis=1)"
   ]
  },
  {
   "cell_type": "code",
   "execution_count": 30,
   "id": "01a99ac8-221a-4797-a4ca-71226a02fdeb",
   "metadata": {},
   "outputs": [],
   "source": [
    "robelclip= pd.merge_asof( clips.sort_values('Date'),\n",
    "                         robel.sort_values('Date1'),\n",
    "                         left_on= 'Date',\n",
    "                         right_on= 'Date1',\n",
    "                         by=['Block', 'Paddock', 'Robel_loc'],\n",
    "                         direction= 'nearest',\n",
    "                         tolerance= datetime.timedelta(days= 30),\n",
    "                         suffixes=['_x', ''])"
   ]
  },
  {
   "cell_type": "code",
   "execution_count": 31,
   "id": "0ff1ae3d-1549-4e18-a851-90958d902f70",
   "metadata": {},
   "outputs": [],
   "source": [
    "robelclip['Height Lo'] = robelclip['Height Lo'].astype('float64')\n",
    "robelclip['Height Hi'] = robelclip['Height Hi'].astype('float64')"
   ]
  },
  {
   "cell_type": "code",
   "execution_count": 32,
   "id": "5a2b3d6b-0034-45f6-bb16-a9446dcf8087",
   "metadata": {},
   "outputs": [
    {
     "data": {
      "text/html": [
       "<div>\n",
       "<style scoped>\n",
       "    .dataframe tbody tr th:only-of-type {\n",
       "        vertical-align: middle;\n",
       "    }\n",
       "\n",
       "    .dataframe tbody tr th {\n",
       "        vertical-align: top;\n",
       "    }\n",
       "\n",
       "    .dataframe thead th {\n",
       "        text-align: right;\n",
       "    }\n",
       "</style>\n",
       "<table border=\"1\" class=\"dataframe\">\n",
       "  <thead>\n",
       "    <tr style=\"text-align: right;\">\n",
       "      <th></th>\n",
       "      <th>Date1</th>\n",
       "      <th>Block</th>\n",
       "      <th>Paddock</th>\n",
       "      <th>Plot</th>\n",
       "      <th>Direction</th>\n",
       "      <th>Location</th>\n",
       "      <th>Height Hi</th>\n",
       "      <th>Height Lo</th>\n",
       "      <th>Robel_loc</th>\n",
       "      <th>Year</th>\n",
       "      <th>GrazingTrt2019</th>\n",
       "      <th>GrazingTrt2020</th>\n",
       "      <th>GrazingTrt2021</th>\n",
       "      <th>g/m2</th>\n",
       "      <th>Date</th>\n",
       "    </tr>\n",
       "  </thead>\n",
       "  <tbody>\n",
       "    <tr>\n",
       "      <th>0</th>\n",
       "      <td>2020-06-30</td>\n",
       "      <td>1</td>\n",
       "      <td>1</td>\n",
       "      <td>13.0</td>\n",
       "      <td>NaN</td>\n",
       "      <td>13NE</td>\n",
       "      <td>16.0</td>\n",
       "      <td>3.0</td>\n",
       "      <td>1-1-13NE</td>\n",
       "      <td>2020</td>\n",
       "      <td>NaN</td>\n",
       "      <td>M</td>\n",
       "      <td>M</td>\n",
       "      <td>28.6</td>\n",
       "      <td>2020-08-01</td>\n",
       "    </tr>\n",
       "    <tr>\n",
       "      <th>1</th>\n",
       "      <td>2020-07-02</td>\n",
       "      <td>1</td>\n",
       "      <td>1</td>\n",
       "      <td>13.0</td>\n",
       "      <td>NaN</td>\n",
       "      <td>13NE</td>\n",
       "      <td>22.0</td>\n",
       "      <td>7.0</td>\n",
       "      <td>1-1-13NE</td>\n",
       "      <td>2020</td>\n",
       "      <td>NaN</td>\n",
       "      <td>M</td>\n",
       "      <td>M</td>\n",
       "      <td>28.6</td>\n",
       "      <td>2020-08-01</td>\n",
       "    </tr>\n",
       "    <tr>\n",
       "      <th>2</th>\n",
       "      <td>2020-07-03</td>\n",
       "      <td>1</td>\n",
       "      <td>1</td>\n",
       "      <td>13.0</td>\n",
       "      <td>NaN</td>\n",
       "      <td>13NE</td>\n",
       "      <td>23.0</td>\n",
       "      <td>3.0</td>\n",
       "      <td>1-1-13NE</td>\n",
       "      <td>2020</td>\n",
       "      <td>NaN</td>\n",
       "      <td>M</td>\n",
       "      <td>M</td>\n",
       "      <td>28.6</td>\n",
       "      <td>2020-08-01</td>\n",
       "    </tr>\n",
       "    <tr>\n",
       "      <th>3</th>\n",
       "      <td>2020-07-04</td>\n",
       "      <td>1</td>\n",
       "      <td>1</td>\n",
       "      <td>13.0</td>\n",
       "      <td>NaN</td>\n",
       "      <td>13NE</td>\n",
       "      <td>12.0</td>\n",
       "      <td>3.0</td>\n",
       "      <td>1-1-13NE</td>\n",
       "      <td>2020</td>\n",
       "      <td>NaN</td>\n",
       "      <td>M</td>\n",
       "      <td>M</td>\n",
       "      <td>28.6</td>\n",
       "      <td>2020-08-01</td>\n",
       "    </tr>\n",
       "    <tr>\n",
       "      <th>4</th>\n",
       "      <td>2020-07-05</td>\n",
       "      <td>1</td>\n",
       "      <td>1</td>\n",
       "      <td>13.0</td>\n",
       "      <td>NaN</td>\n",
       "      <td>13NE</td>\n",
       "      <td>12.0</td>\n",
       "      <td>3.0</td>\n",
       "      <td>1-1-13NE</td>\n",
       "      <td>2020</td>\n",
       "      <td>NaN</td>\n",
       "      <td>M</td>\n",
       "      <td>M</td>\n",
       "      <td>28.6</td>\n",
       "      <td>2020-08-01</td>\n",
       "    </tr>\n",
       "  </tbody>\n",
       "</table>\n",
       "</div>"
      ],
      "text/plain": [
       "       Date1  Block  Paddock  Plot Direction Location  Height Hi  Height Lo  \\\n",
       "0 2020-06-30      1        1  13.0       NaN     13NE       16.0        3.0   \n",
       "1 2020-07-02      1        1  13.0       NaN     13NE       22.0        7.0   \n",
       "2 2020-07-03      1        1  13.0       NaN     13NE       23.0        3.0   \n",
       "3 2020-07-04      1        1  13.0       NaN     13NE       12.0        3.0   \n",
       "4 2020-07-05      1        1  13.0       NaN     13NE       12.0        3.0   \n",
       "\n",
       "  Robel_loc  Year GrazingTrt2019 GrazingTrt2020 GrazingTrt2021  g/m2  \\\n",
       "0  1-1-13NE  2020            NaN              M              M  28.6   \n",
       "1  1-1-13NE  2020            NaN              M              M  28.6   \n",
       "2  1-1-13NE  2020            NaN              M              M  28.6   \n",
       "3  1-1-13NE  2020            NaN              M              M  28.6   \n",
       "4  1-1-13NE  2020            NaN              M              M  28.6   \n",
       "\n",
       "        Date  \n",
       "0 2020-08-01  \n",
       "1 2020-08-01  \n",
       "2 2020-08-01  \n",
       "3 2020-08-01  \n",
       "4 2020-08-01  "
      ]
     },
     "execution_count": 32,
     "metadata": {},
     "output_type": "execute_result"
    }
   ],
   "source": [
    "robelclips= pd.merge(robel,clips)\n",
    "robelclips.head()"
   ]
  },
  {
   "cell_type": "code",
   "execution_count": 33,
   "id": "3b4a19c0-a752-4eda-aa49-35b3ff6d7b7b",
   "metadata": {},
   "outputs": [
    {
     "data": {
      "text/html": [
       "<div>\n",
       "<style scoped>\n",
       "    .dataframe tbody tr th:only-of-type {\n",
       "        vertical-align: middle;\n",
       "    }\n",
       "\n",
       "    .dataframe tbody tr th {\n",
       "        vertical-align: top;\n",
       "    }\n",
       "\n",
       "    .dataframe thead th {\n",
       "        text-align: right;\n",
       "    }\n",
       "</style>\n",
       "<table border=\"1\" class=\"dataframe\">\n",
       "  <thead>\n",
       "    <tr style=\"text-align: right;\">\n",
       "      <th></th>\n",
       "      <th>Year_x</th>\n",
       "      <th>Block</th>\n",
       "      <th>Paddock</th>\n",
       "      <th>Plot_x</th>\n",
       "      <th>Location_x</th>\n",
       "      <th>GrazingTrt2019</th>\n",
       "      <th>GrazingTrt2020</th>\n",
       "      <th>GrazingTrt2021</th>\n",
       "      <th>g/m2</th>\n",
       "      <th>Robel_loc</th>\n",
       "      <th>Date</th>\n",
       "      <th>Date1</th>\n",
       "      <th>Plot</th>\n",
       "      <th>Direction</th>\n",
       "      <th>Location</th>\n",
       "      <th>Height Hi</th>\n",
       "      <th>Height Lo</th>\n",
       "      <th>Year</th>\n",
       "    </tr>\n",
       "  </thead>\n",
       "  <tbody>\n",
       "    <tr>\n",
       "      <th>68</th>\n",
       "      <td>2020</td>\n",
       "      <td>1</td>\n",
       "      <td>2</td>\n",
       "      <td>1</td>\n",
       "      <td>1NE</td>\n",
       "      <td>NaN</td>\n",
       "      <td>H</td>\n",
       "      <td>M</td>\n",
       "      <td>24.6</td>\n",
       "      <td>1-2-1NE</td>\n",
       "      <td>2020-08-01</td>\n",
       "      <td>2020-07-13</td>\n",
       "      <td>1.0</td>\n",
       "      <td>NE</td>\n",
       "      <td>1NE</td>\n",
       "      <td>14.0</td>\n",
       "      <td>1.0</td>\n",
       "      <td>2020.0</td>\n",
       "    </tr>\n",
       "  </tbody>\n",
       "</table>\n",
       "</div>"
      ],
      "text/plain": [
       "    Year_x  Block  Paddock  Plot_x Location_x GrazingTrt2019 GrazingTrt2020  \\\n",
       "68    2020      1        2       1        1NE            NaN              H   \n",
       "\n",
       "   GrazingTrt2021  g/m2 Robel_loc       Date      Date1  Plot Direction  \\\n",
       "68              M  24.6   1-2-1NE 2020-08-01 2020-07-13   1.0        NE   \n",
       "\n",
       "   Location  Height Hi  Height Lo    Year  \n",
       "68      1NE       14.0        1.0  2020.0  "
      ]
     },
     "execution_count": 33,
     "metadata": {},
     "output_type": "execute_result"
    }
   ],
   "source": [
    "robelclip[(robelclip['Robel_loc'] == '1-2-1NE') & (robelclip['Year'] == 2020)]\n"
   ]
  },
  {
   "cell_type": "code",
   "execution_count": 34,
   "id": "238ae1bc-680f-4243-988f-609e432252ef",
   "metadata": {},
   "outputs": [
    {
     "data": {
      "text/plain": [
       "<seaborn.axisgrid.FacetGrid at 0x1aa7ee2efd0>"
      ]
     },
     "execution_count": 34,
     "metadata": {},
     "output_type": "execute_result"
    },
    {
     "data": {
      "image/png": "[encoded data removed]",
      "text/plain": [
       "<Figure size 360x360 with 1 Axes>"
      ]
     },
     "metadata": {
      "needs_background": "light"
     },
     "output_type": "display_data"
    }
   ],
   "source": [
    "sns.lmplot(x='Height Lo',\n",
    "y='g/m2',\n",
    "data=robelclip)"
   ]
  },
  {
   "cell_type": "code",
   "execution_count": 35,
   "id": "40b9a4d5-45aa-4832-baaf-7a6b748a5ac6",
   "metadata": {},
   "outputs": [
    {
     "data": {
      "text/plain": [
       "<seaborn.axisgrid.FacetGrid at 0x1aa000bf910>"
      ]
     },
     "execution_count": 35,
     "metadata": {},
     "output_type": "execute_result"
    },
    {
     "data": {
      "image/png": "[encoded data removed]",
      "text/plain": [
       "<Figure size 360x360 with 1 Axes>"
      ]
     },
     "metadata": {
      "needs_background": "light"
     },
     "output_type": "display_data"
    }
   ],
   "source": [
    "sns.lmplot(x='Height Lo',\n",
    "y='g/m2',\n",
    "data=robelclip.groupby(['Block', 'Paddock', 'Year']).mean())"
   ]
  },
  {
   "cell_type": "code",
   "execution_count": 36,
   "id": "a0fd5bf7-1f71-4009-8eef-4337f1f9ddd8",
   "metadata": {},
   "outputs": [],
   "source": [
    "import statsmodels.formula.api as smf"
   ]
  },
  {
   "cell_type": "code",
   "execution_count": 37,
   "id": "e7cc23d3-989d-475e-bb71-b06b9faf12e0",
   "metadata": {},
   "outputs": [
    {
     "data": {
      "text/html": [
       "<table class=\"simpletable\">\n",
       "<caption>OLS Regression Results</caption>\n",
       "<tr>\n",
       "  <th>Dep. Variable:</th>        <td>Q('g/m2')</td>    <th>  R-squared:         </th> <td>   0.599</td>\n",
       "</tr>\n",
       "<tr>\n",
       "  <th>Model:</th>                   <td>OLS</td>       <th>  Adj. R-squared:    </th> <td>   0.563</td>\n",
       "</tr>\n",
       "<tr>\n",
       "  <th>Method:</th>             <td>Least Squares</td>  <th>  F-statistic:       </th> <td>   16.46</td>\n",
       "</tr>\n",
       "<tr>\n",
       "  <th>Date:</th>             <td>Tue, 22 Feb 2022</td> <th>  Prob (F-statistic):</th> <td>4.26e-05</td>\n",
       "</tr>\n",
       "<tr>\n",
       "  <th>Time:</th>                 <td>08:48:53</td>     <th>  Log-Likelihood:    </th> <td> -106.26</td>\n",
       "</tr>\n",
       "<tr>\n",
       "  <th>No. Observations:</th>      <td>    25</td>      <th>  AIC:               </th> <td>   218.5</td>\n",
       "</tr>\n",
       "<tr>\n",
       "  <th>Df Residuals:</th>          <td>    22</td>      <th>  BIC:               </th> <td>   222.2</td>\n",
       "</tr>\n",
       "<tr>\n",
       "  <th>Df Model:</th>              <td>     2</td>      <th>                     </th>     <td> </td>   \n",
       "</tr>\n",
       "<tr>\n",
       "  <th>Covariance Type:</th>      <td>nonrobust</td>    <th>                     </th>     <td> </td>   \n",
       "</tr>\n",
       "</table>\n",
       "<table class=\"simpletable\">\n",
       "<tr>\n",
       "         <td></td>           <th>coef</th>     <th>std err</th>      <th>t</th>      <th>P>|t|</th>  <th>[0.025</th>    <th>0.975]</th>  \n",
       "</tr>\n",
       "<tr>\n",
       "  <th>Intercept</th>      <td>   19.2512</td> <td>    8.438</td> <td>    2.281</td> <td> 0.033</td> <td>    1.752</td> <td>   36.751</td>\n",
       "</tr>\n",
       "<tr>\n",
       "  <th>Q('Height Lo')</th> <td>    6.9741</td> <td>    4.258</td> <td>    1.638</td> <td> 0.116</td> <td>   -1.857</td> <td>   15.805</td>\n",
       "</tr>\n",
       "<tr>\n",
       "  <th>Q('Height Hi')</th> <td>    1.8245</td> <td>    0.866</td> <td>    2.106</td> <td> 0.047</td> <td>    0.028</td> <td>    3.622</td>\n",
       "</tr>\n",
       "</table>\n",
       "<table class=\"simpletable\">\n",
       "<tr>\n",
       "  <th>Omnibus:</th>       <td> 1.071</td> <th>  Durbin-Watson:     </th> <td>   2.026</td>\n",
       "</tr>\n",
       "<tr>\n",
       "  <th>Prob(Omnibus):</th> <td> 0.585</td> <th>  Jarque-Bera (JB):  </th> <td>   0.289</td>\n",
       "</tr>\n",
       "<tr>\n",
       "  <th>Skew:</th>          <td>-0.225</td> <th>  Prob(JB):          </th> <td>   0.865</td>\n",
       "</tr>\n",
       "<tr>\n",
       "  <th>Kurtosis:</th>      <td> 3.276</td> <th>  Cond. No.          </th> <td>    36.6</td>\n",
       "</tr>\n",
       "</table><br/><br/>Notes:<br/>[1] Standard Errors assume that the covariance matrix of the errors is correctly specified."
      ],
      "text/plain": [
       "<class 'statsmodels.iolib.summary.Summary'>\n",
       "\"\"\"\n",
       "                            OLS Regression Results                            \n",
       "==============================================================================\n",
       "Dep. Variable:              Q('g/m2')   R-squared:                       0.599\n",
       "Model:                            OLS   Adj. R-squared:                  0.563\n",
       "Method:                 Least Squares   F-statistic:                     16.46\n",
       "Date:                Tue, 22 Feb 2022   Prob (F-statistic):           4.26e-05\n",
       "Time:                        08:48:53   Log-Likelihood:                -106.26\n",
       "No. Observations:                  25   AIC:                             218.5\n",
       "Df Residuals:                      22   BIC:                             222.2\n",
       "Df Model:                           2                                         \n",
       "Covariance Type:            nonrobust                                         \n",
       "==================================================================================\n",
       "                     coef    std err          t      P>|t|      [0.025      0.975]\n",
       "----------------------------------------------------------------------------------\n",
       "Intercept         19.2512      8.438      2.281      0.033       1.752      36.751\n",
       "Q('Height Lo')     6.9741      4.258      1.638      0.116      -1.857      15.805\n",
       "Q('Height Hi')     1.8245      0.866      2.106      0.047       0.028       3.622\n",
       "==============================================================================\n",
       "Omnibus:                        1.071   Durbin-Watson:                   2.026\n",
       "Prob(Omnibus):                  0.585   Jarque-Bera (JB):                0.289\n",
       "Skew:                          -0.225   Prob(JB):                        0.865\n",
       "Kurtosis:                       3.276   Cond. No.                         36.6\n",
       "==============================================================================\n",
       "\n",
       "Notes:\n",
       "[1] Standard Errors assume that the covariance matrix of the errors is correctly specified.\n",
       "\"\"\""
      ]
     },
     "execution_count": 37,
     "metadata": {},
     "output_type": "execute_result"
    }
   ],
   "source": [
    "mod_bm = smf.ols(\"Q('g/m2') ~ Q('Height Lo') + Q('Height Hi')\", data=robelclip.groupby(['Block', 'Paddock', 'Year']).mean()).fit()\n",
    "mod_bm.summary()"
   ]
  },
  {
   "cell_type": "code",
   "execution_count": 38,
   "id": "c4f87f47-3560-485c-959a-f2025760bbb6",
   "metadata": {},
   "outputs": [
    {
     "data": {
      "text/html": [
       "<div>\n",
       "<style scoped>\n",
       "    .dataframe tbody tr th:only-of-type {\n",
       "        vertical-align: middle;\n",
       "    }\n",
       "\n",
       "    .dataframe tbody tr th {\n",
       "        vertical-align: top;\n",
       "    }\n",
       "\n",
       "    .dataframe thead th {\n",
       "        text-align: right;\n",
       "    }\n",
       "</style>\n",
       "<table border=\"1\" class=\"dataframe\">\n",
       "  <thead>\n",
       "    <tr style=\"text-align: right;\">\n",
       "      <th></th>\n",
       "      <th>Date1</th>\n",
       "      <th>Block</th>\n",
       "      <th>Paddock</th>\n",
       "      <th>Plot</th>\n",
       "      <th>Direction</th>\n",
       "      <th>Location</th>\n",
       "      <th>Height Hi</th>\n",
       "      <th>Height Lo</th>\n",
       "      <th>Robel_loc</th>\n",
       "      <th>Year</th>\n",
       "      <th>Predicted</th>\n",
       "    </tr>\n",
       "  </thead>\n",
       "  <tbody>\n",
       "    <tr>\n",
       "      <th>0</th>\n",
       "      <td>2019-06-25</td>\n",
       "      <td>1</td>\n",
       "      <td>1</td>\n",
       "      <td>NaN</td>\n",
       "      <td>NaN</td>\n",
       "      <td>1</td>\n",
       "      <td>28.0</td>\n",
       "      <td>10.0</td>\n",
       "      <td>1-1-1</td>\n",
       "      <td>2019</td>\n",
       "      <td>140.079140</td>\n",
       "    </tr>\n",
       "    <tr>\n",
       "      <th>1</th>\n",
       "      <td>2019-06-25</td>\n",
       "      <td>1</td>\n",
       "      <td>1</td>\n",
       "      <td>NaN</td>\n",
       "      <td>NaN</td>\n",
       "      <td>2</td>\n",
       "      <td>40.0</td>\n",
       "      <td>6.0</td>\n",
       "      <td>1-1-2</td>\n",
       "      <td>2019</td>\n",
       "      <td>134.077473</td>\n",
       "    </tr>\n",
       "    <tr>\n",
       "      <th>2</th>\n",
       "      <td>2019-06-25</td>\n",
       "      <td>1</td>\n",
       "      <td>1</td>\n",
       "      <td>NaN</td>\n",
       "      <td>NaN</td>\n",
       "      <td>3</td>\n",
       "      <td>34.0</td>\n",
       "      <td>20.0</td>\n",
       "      <td>1-1-3</td>\n",
       "      <td>2019</td>\n",
       "      <td>220.767034</td>\n",
       "    </tr>\n",
       "    <tr>\n",
       "      <th>3</th>\n",
       "      <td>2019-06-26</td>\n",
       "      <td>1</td>\n",
       "      <td>1</td>\n",
       "      <td>NaN</td>\n",
       "      <td>NaN</td>\n",
       "      <td>1</td>\n",
       "      <td>38.0</td>\n",
       "      <td>5.0</td>\n",
       "      <td>1-1-1</td>\n",
       "      <td>2019</td>\n",
       "      <td>123.454317</td>\n",
       "    </tr>\n",
       "    <tr>\n",
       "      <th>4</th>\n",
       "      <td>2019-06-26</td>\n",
       "      <td>1</td>\n",
       "      <td>1</td>\n",
       "      <td>NaN</td>\n",
       "      <td>NaN</td>\n",
       "      <td>2</td>\n",
       "      <td>26.0</td>\n",
       "      <td>14.0</td>\n",
       "      <td>1-1-2</td>\n",
       "      <td>2019</td>\n",
       "      <td>164.326287</td>\n",
       "    </tr>\n",
       "  </tbody>\n",
       "</table>\n",
       "</div>"
      ],
      "text/plain": [
       "       Date1  Block  Paddock  Plot Direction Location  Height Hi  Height Lo  \\\n",
       "0 2019-06-25      1        1   NaN       NaN        1       28.0       10.0   \n",
       "1 2019-06-25      1        1   NaN       NaN        2       40.0        6.0   \n",
       "2 2019-06-25      1        1   NaN       NaN        3       34.0       20.0   \n",
       "3 2019-06-26      1        1   NaN       NaN        1       38.0        5.0   \n",
       "4 2019-06-26      1        1   NaN       NaN        2       26.0       14.0   \n",
       "\n",
       "  Robel_loc  Year   Predicted  \n",
       "0     1-1-1  2019  140.079140  \n",
       "1     1-1-2  2019  134.077473  \n",
       "2     1-1-3  2019  220.767034  \n",
       "3     1-1-1  2019  123.454317  \n",
       "4     1-1-2  2019  164.326287  "
      ]
     },
     "execution_count": 38,
     "metadata": {},
     "output_type": "execute_result"
    }
   ],
   "source": [
    "robel['Predicted']=mod_bm.predict(robel)\n",
    "robel.head()"
   ]
  },
  {
   "cell_type": "code",
   "execution_count": 39,
   "id": "9112ff18-24ce-4da9-a8be-e90e04175608",
   "metadata": {},
   "outputs": [
    {
     "data": {
      "text/plain": [
       "<seaborn.axisgrid.FacetGrid at 0x1aa00870a90>"
      ]
     },
     "execution_count": 39,
     "metadata": {},
     "output_type": "execute_result"
    },
    {
     "data": {
      "image/png": "[encoded data removed]",
      "text/plain": [
       "<Figure size 360x360 with 1 Axes>"
      ]
     },
     "metadata": {
      "needs_background": "light"
     },
     "output_type": "display_data"
    }
   ],
   "source": [
    "sns.lmplot(x='Height Hi',\n",
    "y='g/m2',\n",
    "data=robelclip)"
   ]
  },
  {
   "cell_type": "code",
   "execution_count": 40,
   "id": "703bc27e-8f2c-408a-8a6a-cc71209d4cd9",
   "metadata": {},
   "outputs": [
    {
     "data": {
      "text/html": [
       "<div>\n",
       "<style scoped>\n",
       "    .dataframe tbody tr th:only-of-type {\n",
       "        vertical-align: middle;\n",
       "    }\n",
       "\n",
       "    .dataframe tbody tr th {\n",
       "        vertical-align: top;\n",
       "    }\n",
       "\n",
       "    .dataframe thead th {\n",
       "        text-align: right;\n",
       "    }\n",
       "</style>\n",
       "<table border=\"1\" class=\"dataframe\">\n",
       "  <thead>\n",
       "    <tr style=\"text-align: right;\">\n",
       "      <th></th>\n",
       "      <th>Year_x</th>\n",
       "      <th>Block</th>\n",
       "      <th>Paddock</th>\n",
       "      <th>Plot_x</th>\n",
       "      <th>Location_x</th>\n",
       "      <th>GrazingTrt2019</th>\n",
       "      <th>GrazingTrt2020</th>\n",
       "      <th>GrazingTrt2021</th>\n",
       "      <th>g/m2</th>\n",
       "      <th>Robel_loc</th>\n",
       "      <th>Date</th>\n",
       "      <th>Date1</th>\n",
       "      <th>Plot</th>\n",
       "      <th>Direction</th>\n",
       "      <th>Location</th>\n",
       "      <th>Height Hi</th>\n",
       "      <th>Height Lo</th>\n",
       "      <th>Year</th>\n",
       "    </tr>\n",
       "  </thead>\n",
       "  <tbody>\n",
       "    <tr>\n",
       "      <th>11</th>\n",
       "      <td>2019</td>\n",
       "      <td>2</td>\n",
       "      <td>1</td>\n",
       "      <td>1</td>\n",
       "      <td>1</td>\n",
       "      <td>M</td>\n",
       "      <td>NaN</td>\n",
       "      <td>NaN</td>\n",
       "      <td>134.2</td>\n",
       "      <td>2-1-1</td>\n",
       "      <td>2019-08-01</td>\n",
       "      <td>2019-07-04</td>\n",
       "      <td>NaN</td>\n",
       "      <td>NaN</td>\n",
       "      <td>1</td>\n",
       "      <td>27.0</td>\n",
       "      <td>1.0</td>\n",
       "      <td>2019.0</td>\n",
       "    </tr>\n",
       "  </tbody>\n",
       "</table>\n",
       "</div>"
      ],
      "text/plain": [
       "    Year_x  Block  Paddock  Plot_x Location_x GrazingTrt2019 GrazingTrt2020  \\\n",
       "11    2019      2        1       1          1              M            NaN   \n",
       "\n",
       "   GrazingTrt2021   g/m2 Robel_loc       Date      Date1  Plot Direction  \\\n",
       "11            NaN  134.2     2-1-1 2019-08-01 2019-07-04   NaN       NaN   \n",
       "\n",
       "   Location  Height Hi  Height Lo    Year  \n",
       "11        1       27.0        1.0  2019.0  "
      ]
     },
     "metadata": {},
     "output_type": "display_data"
    }
   ],
   "source": [
    "display(robelclip[(robelclip['Height Lo'] == 1.0) & (robelclip['g/m2'] > 120)])"
   ]
  },
  {
   "cell_type": "code",
   "execution_count": null,
   "id": "7ad0d538-8e94-4cef-bde9-c9af5248085e",
   "metadata": {},
   "outputs": [],
   "source": []
  }
 ],
 "metadata": {
  "kernelspec": {
   "display_name": "Python 3 (ipykernel)",
   "language": "python",
   "name": "python3"
  },
  "language_info": {
   "codemirror_mode": {
    "name": "ipython",
    "version": 3
   },
   "file_extension": ".py",
   "mimetype": "text/x-python",
   "name": "python",
   "nbconvert_exporter": "python",
   "pygments_lexer": "ipython3",
   "version": "3.9.7"
  }
 },
 "nbformat": 4,
 "nbformat_minor": 5
}
