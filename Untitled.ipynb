{
 "cells": [
  {
   "cell_type": "code",
   "execution_count": 1,
   "id": "9a25104e-87cd-4ac6-917f-23deaab97299",
   "metadata": {},
   "outputs": [
    {
     "ename": "ImportError",
     "evalue": "cannot import name 'hls_funcs' from 'src' (/home/spkearney/miniconda3/envs/hls_util_test_env/lib/python3.9/site-packages/src/__init__.py)",
     "output_type": "error",
     "traceback": [
      "\u001b[0;31m---------------------------------------------------------------------------\u001b[0m",
      "\u001b[0;31mImportError\u001b[0m                               Traceback (most recent call last)",
      "Input \u001b[0;32mIn [1]\u001b[0m, in \u001b[0;36m<cell line: 1>\u001b[0;34m()\u001b[0m\n\u001b[0;32m----> 1\u001b[0m \u001b[38;5;28;01mfrom\u001b[39;00m \u001b[38;5;21;01msrc\u001b[39;00m \u001b[38;5;28;01mimport\u001b[39;00m hls_funcs\n",
      "\u001b[0;31mImportError\u001b[0m: cannot import name 'hls_funcs' from 'src' (/home/spkearney/miniconda3/envs/hls_util_test_env/lib/python3.9/site-packages/src/__init__.py)"
     ]
    }
   ],
   "source": [
    "from src import hls_funcs"
   ]
  },
  {
   "cell_type": "code",
   "execution_count": 4,
   "id": "ec1ee57c-3fe5-4e38-9c3f-849732030af2",
   "metadata": {},
   "outputs": [],
   "source": [
    "import geoviews as gv"
   ]
  },
  {
   "cell_type": "code",
   "execution_count": 1,
   "id": "77c814fa-60cf-42aa-b941-82a31c0c8f65",
   "metadata": {},
   "outputs": [],
   "source": [
    "import src"
   ]
  },
  {
   "cell_type": "code",
   "execution_count": 2,
   "id": "12adba1b-48b1-4597-bd4d-e2813bc1b952",
   "metadata": {},
   "outputs": [],
   "source": [
    "from setuptools import setup, find_packages"
   ]
  },
  {
   "cell_type": "code",
   "execution_count": 13,
   "id": "a2612c45-1b49-4aa2-aac5-55662d37220f",
   "metadata": {},
   "outputs": [
    {
     "data": {
      "text/plain": [
       "['src', 'src.hls_funcs', 'src.models', 'src.objects']"
      ]
     },
     "execution_count": 13,
     "metadata": {},
     "output_type": "execute_result"
    }
   ],
   "source": [
    "find_packages(where='/mnt/c/Users/TBGPEA-Sean/git_repos/hls_nrt/')"
   ]
  },
  {
   "cell_type": "code",
   "execution_count": 1,
   "id": "24cbe46f-cb27-457b-8f18-3341c34aab44",
   "metadata": {},
   "outputs": [],
   "source": [
    "from src.hls_funcs import fetch"
   ]
  },
  {
   "cell_type": "code",
   "execution_count": null,
   "id": "563ba5bf-8468-4255-b1ea-47f27e06260a",
   "metadata": {},
   "outputs": [],
   "source": []
  }
 ],
 "metadata": {
  "kernelspec": {
   "display_name": "Python 3 (ipykernel)",
   "language": "python",
   "name": "python3"
  },
  "language_info": {
   "codemirror_mode": {
    "name": "ipython",
    "version": 3
   },
   "file_extension": ".py",
   "mimetype": "text/x-python",
   "name": "python",
   "nbconvert_exporter": "python",
   "pygments_lexer": "ipython3",
   "version": "3.10.4"
  }
 },
 "nbformat": 4,
 "nbformat_minor": 5
}
