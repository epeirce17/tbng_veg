{
 "cells": [
  {
   "cell_type": "code",
   "execution_count": 2,
   "id": "97233f04-1c76-4739-975f-256d0521b545",
   "metadata": {},
   "outputs": [],
   "source": [
    "import pandas as pd\n",
    "import os\n",
    "import re\n",
    "import numpy as np\n",
    "import datetime\n",
    "import seaborn as sns\n",
    "import matplotlib.pyplot as plt\n",
    "import geopandas as gpd"
   ]
  },
  {
   "cell_type": "markdown",
   "id": "68477fa8-645a-4ac8-b408-b50972d2b9d1",
   "metadata": {
    "tags": []
   },
   "source": [
    "# Create initial datasets"
   ]
  },
  {
   "cell_type": "markdown",
   "id": "db46495e-4c93-494b-a25f-f2b14ae748eb",
   "metadata": {
    "tags": []
   },
   "source": [
    "### Setup input/output"
   ]
  },
  {
   "cell_type": "code",
   "execution_count": 3,
   "id": "60762c49-9907-42e5-b4a0-0f665e043b1c",
   "metadata": {},
   "outputs": [],
   "source": [
    "# set base directory\n",
    "baseDIR = os.path.dirname(os.getcwd())\n",
    "\n",
    "# set input directory\n",
    "inDIR = 'data/'\n",
    "\n",
    "# set output directory\n",
    "outDIR = 'data/clip'\n",
    "if not os.path.exists(os.path.join(baseDIR, outDIR)):\n",
    "    os.mkdir(os.path.join(baseDIR, outDIR))\n",
    "\n",
    "# set input file\n",
    "inXLSX = os.path.join(baseDIR, inDIR, 'TB_BiomassWeights14Jan2016_FINAL.xlsx')\n",
    "inXLSX_sr = os.path.join(baseDIR, inDIR, 'TBClipping 123115_FINAL.xlsx')\n",
    "# NOTE: data originally stored in: T:\\2-Projects\\Thunder Basin\\In-Out Fire Transects(2014-2015)\\2015\\DataEntry\\BiomassData\\Final\n",
    "\n",
    "# set location file\n",
    "inSHP = os.path.join(baseDIR, inDIR, 'shps', 'ThunderBasin_Transects_sampled2014-2015.shp')\n",
    "# NOTE: data originally stored in: T:\\3-GIS\\ThunderBasin\\Fire_Transects\\In_Out_Transects\\ThunderBasin_Transects_sampled2014-2015.shp\n",
    "\n",
    "# set size of clipping quadrat for calculating biomass density\n",
    "quad_size_m2 = 0.5"
   ]
  },
  {
   "cell_type": "code",
   "execution_count": 4,
   "id": "fd118781-1278-4a8b-9e66-c870a3b696b7",
   "metadata": {},
   "outputs": [],
   "source": [
    "# ok - did not get to all of them.\n",
    "fire_id_dict = {'1937 Fire': '1937 fire',\n",
    "                '1974 Fire': '1974 fire',\n",
    "                '35 Mile Marker': '35 mile marker', \n",
    "                'Artisian': np.nan,\n",
    "                'Beckwith 2006': 'beckwith 2006', \n",
    "                'Beckwith 2011': 'beckwith 2011', \n",
    "                'Borgailli': 'borgailli',\n",
    "                'Cheyenne River 2003': 'cheyenne river 2003',\n",
    "                'Cheyenne River 2006': 'cheyenne river 2006', \n",
    "                'Cowger': np.nan, \n",
    "                'Cummings': 'cummings',\n",
    "                'Dry Creek Fire F': 'dry creek', \n",
    "                'Dry Fork': 'dry fork', \n",
    "                'East Riehle': 'east riehle', \n",
    "                'Keeline RA': 'keeline ra',\n",
    "                'Kuemmerle': 'kuemmerle',\n",
    "                'Lake Creek': 'lake creek',\n",
    "                'Mush Creek': np.nan, \n",
    "                'North Edwards': np.nan,\n",
    "                'Peterson Elliot': 'peterson elliot',\n",
    "                'Peterson Elliott': 'peterson elliot', \n",
    "                'Phillips': 'phillips',\n",
    "                'Rat Creek Fire': 'rat creek',\n",
    "                'Rochelle Hills 2': 'rochelle hills',\n",
    "                'South Cow': 'south cow', \n",
    "                'South Edwards': np.nan,\n",
    "                'Steckley': 'steckley',\n",
    "                'Stinson': np.nan, \n",
    "                'Tena Creek Fire': 'tena creek', \n",
    "                'Tepee': 'tepee', \n",
    "                'Wade Hill': np.nan,\n",
    "                'West Fork Creek': 'west fork', \n",
    "                'Wildcat': 'wildcat',\n",
    "                'peterson elliot 1': 'peterson elliot', #SR correction\n",
    "                'philips': 'phillips', #BM correction\n",
    "                'steckely': 'steckley' #BM correction\n",
    "               }"
   ]
  },
  {
   "cell_type": "markdown",
   "id": "97d43e91-56a5-447d-bf85-c0ba78d2ca93",
   "metadata": {},
   "source": [
    "### Load data"
   ]
  },
  {
   "cell_type": "code",
   "execution_count": 5,
   "id": "3f96722c-d1e0-4b44-aa3c-ca819b98d47f",
   "metadata": {},
   "outputs": [
    {
     "data": {
      "text/plain": [
       "['BiomassData',\n",
       " 'BiomassData2',\n",
       " 'Checklist-Sorting',\n",
       " 'Weighting Datasheet',\n",
       " 'Summary_by_transect']"
      ]
     },
     "metadata": {},
     "output_type": "display_data"
    },
    {
     "data": {
      "text/plain": [
       "['Annual Bromes Cover', 'Shrub Volume', 'Notes']"
      ]
     },
     "metadata": {},
     "output_type": "display_data"
    }
   ],
   "source": [
    "# create an Excel file object for investigating contents\n",
    "fire_xlsx = pd.ExcelFile(os.path.join(baseDIR, inDIR, inXLSX))\n",
    "fire_sr_xlsx = pd.ExcelFile(os.path.join(baseDIR, inDIR, inXLSX_sr))\n",
    "\n",
    "# display the sheet names in the .xlsx file\n",
    "display(fire_xlsx.sheet_names)\n",
    "display(fire_sr_xlsx.sheet_names)"
   ]
  },
  {
   "cell_type": "code",
   "execution_count": 33,
   "id": "77525a7d-418d-4233-96bc-e235a04cc386",
   "metadata": {},
   "outputs": [],
   "source": [
    "# load necessary data\n",
    "df_fire_bm = fire_xlsx.parse(sheet_name='BiomassData2', header=0)\n",
    "df_fire_sr = fire_sr_xlsx.parse(sheet_name='Shrub Volume', header=0)\n",
    "gdf_fire = gpd.read_file(inSHP)"
   ]
  },
  {
   "cell_type": "code",
   "execution_count": 38,
   "id": "5973775a-6648-45cf-9262-1d192079c2ec",
   "metadata": {},
   "outputs": [
    {
     "data": {
      "text/html": [
       "<div>\n",
       "<style scoped>\n",
       "    .dataframe tbody tr th:only-of-type {\n",
       "        vertical-align: middle;\n",
       "    }\n",
       "\n",
       "    .dataframe tbody tr th {\n",
       "        vertical-align: top;\n",
       "    }\n",
       "\n",
       "    .dataframe thead th {\n",
       "        text-align: right;\n",
       "    }\n",
       "</style>\n",
       "<table border=\"1\" class=\"dataframe\">\n",
       "  <thead>\n",
       "    <tr style=\"text-align: right;\">\n",
       "      <th></th>\n",
       "      <th>Name</th>\n",
       "      <th>Id</th>\n",
       "      <th>Fire</th>\n",
       "      <th>Date</th>\n",
       "      <th>Inside</th>\n",
       "      <th>Eco</th>\n",
       "      <th>geometry</th>\n",
       "    </tr>\n",
       "  </thead>\n",
       "  <tbody>\n",
       "    <tr>\n",
       "      <th>38</th>\n",
       "      <td>None</td>\n",
       "      <td>0</td>\n",
       "      <td>35 Mile Marker</td>\n",
       "      <td>2010 8 27</td>\n",
       "      <td>Y</td>\n",
       "      <td>Loamy</td>\n",
       "      <td>LINESTRING (510887.781 4835586.630, 510864.543...</td>\n",
       "    </tr>\n",
       "    <tr>\n",
       "      <th>39</th>\n",
       "      <td>None</td>\n",
       "      <td>0</td>\n",
       "      <td>35 Mile Marker</td>\n",
       "      <td>2010 8 27</td>\n",
       "      <td>N</td>\n",
       "      <td>Loamy</td>\n",
       "      <td>LINESTRING (509814.653 4835937.700, 509834.547...</td>\n",
       "    </tr>\n",
       "    <tr>\n",
       "      <th>109</th>\n",
       "      <td>None</td>\n",
       "      <td>0</td>\n",
       "      <td>35 Mile Marker</td>\n",
       "      <td>2010 8 27</td>\n",
       "      <td>Y</td>\n",
       "      <td>Shallow Sandy</td>\n",
       "      <td>LINESTRING (513207.781 4832806.630, 513189.759...</td>\n",
       "    </tr>\n",
       "    <tr>\n",
       "      <th>110</th>\n",
       "      <td>None</td>\n",
       "      <td>0</td>\n",
       "      <td>35 Mile Marker</td>\n",
       "      <td>2010 8 27</td>\n",
       "      <td>N</td>\n",
       "      <td>Shallow Sandy</td>\n",
       "      <td>LINESTRING (513567.316 4832946.601, 513596.709...</td>\n",
       "    </tr>\n",
       "    <tr>\n",
       "      <th>154</th>\n",
       "      <td>None</td>\n",
       "      <td>0</td>\n",
       "      <td>35 Mile Marker</td>\n",
       "      <td>2010 8 27</td>\n",
       "      <td>Y</td>\n",
       "      <td>Loamy</td>\n",
       "      <td>LINESTRING (513119.908 4836149.864, 513119.898...</td>\n",
       "    </tr>\n",
       "  </tbody>\n",
       "</table>\n",
       "</div>"
      ],
      "text/plain": [
       "     Name  Id            Fire       Date Inside            Eco  \\\n",
       "38   None   0  35 Mile Marker  2010 8 27      Y          Loamy   \n",
       "39   None   0  35 Mile Marker  2010 8 27      N          Loamy   \n",
       "109  None   0  35 Mile Marker  2010 8 27      Y  Shallow Sandy   \n",
       "110  None   0  35 Mile Marker  2010 8 27      N  Shallow Sandy   \n",
       "154  None   0  35 Mile Marker  2010 8 27      Y          Loamy   \n",
       "\n",
       "                                              geometry  \n",
       "38   LINESTRING (510887.781 4835586.630, 510864.543...  \n",
       "39   LINESTRING (509814.653 4835937.700, 509834.547...  \n",
       "109  LINESTRING (513207.781 4832806.630, 513189.759...  \n",
       "110  LINESTRING (513567.316 4832946.601, 513596.709...  \n",
       "154  LINESTRING (513119.908 4836149.864, 513119.898...  "
      ]
     },
     "execution_count": 38,
     "metadata": {},
     "output_type": "execute_result"
    }
   ],
   "source": [
    "gdf_fire[(gdf_fire['Fire'] == '35 Mile Marker')]"
   ]
  },
  {
   "cell_type": "code",
   "execution_count": 7,
   "id": "75eedad9-f8d5-416a-86e6-b2465310f63f",
   "metadata": {},
   "outputs": [],
   "source": [
    "df_fire_bm = df_fire_bm.rename(columns={'FireName': 'Fire Name'})"
   ]
  },
  {
   "cell_type": "code",
   "execution_count": 8,
   "id": "4601c317-4602-440a-86a7-7b6feee2a3c7",
   "metadata": {},
   "outputs": [
    {
     "data": {
      "text/plain": [
       "array([0, 55, 50, 5, 3, 2, 15, 1, 10, 't', 20, 80, 16, 33, 6, 40, 45, 75,\n",
       "       35, 8, 18, 4, 7, -1, 32, 85, 38, 25], dtype=object)"
      ]
     },
     "metadata": {},
     "output_type": "display_data"
    },
    {
     "data": {
      "text/plain": [
       "array([  0,   3,  14,  22,   5,  27,  24, 104,  13,   1,  16,   7,   2,\n",
       "        28,  41,   4,  21,  -1,  26,  11,  15,  25,  10,  12,   6,  30,\n",
       "        20,  17,   8,  23,  29,   9], dtype=int64)"
      ]
     },
     "metadata": {},
     "output_type": "display_data"
    }
   ],
   "source": [
    "display(df_fire_sr['% Cover'].unique())\n",
    "display(df_fire_sr['Cactus'].unique())"
   ]
  },
  {
   "cell_type": "code",
   "execution_count": 9,
   "id": "efa0889a-2221-42c1-b8ad-297cf4ccf8b7",
   "metadata": {},
   "outputs": [],
   "source": [
    "df_fire_sr.loc[df_fire_sr['% Cover'].isin(['t', -1]), '% Cover'] = 0\n",
    "df_fire_sr.loc[df_fire_sr['Cactus'].isin(['t', -1]), 'Cactus'] = 0\n",
    "\n",
    "df_fire_sr['% Cover'] = df_fire_sr['% Cover'].astype('int')"
   ]
  },
  {
   "cell_type": "code",
   "execution_count": 10,
   "id": "367a6436-c246-4ed9-82c2-6a7bc625a215",
   "metadata": {},
   "outputs": [
    {
     "data": {
      "text/plain": [
       "array([], dtype=object)"
      ]
     },
     "execution_count": 10,
     "metadata": {},
     "output_type": "execute_result"
    }
   ],
   "source": [
    "df_fire_sr['Transect ID'][~df_fire_sr['Transect ID'].isin(df_fire_bm['Transect ID'].unique())].unique()"
   ]
  },
  {
   "cell_type": "code",
   "execution_count": 11,
   "id": "6b340e14-5096-4f6c-8b6d-4ed62e09700a",
   "metadata": {},
   "outputs": [
    {
     "data": {
      "text/plain": [
       "array([], dtype=object)"
      ]
     },
     "execution_count": 11,
     "metadata": {},
     "output_type": "execute_result"
    }
   ],
   "source": [
    "df_fire_bm['Transect ID'][~df_fire_bm['Transect ID'].isin(df_fire_sr['Transect ID'].unique())].unique()"
   ]
  },
  {
   "cell_type": "code",
   "execution_count": 12,
   "id": "a76c9433-d6e1-4e0b-a0e1-5bca98067c90",
   "metadata": {},
   "outputs": [
    {
     "data": {
      "text/plain": [
       "array(['peterson elliot 1', 'phillips', 'steckley'], dtype=object)"
      ]
     },
     "execution_count": 12,
     "metadata": {},
     "output_type": "execute_result"
    }
   ],
   "source": [
    "df_fire_sr['Fire Name'][~df_fire_sr['Fire Name'].isin(df_fire_bm['Fire Name'].unique())].unique()"
   ]
  },
  {
   "cell_type": "code",
   "execution_count": 13,
   "id": "6ac7a941-48c6-4169-b99a-7b93ac54567d",
   "metadata": {},
   "outputs": [
    {
     "data": {
      "text/plain": [
       "array(['peterson elliot', 'philips', 'steckely'], dtype=object)"
      ]
     },
     "execution_count": 13,
     "metadata": {},
     "output_type": "execute_result"
    }
   ],
   "source": [
    "df_fire_bm['Fire Name'][~df_fire_bm['Fire Name'].isin(df_fire_sr['Fire Name'].unique())].unique()"
   ]
  },
  {
   "cell_type": "code",
   "execution_count": 14,
   "id": "3d2a00d7-8a9f-4f73-9340-7a87fa3f5964",
   "metadata": {},
   "outputs": [],
   "source": [
    "df_fire_bm['Fire Name'] = df_fire_bm['Fire Name'].transform(lambda x: fire_id_dict[x] if x in fire_id_dict.keys() else x)\n",
    "df_fire_sr['Fire Name'] = df_fire_sr['Fire Name'].transform(lambda x: fire_id_dict[x] if x in fire_id_dict.keys() else x)\n",
    "gdf_fire['Fire'] = gdf_fire['Fire'].transform(lambda x: fire_id_dict[x] if x in fire_id_dict.keys() else x)"
   ]
  },
  {
   "cell_type": "code",
   "execution_count": 15,
   "id": "5f0da067-e607-4c20-986f-44af02284c71",
   "metadata": {},
   "outputs": [],
   "source": [
    "gdf_fire = gdf_fire[(gdf_fire['Fire'].notnull()) & (gdf_fire['Eco'].notnull())]"
   ]
  },
  {
   "cell_type": "code",
   "execution_count": 16,
   "id": "a44e5559-27e7-4a15-88b0-050fb5b2634d",
   "metadata": {},
   "outputs": [],
   "source": [
    "fire_short_dict = {}\n",
    "for idx, r in df_fire_bm.iterrows():\n",
    "    fire_short_dict[r['Fire Name']] = r['Transect ID'].split('-')[0]\n",
    "    \n",
    "eco_short_dict = {\n",
    "    'Shallow Clayey': 'sc',\n",
    "    'Loamy': 'l', \n",
    "    'Shallow Loamy': 'sl', \n",
    "    'Clayey': 'c',\n",
    "    'Sandy': 's',\n",
    "    'Shallow Sandy': 'ss', \n",
    "    'Saline Upland': 'sal'\n",
    "}\n",
    "\n",
    "loc_short_dict = {\n",
    "    'Y': 'in',\n",
    "    'N': 'out'\n",
    "}\n"
   ]
  },
  {
   "cell_type": "code",
   "execution_count": 17,
   "id": "da320f33-9bee-4073-8b4b-98e8d29c4ce9",
   "metadata": {},
   "outputs": [],
   "source": [
    "gdf_fire['Transect ID'] = gdf_fire.apply(lambda x: '-'.join([fire_short_dict[x['Fire']],\n",
    "                                                            eco_short_dict[x['Eco']],\n",
    "                                                            loc_short_dict[x['Inside']]]), axis=1)"
   ]
  },
  {
   "cell_type": "code",
   "execution_count": 18,
   "id": "275f20bf-1076-41b5-91da-6f031536eca0",
   "metadata": {},
   "outputs": [
    {
     "data": {
      "text/html": [
       "<div>\n",
       "<style scoped>\n",
       "    .dataframe tbody tr th:only-of-type {\n",
       "        vertical-align: middle;\n",
       "    }\n",
       "\n",
       "    .dataframe tbody tr th {\n",
       "        vertical-align: top;\n",
       "    }\n",
       "\n",
       "    .dataframe thead th {\n",
       "        text-align: right;\n",
       "    }\n",
       "</style>\n",
       "<table border=\"1\" class=\"dataframe\">\n",
       "  <thead>\n",
       "    <tr style=\"text-align: right;\">\n",
       "      <th></th>\n",
       "      <th>Name</th>\n",
       "      <th>Id</th>\n",
       "      <th>Fire</th>\n",
       "      <th>Date</th>\n",
       "      <th>Inside</th>\n",
       "      <th>Eco</th>\n",
       "      <th>geometry</th>\n",
       "      <th>Transect ID</th>\n",
       "    </tr>\n",
       "  </thead>\n",
       "  <tbody>\n",
       "    <tr>\n",
       "      <th>158</th>\n",
       "      <td>None</td>\n",
       "      <td>0</td>\n",
       "      <td>1937 fire</td>\n",
       "      <td>None</td>\n",
       "      <td>Y</td>\n",
       "      <td>Loamy</td>\n",
       "      <td>LINESTRING (476870.113 4791820.057, 476876.862...</td>\n",
       "      <td>1937-l-in</td>\n",
       "    </tr>\n",
       "    <tr>\n",
       "      <th>157</th>\n",
       "      <td>None</td>\n",
       "      <td>0</td>\n",
       "      <td>1937 fire</td>\n",
       "      <td>None</td>\n",
       "      <td>N</td>\n",
       "      <td>Loamy</td>\n",
       "      <td>LINESTRING (476830.139 4792023.384, 476852.080...</td>\n",
       "      <td>1937-l-out</td>\n",
       "    </tr>\n",
       "    <tr>\n",
       "      <th>156</th>\n",
       "      <td>None</td>\n",
       "      <td>0</td>\n",
       "      <td>1974 fire</td>\n",
       "      <td>None</td>\n",
       "      <td>Y</td>\n",
       "      <td>Loamy</td>\n",
       "      <td>LINESTRING (485647.139 4786827.964, 485677.733...</td>\n",
       "      <td>1974-l-in</td>\n",
       "    </tr>\n",
       "    <tr>\n",
       "      <th>155</th>\n",
       "      <td>None</td>\n",
       "      <td>0</td>\n",
       "      <td>1974 fire</td>\n",
       "      <td>None</td>\n",
       "      <td>N</td>\n",
       "      <td>Loamy</td>\n",
       "      <td>LINESTRING (485738.737 4787071.736, 485720.314...</td>\n",
       "      <td>1974-l-out</td>\n",
       "    </tr>\n",
       "    <tr>\n",
       "      <th>39</th>\n",
       "      <td>None</td>\n",
       "      <td>0</td>\n",
       "      <td>35 mile marker</td>\n",
       "      <td>2010 8 27</td>\n",
       "      <td>N</td>\n",
       "      <td>Loamy</td>\n",
       "      <td>LINESTRING (509814.653 4835937.700, 509834.547...</td>\n",
       "      <td>35mm-l-out</td>\n",
       "    </tr>\n",
       "    <tr>\n",
       "      <th>...</th>\n",
       "      <td>...</td>\n",
       "      <td>...</td>\n",
       "      <td>...</td>\n",
       "      <td>...</td>\n",
       "      <td>...</td>\n",
       "      <td>...</td>\n",
       "      <td>...</td>\n",
       "      <td>...</td>\n",
       "    </tr>\n",
       "    <tr>\n",
       "      <th>28</th>\n",
       "      <td>None</td>\n",
       "      <td>0</td>\n",
       "      <td>west fork</td>\n",
       "      <td>2004 7 12</td>\n",
       "      <td>Y</td>\n",
       "      <td>Loamy</td>\n",
       "      <td>LINESTRING (490247.781 4822776.630, 490218.000...</td>\n",
       "      <td>wfork-l-in</td>\n",
       "    </tr>\n",
       "    <tr>\n",
       "      <th>27</th>\n",
       "      <td>None</td>\n",
       "      <td>0</td>\n",
       "      <td>wildcat</td>\n",
       "      <td>2003 7 23</td>\n",
       "      <td>N</td>\n",
       "      <td>Loamy</td>\n",
       "      <td>LINESTRING (518927.781 4837016.630, 518911.747...</td>\n",
       "      <td>wild-l-out</td>\n",
       "    </tr>\n",
       "    <tr>\n",
       "      <th>26</th>\n",
       "      <td>None</td>\n",
       "      <td>0</td>\n",
       "      <td>wildcat</td>\n",
       "      <td>2003 7 23</td>\n",
       "      <td>Y</td>\n",
       "      <td>Loamy</td>\n",
       "      <td>LINESTRING (518717.781 4836746.630, 518727.281...</td>\n",
       "      <td>wild-l-in</td>\n",
       "    </tr>\n",
       "    <tr>\n",
       "      <th>106</th>\n",
       "      <td>None</td>\n",
       "      <td>0</td>\n",
       "      <td>wildcat</td>\n",
       "      <td>2003 7 23</td>\n",
       "      <td>N</td>\n",
       "      <td>Shallow Sandy</td>\n",
       "      <td>LINESTRING (519817.781 4835856.630, 519822.593...</td>\n",
       "      <td>wild-ss-out</td>\n",
       "    </tr>\n",
       "    <tr>\n",
       "      <th>105</th>\n",
       "      <td>None</td>\n",
       "      <td>0</td>\n",
       "      <td>wildcat</td>\n",
       "      <td>2003 7 23</td>\n",
       "      <td>Y</td>\n",
       "      <td>Shallow Sandy</td>\n",
       "      <td>LINESTRING (520067.781 4836416.630, 520065.367...</td>\n",
       "      <td>wild-ss-in</td>\n",
       "    </tr>\n",
       "  </tbody>\n",
       "</table>\n",
       "<p>117 rows × 8 columns</p>\n",
       "</div>"
      ],
      "text/plain": [
       "     Name  Id            Fire       Date Inside            Eco  \\\n",
       "158  None   0       1937 fire       None      Y          Loamy   \n",
       "157  None   0       1937 fire       None      N          Loamy   \n",
       "156  None   0       1974 fire       None      Y          Loamy   \n",
       "155  None   0       1974 fire       None      N          Loamy   \n",
       "39   None   0  35 mile marker  2010 8 27      N          Loamy   \n",
       "..    ...  ..             ...        ...    ...            ...   \n",
       "28   None   0       west fork  2004 7 12      Y          Loamy   \n",
       "27   None   0         wildcat  2003 7 23      N          Loamy   \n",
       "26   None   0         wildcat  2003 7 23      Y          Loamy   \n",
       "106  None   0         wildcat  2003 7 23      N  Shallow Sandy   \n",
       "105  None   0         wildcat  2003 7 23      Y  Shallow Sandy   \n",
       "\n",
       "                                              geometry  Transect ID  \n",
       "158  LINESTRING (476870.113 4791820.057, 476876.862...    1937-l-in  \n",
       "157  LINESTRING (476830.139 4792023.384, 476852.080...   1937-l-out  \n",
       "156  LINESTRING (485647.139 4786827.964, 485677.733...    1974-l-in  \n",
       "155  LINESTRING (485738.737 4787071.736, 485720.314...   1974-l-out  \n",
       "39   LINESTRING (509814.653 4835937.700, 509834.547...   35mm-l-out  \n",
       "..                                                 ...          ...  \n",
       "28   LINESTRING (490247.781 4822776.630, 490218.000...   wfork-l-in  \n",
       "27   LINESTRING (518927.781 4837016.630, 518911.747...   wild-l-out  \n",
       "26   LINESTRING (518717.781 4836746.630, 518727.281...    wild-l-in  \n",
       "106  LINESTRING (519817.781 4835856.630, 519822.593...  wild-ss-out  \n",
       "105  LINESTRING (520067.781 4836416.630, 520065.367...   wild-ss-in  \n",
       "\n",
       "[117 rows x 8 columns]"
      ]
     },
     "execution_count": 18,
     "metadata": {},
     "output_type": "execute_result"
    }
   ],
   "source": [
    "gdf_fire.sort_values('Fire')"
   ]
  },
  {
   "cell_type": "code",
   "execution_count": 19,
   "id": "978243c8-4abb-405e-bc61-01a0ab4ce9d7",
   "metadata": {},
   "outputs": [
    {
     "data": {
      "text/plain": [
       "array(['2015-12-11T00:00:00.000000000', '2016-01-04T00:00:00.000000000',\n",
       "       '2016-01-07T00:00:00.000000000', '2016-01-06T00:00:00.000000000',\n",
       "       '2015-12-22T00:00:00.000000000', '2015-12-08T00:00:00.000000000',\n",
       "       '2016-01-05T00:00:00.000000000', '2015-12-23T00:00:00.000000000',\n",
       "       '2015-12-10T00:00:00.000000000'], dtype='datetime64[ns]')"
      ]
     },
     "execution_count": 19,
     "metadata": {},
     "output_type": "execute_result"
    }
   ],
   "source": [
    "df_fire_bm['DateWeighed'].unique()"
   ]
  },
  {
   "cell_type": "code",
   "execution_count": 20,
   "id": "66bb956b-e02d-4f48-bbed-51c618f3f33c",
   "metadata": {},
   "outputs": [
    {
     "data": {
      "text/plain": [
       "array(['2015-07-15T00:00:00.000000000', '2015-07-20T00:00:00.000000000',\n",
       "       '2015-08-04T00:00:00.000000000', '2015-08-05T00:00:00.000000000',\n",
       "       '2015-07-28T00:00:00.000000000', '2015-08-13T00:00:00.000000000',\n",
       "       '2015-08-03T00:00:00.000000000', '2015-07-14T00:00:00.000000000',\n",
       "       '2015-08-20T00:00:00.000000000', '2015-07-23T00:00:00.000000000',\n",
       "       '2015-08-12T00:00:00.000000000', '2015-07-29T00:00:00.000000000',\n",
       "       '2015-08-17T00:00:00.000000000', '2015-07-16T00:00:00.000000000',\n",
       "       '2015-08-19T00:00:00.000000000', '2015-07-30T00:00:00.000000000',\n",
       "       '2015-07-27T00:00:00.000000000', '2015-08-11T00:00:00.000000000',\n",
       "       '2015-07-21T00:00:00.000000000', '2015-07-22T00:00:00.000000000',\n",
       "       '2015-07-13T00:00:00.000000000'], dtype='datetime64[ns]')"
      ]
     },
     "execution_count": 20,
     "metadata": {},
     "output_type": "execute_result"
    }
   ],
   "source": [
    "df_fire_sr['Date'].unique()"
   ]
  },
  {
   "cell_type": "code",
   "execution_count": 21,
   "id": "4c55cfed-001d-4b92-9432-15f5cf2d5e5c",
   "metadata": {},
   "outputs": [],
   "source": [
    "# calculate total biomass density in g/m^2 adjusting for quadrat size\n",
    "df_fire_bm['Total_Weight_(g/m^2)'] = df_fire_bm['Weight (g)'] * quad_size_m2\n",
    "\n",
    "# sum all functional groups to get total biomass for each plot at each distance\n",
    "df_fire_bm = df_fire_bm.groupby(['Transect ID', 'Distance', 'Fire Name']).sum().reset_index()"
   ]
  },
  {
   "cell_type": "code",
   "execution_count": 22,
   "id": "cb9795c2-9f7e-4546-a1e1-53039630d821",
   "metadata": {},
   "outputs": [],
   "source": [
    "df_fire_sr = df_fire_sr.groupby(['Transect ID', 'Distance along transect', 'Fire Name', 'Date']).mean().reset_index()"
   ]
  },
  {
   "cell_type": "code",
   "execution_count": 23,
   "id": "ea89f2fc-03da-409b-b74b-f08152468e48",
   "metadata": {},
   "outputs": [],
   "source": [
    "# aggregate clipping data\n",
    "df_fire_bm_agg = df_fire_bm.groupby(['Transect ID', 'Fire Name']).mean().reset_index()\n",
    "\n",
    "# aggregate cover data\n",
    "df_fire_sr_agg = df_fire_sr.groupby(['Transect ID', 'Fire Name', 'Date']).mean().reset_index()"
   ]
  },
  {
   "cell_type": "code",
   "execution_count": 24,
   "id": "9983b7e7-a3fe-4c3f-a9ce-90dcb48f86c5",
   "metadata": {},
   "outputs": [],
   "source": [
    "df_fire_fnl = pd.merge(df_fire_bm_agg,\n",
    "                       df_fire_sr_agg,\n",
    "                       on= ['Transect ID', 'Fire Name'],\n",
    "                       suffixes=['_bm', '_sr'],\n",
    "                       how='inner')"
   ]
  },
  {
   "cell_type": "code",
   "execution_count": 29,
   "id": "0c7d522b-acfc-4e8c-bb9a-454342b8dda7",
   "metadata": {},
   "outputs": [],
   "source": [
    "#gdf_fire['centroid'] = gdf_fire.geometry.centroid\n",
    "gdf_fire['Mean.GPS_E.Biomass'] = gdf_fire.geometry.centroid.x\n",
    "gdf_fire['Mean.GPS_N.Biomass'] = gdf_fire.geometry.centroid.y"
   ]
  },
  {
   "cell_type": "code",
   "execution_count": 29,
   "id": "cc79b80b-7c0c-4215-b4c2-68d50029c888",
   "metadata": {},
   "outputs": [],
   "source": [
    "df_fire_fnl = pd.merge(df_fire_fnl,\n",
    "                       gdf_fire[['Transect ID', 'Mean.GPS_E.Biomass', 'Mean.GPS_N.Biomass']],\n",
    "                       on= 'Transect ID',\n",
    "                       suffixes=['_clip', '_shp'],\n",
    "                       how='left')"
   ]
  },
  {
   "cell_type": "code",
   "execution_count": 32,
   "id": "3b510a7e-8e5c-44b6-87b9-5bc207cec8cb",
   "metadata": {},
   "outputs": [
    {
     "data": {
      "text/html": [
       "<div>\n",
       "<style scoped>\n",
       "    .dataframe tbody tr th:only-of-type {\n",
       "        vertical-align: middle;\n",
       "    }\n",
       "\n",
       "    .dataframe tbody tr th {\n",
       "        vertical-align: top;\n",
       "    }\n",
       "\n",
       "    .dataframe thead th {\n",
       "        text-align: right;\n",
       "    }\n",
       "</style>\n",
       "<table border=\"1\" class=\"dataframe\">\n",
       "  <thead>\n",
       "    <tr style=\"text-align: right;\">\n",
       "      <th></th>\n",
       "      <th>Name</th>\n",
       "      <th>Id</th>\n",
       "      <th>Fire</th>\n",
       "      <th>Date</th>\n",
       "      <th>Inside</th>\n",
       "      <th>Eco</th>\n",
       "      <th>geometry</th>\n",
       "      <th>Transect ID</th>\n",
       "      <th>Mean.GPS_E.Biomass</th>\n",
       "      <th>Mean.GPS_N.Biomass</th>\n",
       "    </tr>\n",
       "  </thead>\n",
       "  <tbody>\n",
       "    <tr>\n",
       "      <th>38</th>\n",
       "      <td>None</td>\n",
       "      <td>0</td>\n",
       "      <td>35 mile marker</td>\n",
       "      <td>2010 8 27</td>\n",
       "      <td>Y</td>\n",
       "      <td>Loamy</td>\n",
       "      <td>LINESTRING (510887.781 4835586.630, 510864.543...</td>\n",
       "      <td>35mm-l-in</td>\n",
       "      <td>510876.161990</td>\n",
       "      <td>4.835577e+06</td>\n",
       "    </tr>\n",
       "    <tr>\n",
       "      <th>154</th>\n",
       "      <td>None</td>\n",
       "      <td>0</td>\n",
       "      <td>35 mile marker</td>\n",
       "      <td>2010 8 27</td>\n",
       "      <td>Y</td>\n",
       "      <td>Loamy</td>\n",
       "      <td>LINESTRING (513119.908 4836149.864, 513119.898...</td>\n",
       "      <td>35mm-l-in</td>\n",
       "      <td>513119.903017</td>\n",
       "      <td>4.836135e+06</td>\n",
       "    </tr>\n",
       "  </tbody>\n",
       "</table>\n",
       "</div>"
      ],
      "text/plain": [
       "     Name  Id            Fire       Date Inside    Eco  \\\n",
       "38   None   0  35 mile marker  2010 8 27      Y  Loamy   \n",
       "154  None   0  35 mile marker  2010 8 27      Y  Loamy   \n",
       "\n",
       "                                              geometry Transect ID  \\\n",
       "38   LINESTRING (510887.781 4835586.630, 510864.543...   35mm-l-in   \n",
       "154  LINESTRING (513119.908 4836149.864, 513119.898...   35mm-l-in   \n",
       "\n",
       "     Mean.GPS_E.Biomass  Mean.GPS_N.Biomass  \n",
       "38        510876.161990        4.835577e+06  \n",
       "154       513119.903017        4.836135e+06  "
      ]
     },
     "execution_count": 32,
     "metadata": {},
     "output_type": "execute_result"
    }
   ],
   "source": [
    "gdf_fire[gdf_fire['Transect ID'] == '35mm-l-in']#.head(10)"
   ]
  },
  {
   "cell_type": "markdown",
   "id": "860d20f0-1a40-4a23-a4d3-c1061dffce73",
   "metadata": {},
   "source": [
    "# Questions\n",
    "* No Eco or Inside for 1974 fire?"
   ]
  },
  {
   "cell_type": "code",
   "execution_count": 31,
   "id": "1ffee7ad-5ca6-49fa-bd2e-4b8976d7ada5",
   "metadata": {},
   "outputs": [],
   "source": [
    "df_fire_fnl = df_fire_fnl[(df_fire_fnl['% Cover'] < 20) & (df_fire_fnl['Cactus'] < 50)]"
   ]
  },
  {
   "cell_type": "code",
   "execution_count": 33,
   "id": "ffe2013c-84ea-467f-93f8-5e316261f777",
   "metadata": {},
   "outputs": [],
   "source": [
    "df_fire_fnl.to_csv(os.path.join(baseDIR, outDIR, 'TB_fire_clip.csv'), index=False)"
   ]
  },
  {
   "cell_type": "code",
   "execution_count": 34,
   "id": "f26eb82d-a19b-4795-85dc-6913422e51b2",
   "metadata": {},
   "outputs": [
    {
     "name": "stderr",
     "output_type": "stream",
     "text": [
      "/tmp/ipykernel_10743/912541277.py:1: SettingWithCopyWarning: \n",
      "A value is trying to be set on a copy of a slice from a DataFrame.\n",
      "Try using .loc[row_indexer,col_indexer] = value instead\n",
      "\n",
      "See the caveats in the documentation: https://pandas.pydata.org/pandas-docs/stable/user_guide/indexing.html#returning-a-view-versus-a-copy\n",
      "  df_fire_fnl.loc[:, 'ecosite'] = df_fire_fnl['Transect ID'].apply(lambda x: x.split('-')[1]).values\n",
      "/tmp/ipykernel_10743/912541277.py:2: SettingWithCopyWarning: \n",
      "A value is trying to be set on a copy of a slice from a DataFrame.\n",
      "Try using .loc[row_indexer,col_indexer] = value instead\n",
      "\n",
      "See the caveats in the documentation: https://pandas.pydata.org/pandas-docs/stable/user_guide/indexing.html#returning-a-view-versus-a-copy\n",
      "  df_fire_fnl.loc[:, 'site'] = df_fire_fnl['Transect ID'].apply(lambda x: x.split('-')[0]).values\n",
      "/tmp/ipykernel_10743/912541277.py:3: SettingWithCopyWarning: \n",
      "A value is trying to be set on a copy of a slice from a DataFrame.\n",
      "Try using .loc[row_indexer,col_indexer] = value instead\n",
      "\n",
      "See the caveats in the documentation: https://pandas.pydata.org/pandas-docs/stable/user_guide/indexing.html#returning-a-view-versus-a-copy\n",
      "  df_fire_fnl.loc[:, 'loc'] = df_fire_fnl['Transect ID'].apply(lambda x: x.split('-')[-1]).values\n"
     ]
    }
   ],
   "source": [
    "df_fire_fnl.loc[:, 'ecosite'] = df_fire_fnl['Transect ID'].apply(lambda x: x.split('-')[1]).values\n",
    "df_fire_fnl.loc[:, 'site'] = df_fire_fnl['Transect ID'].apply(lambda x: x.split('-')[0]).values\n",
    "df_fire_fnl.loc[:, 'loc'] = df_fire_fnl['Transect ID'].apply(lambda x: x.split('-')[-1]).values"
   ]
  },
  {
   "cell_type": "code",
   "execution_count": 35,
   "id": "e5230e1f-f119-4bfb-98c9-e5d15720c0ad",
   "metadata": {},
   "outputs": [
    {
     "data": {
      "text/plain": [
       "<AxesSubplot:xlabel='ecosite', ylabel='Total_Weight_(g/m^2)'>"
      ]
     },
     "execution_count": 35,
     "metadata": {},
     "output_type": "execute_result"
    },
    {
     "data": {
      "image/png": "[encoded data removed]",
      "text/plain": [
       "<Figure size 432x288 with 1 Axes>"
      ]
     },
     "metadata": {
      "needs_background": "light"
     },
     "output_type": "display_data"
    }
   ],
   "source": [
    "sns.boxplot(x='ecosite', y='Total_Weight_(g/m^2)', data=df_fire_fnl)"
   ]
  },
  {
   "cell_type": "code",
   "execution_count": 36,
   "id": "0c864baa-6908-4cc3-9747-f5e12e3d342e",
   "metadata": {},
   "outputs": [
    {
     "data": {
      "text/plain": [
       "<AxesSubplot:xlabel='site', ylabel='Total_Weight_(g/m^2)'>"
      ]
     },
     "execution_count": 36,
     "metadata": {},
     "output_type": "execute_result"
    },
    {
     "data": {
      "image/png": "[encoded data removed]",
      "text/plain": [
       "<Figure size 1152x432 with 1 Axes>"
      ]
     },
     "metadata": {
      "needs_background": "light"
     },
     "output_type": "display_data"
    }
   ],
   "source": [
    "plt.figure(figsize=(16, 6))\n",
    "sns.boxplot(x='site', y='Total_Weight_(g/m^2)', data=df_fire_fnl)"
   ]
  },
  {
   "cell_type": "code",
   "execution_count": 37,
   "id": "ea15eec1-67c7-4ca3-815e-83a27928fef6",
   "metadata": {},
   "outputs": [
    {
     "data": {
      "text/plain": [
       "<AxesSubplot:xlabel='loc', ylabel='Total_Weight_(g/m^2)'>"
      ]
     },
     "execution_count": 37,
     "metadata": {},
     "output_type": "execute_result"
    },
    {
     "data": {
      "image/png": "[encoded data removed]",
      "text/plain": [
       "<Figure size 432x288 with 1 Axes>"
      ]
     },
     "metadata": {
      "needs_background": "light"
     },
     "output_type": "display_data"
    }
   ],
   "source": [
    "sns.boxplot(x='loc', y='Total_Weight_(g/m^2)', data=df_fire_fnl)"
   ]
  },
  {
   "cell_type": "code",
   "execution_count": null,
   "id": "c27c5fb3-dd80-4ab1-88c3-5ee9da0b0b23",
   "metadata": {},
   "outputs": [],
   "source": []
  },
  {
   "cell_type": "code",
   "execution_count": null,
   "id": "eefec452-3b1d-438e-8819-9bc0c954d1a7",
   "metadata": {},
   "outputs": [],
   "source": []
  }
 ],
 "metadata": {
  "kernelspec": {
   "display_name": "Python 3 (ipykernel)",
   "language": "python",
   "name": "python3"
  },
  "language_info": {
   "codemirror_mode": {
    "name": "ipython",
    "version": 3
   },
   "file_extension": ".py",
   "mimetype": "text/x-python",
   "name": "python",
   "nbconvert_exporter": "python",
   "pygments_lexer": "ipython3",
   "version": "3.9.7"
  }
 },
 "nbformat": 4,
 "nbformat_minor": 5
}
