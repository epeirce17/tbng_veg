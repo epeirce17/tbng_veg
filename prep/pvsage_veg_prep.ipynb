{
 "cells": [
  {
   "cell_type": "code",
   "execution_count": 1,
   "id": "435d3179-1be0-4607-90c4-313bfed78160",
   "metadata": {},
   "outputs": [],
   "source": [
    "import pandas as pd\n",
    "import os\n",
    "import re\n",
    "import numpy as np\n",
    "import datetime\n",
    "import seaborn as sns\n",
    "import matplotlib.pyplot as plt"
   ]
  },
  {
   "cell_type": "markdown",
   "id": "92387be5-4bfd-4231-b511-bf994bc41046",
   "metadata": {},
   "source": [
    "# Create initial datasets"
   ]
  },
  {
   "cell_type": "markdown",
   "id": "c1af8240-59ab-438d-872b-99d833fa6c3e",
   "metadata": {
    "tags": []
   },
   "source": [
    "### Setup input/output"
   ]
  },
  {
   "cell_type": "code",
   "execution_count": 2,
   "id": "821d58cb-6b90-4942-8144-a06abe83198d",
   "metadata": {},
   "outputs": [],
   "source": [
    "# set base directory\n",
    "#baseDIR = '/mnt/d'\n",
    "baseDIR = 'T:/'\n",
    "\n",
    "# set input directory\n",
    "#inDIR = 'TBNG/data/veg/PVSAGE'\n",
    "inDIR = \"2-Projects/Thunder Basin/PrecipVariability/Data Entry/Multi-year Data/herbaceous/old\"\n",
    "\n",
    "# set input file\n",
    "#inXLSX = 'PVSAGEmulti-year_Herb_9November2021SD.xlsx'\n",
    "inXLSX = 'PVSAGEmulti-year_Herb_19Jan2022CE_checking.xlsx'"
   ]
  },
  {
   "cell_type": "markdown",
   "id": "72feb751-a5d4-436c-8a9e-0499d236c739",
   "metadata": {},
   "source": [
    "### Load data"
   ]
  },
  {
   "cell_type": "code",
   "execution_count": 3,
   "id": "c2a596d6-056c-4437-8e6f-7656d07b1476",
   "metadata": {},
   "outputs": [
    {
     "data": {
      "text/plain": [
       "['metadata',\n",
       " 'sentek tube installation notes',\n",
       " 'sentek notes',\n",
       " 'grass & forb heights',\n",
       " 'basal cover',\n",
       " 'phenology',\n",
       " 'aerial cover',\n",
       " 'herbaceous density',\n",
       " 'forage quality',\n",
       " '2017 FQ baseline fxnal group',\n",
       " 'baseline fxnal group FQ 2017',\n",
       " 'pin frame',\n",
       " 'pin frame calibration',\n",
       " 'pinframe calibration clipping',\n",
       " 'light reading',\n",
       " 'light reading times']"
      ]
     },
     "metadata": {},
     "output_type": "display_data"
    }
   ],
   "source": [
    "# create an Excel file object for investigating contents\n",
    "#pvs_xlsx = pd.ExcelFile(os.path.join(baseDIR, inDIR, inXLSX))\n",
    "pvs_xlsx = pd.ExcelFile(os.path.join('data/', inXLSX))\n",
    "\n",
    "# display the sheet names in the .xlsx file\n",
    "display(pvs_xlsx.sheet_names)"
   ]
  },
  {
   "cell_type": "code",
   "execution_count": 4,
   "id": "5ce66b32-6bfe-439b-ba6f-7063f01e4292",
   "metadata": {},
   "outputs": [],
   "source": [
    "# Create the desired dataframes by parsing the individual sheets\n",
    "df_pvs_bm = pvs_xlsx.parse(sheet_name='pinframe calibration clipping', header=0)\n",
    "df_pvs_pf = pvs_xlsx.parse(sheet_name='pin frame calibration', header=0)"
   ]
  },
  {
   "cell_type": "markdown",
   "id": "8ff1d9a5-ff4a-4222-a802-ec8b6609fd41",
   "metadata": {},
   "source": [
    "# Biomass dataset"
   ]
  },
  {
   "cell_type": "markdown",
   "id": "b3a46830-9719-4399-b046-75699099ccea",
   "metadata": {},
   "source": [
    "#### Clean up dates"
   ]
  },
  {
   "cell_type": "code",
   "execution_count": 5,
   "id": "e9e24719-712d-406e-880f-a507f8074da0",
   "metadata": {},
   "outputs": [],
   "source": [
    "# create a mask to identify all values that are 'date-like'\n",
    "dates_bm_mask = df_pvs_bm['Date'].map(lambda x: bool(re.match('\\d\\d\\d\\d-\\d\\d-\\d\\d 00:00:00', str(x))))\n",
    "# summarize to find all unique values in the 'Date' column for each year\n",
    "dates_yrly_bm = pd.DataFrame(df_pvs_bm.groupby('Year')['Date'].unique()).explode('Date')\n",
    "# create a mask of 'date-like' values from the unique values pulled for each year\n",
    "dates_yrly_bm_mask = dates_yrly_bm['Date'].map(lambda x: bool(re.match('\\d\\d\\d\\d-\\d\\d-\\d\\d 00:00:00', str(x))))\n",
    "# create a Series of the 'date-like' unique values\n",
    "dates_yrly_bm_good = dates_yrly_bm['Date'][dates_yrly_bm_mask].astype(np.datetime64)\n",
    "# get the average date for each month of each year for manually correcting vague dates\n",
    "dates_yrly_bm_avgs = dates_yrly_bm_good.groupby(['Year', dates_yrly_bm_good.dt.month_name()]).mean().dt.date"
   ]
  },
  {
   "cell_type": "code",
   "execution_count": 6,
   "id": "320225bb-f4e3-4ab7-9006-bbf6bef89475",
   "metadata": {},
   "outputs": [
    {
     "data": {
      "text/plain": [
       "Year  Date\n",
       "2017  July    2017-07-12\n",
       "2019  July    2019-07-23\n",
       "2020  July    2020-07-26\n",
       "2021  July    2021-07-26\n",
       "Name: Date, dtype: object"
      ]
     },
     "metadata": {},
     "output_type": "display_data"
    }
   ],
   "source": [
    "# display the average dates for each month of each year\n",
    "display(dates_yrly_bm_avgs)"
   ]
  },
  {
   "cell_type": "code",
   "execution_count": 7,
   "id": "d5ae6bcd-730a-42ec-a79f-225d917d3667",
   "metadata": {},
   "outputs": [
    {
     "data": {
      "text/plain": [
       "Year\n",
       "2018    7/23/18 to 7/25/18\n",
       "Name: Date, dtype: object"
      ]
     },
     "metadata": {},
     "output_type": "display_data"
    }
   ],
   "source": [
    "# display the unique non-'date-like' values present in each year\n",
    "display(dates_yrly_bm['Date'][~dates_yrly_bm_mask])"
   ]
  },
  {
   "cell_type": "code",
   "execution_count": 8,
   "id": "4ee19911-0c26-424b-82eb-663439c4d8b5",
   "metadata": {},
   "outputs": [],
   "source": [
    "# create a dictionary to manually change non-'date-like' values to dates\n",
    "dates_bm_dict = {\n",
    "    2018: {\n",
    "        '7/23/18 to 7/25/18': pd.to_datetime('2018-07-24').date()\n",
    "    }\n",
    "}"
   ]
  },
  {
   "cell_type": "code",
   "execution_count": 9,
   "id": "82cb6cab-f296-4065-a3d9-4bdfaf5a4a47",
   "metadata": {},
   "outputs": [],
   "source": [
    "# Create a new column of cleaned up dates from 'date-like' values and manual replacement\n",
    "df_pvs_bm.loc[dates_bm_mask, \n",
    "              'Date_cln'] = df_pvs_bm['Date'][dates_bm_mask].astype(np.datetime64).dt.date\n",
    "df_pvs_bm.loc[~dates_bm_mask, \n",
    "              'Date_cln'] = df_pvs_bm[~dates_bm_mask].apply(lambda x: dates_bm_dict[x.Year][x.Date], axis=1)\n",
    "df_pvs_bm['Date_cln'] = df_pvs_bm['Date_cln'].astype(np.datetime64)"
   ]
  },
  {
   "cell_type": "markdown",
   "id": "41f14279-2257-4d74-bef3-fae5d5e5ee1e",
   "metadata": {},
   "source": [
    "\n",
    "\n",
    "### Prep biomass values for joining to pin frame"
   ]
  },
  {
   "cell_type": "code",
   "execution_count": 10,
   "id": "ec84f754-97d2-485a-a34a-58f41cdc826d",
   "metadata": {},
   "outputs": [],
   "source": [
    "# remove all rows with NA values for Total weight signified with negative values\n",
    "df_pvs_bm = df_pvs_bm[df_pvs_bm['total weight'] >= 0]\n",
    "\n",
    "# drop any records missing Biomass data\n",
    "df_pvs_bm = df_pvs_bm[df_pvs_bm['total weight'].notnull()]"
   ]
  },
  {
   "cell_type": "code",
   "execution_count": 11,
   "id": "4bcf3aee-4798-4231-ba45-570082d0742c",
   "metadata": {},
   "outputs": [],
   "source": [
    "# fill all functional group clipping NA values with zeros for averaging\n",
    "df_pvs_bm.loc[\n",
    "    :, df_pvs_bm.columns.str.contains('eight$')] = df_pvs_bm.loc[\n",
    "    :, df_pvs_bm.columns.str.contains('eight$')].fillna(0)\n",
    "\n",
    "# remove all rows with negative values or convert to NAN\n",
    "remove_indv_na = False\n",
    "if remove_indv_na:\n",
    "    df_pvs_bm = df_pvs_bm[~(\n",
    "        df_pvs_bm.loc[:, df_pvs_bm.columns.str.contains('eight$')] < 0).any(axis=1)]\n",
    "else:\n",
    "    for c in df_pvs_bm.columns[df_pvs_bm.columns.str.contains('eight$')]:\n",
    "        df_pvs_bm[c] = df_pvs_bm[c].apply(lambda x: np.nan if x < 0 else x)"
   ]
  },
  {
   "cell_type": "code",
   "execution_count": 12,
   "id": "f84e9f53-94bf-43fa-91db-b6d7d2a5dac4",
   "metadata": {},
   "outputs": [],
   "source": [
    "# drop 'loc' from plot data for consistency\n",
    "df_pvs_bm['Plot Name'] = df_pvs_bm['Plot Name'].astype('str').apply(lambda x: int(re.sub('loc', '', x)))"
   ]
  },
  {
   "cell_type": "code",
   "execution_count": 13,
   "id": "57863659-4aa2-43c0-ae0c-b7d53c1115f2",
   "metadata": {},
   "outputs": [],
   "source": [
    "# create additional functional group groupings\n",
    "df_pvs_bm['annual grass weight'] = df_pvs_bm['brome weight'] + df_pvs_bm['VUOC weight']"
   ]
  },
  {
   "cell_type": "code",
   "execution_count": 14,
   "id": "6e022cf2-ffa4-46f7-a2c0-c87b1ce1e15a",
   "metadata": {},
   "outputs": [
    {
     "data": {
      "text/html": [
       "<div>\n",
       "<style scoped>\n",
       "    .dataframe tbody tr th:only-of-type {\n",
       "        vertical-align: middle;\n",
       "    }\n",
       "\n",
       "    .dataframe tbody tr th {\n",
       "        vertical-align: top;\n",
       "    }\n",
       "\n",
       "    .dataframe thead th {\n",
       "        text-align: right;\n",
       "    }\n",
       "</style>\n",
       "<table border=\"1\" class=\"dataframe\">\n",
       "  <thead>\n",
       "    <tr style=\"text-align: right;\">\n",
       "      <th></th>\n",
       "      <th>forb weight</th>\n",
       "      <th>AF weight</th>\n",
       "      <th>PF weight</th>\n",
       "    </tr>\n",
       "  </thead>\n",
       "  <tbody>\n",
       "    <tr>\n",
       "      <th>36</th>\n",
       "      <td>0.0</td>\n",
       "      <td>20.10</td>\n",
       "      <td>0.35</td>\n",
       "    </tr>\n",
       "    <tr>\n",
       "      <th>37</th>\n",
       "      <td>0.0</td>\n",
       "      <td>28.70</td>\n",
       "      <td>0.00</td>\n",
       "    </tr>\n",
       "    <tr>\n",
       "      <th>38</th>\n",
       "      <td>0.0</td>\n",
       "      <td>21.35</td>\n",
       "      <td>0.00</td>\n",
       "    </tr>\n",
       "    <tr>\n",
       "      <th>39</th>\n",
       "      <td>0.0</td>\n",
       "      <td>12.40</td>\n",
       "      <td>0.00</td>\n",
       "    </tr>\n",
       "    <tr>\n",
       "      <th>40</th>\n",
       "      <td>0.0</td>\n",
       "      <td>22.10</td>\n",
       "      <td>0.35</td>\n",
       "    </tr>\n",
       "    <tr>\n",
       "      <th>41</th>\n",
       "      <td>0.0</td>\n",
       "      <td>13.85</td>\n",
       "      <td>0.55</td>\n",
       "    </tr>\n",
       "    <tr>\n",
       "      <th>42</th>\n",
       "      <td>0.0</td>\n",
       "      <td>1.00</td>\n",
       "      <td>2.10</td>\n",
       "    </tr>\n",
       "    <tr>\n",
       "      <th>43</th>\n",
       "      <td>0.0</td>\n",
       "      <td>3.10</td>\n",
       "      <td>0.00</td>\n",
       "    </tr>\n",
       "    <tr>\n",
       "      <th>44</th>\n",
       "      <td>0.0</td>\n",
       "      <td>1.35</td>\n",
       "      <td>0.00</td>\n",
       "    </tr>\n",
       "    <tr>\n",
       "      <th>45</th>\n",
       "      <td>0.0</td>\n",
       "      <td>1.20</td>\n",
       "      <td>1.60</td>\n",
       "    </tr>\n",
       "    <tr>\n",
       "      <th>46</th>\n",
       "      <td>0.0</td>\n",
       "      <td>0.35</td>\n",
       "      <td>2.60</td>\n",
       "    </tr>\n",
       "    <tr>\n",
       "      <th>47</th>\n",
       "      <td>0.0</td>\n",
       "      <td>0.25</td>\n",
       "      <td>0.40</td>\n",
       "    </tr>\n",
       "  </tbody>\n",
       "</table>\n",
       "</div>"
      ],
      "text/plain": [
       "    forb weight  AF weight  PF weight\n",
       "36          0.0      20.10       0.35\n",
       "37          0.0      28.70       0.00\n",
       "38          0.0      21.35       0.00\n",
       "39          0.0      12.40       0.00\n",
       "40          0.0      22.10       0.35\n",
       "41          0.0      13.85       0.55\n",
       "42          0.0       1.00       2.10\n",
       "43          0.0       3.10       0.00\n",
       "44          0.0       1.35       0.00\n",
       "45          0.0       1.20       1.60\n",
       "46          0.0       0.35       2.60\n",
       "47          0.0       0.25       0.40"
      ]
     },
     "execution_count": 14,
     "metadata": {},
     "output_type": "execute_result"
    }
   ],
   "source": [
    "df_pvs_bm[df_pvs_bm['Year'] == 2019][['forb weight', 'AF weight', 'PF weight']]"
   ]
  },
  {
   "cell_type": "code",
   "execution_count": 15,
   "id": "4fc6f46a-1304-4b8a-80bd-15b9876ad97d",
   "metadata": {},
   "outputs": [],
   "source": [
    "# create consistent Forbs weight across all years\n",
    "forb_years = df_pvs_bm.loc[((df_pvs_bm['forb weight'].isnull()) | (df_pvs_bm['forb weight'] == 0)) & \n",
    "              (df_pvs_bm[['AF weight', 'PF weight']].sum(axis=1) != 0),\n",
    "                           'Year'].unique()\n",
    "df_pvs_bm['forb weight'] = df_pvs_bm.apply(\n",
    "    lambda x: x['AF weight'] + x['PF weight'] if x['Year'] in forb_years else x['forb weight'],\n",
    "    axis=1)\n",
    "\n",
    "# create consistent C4 weight across all years\n",
    "c4_years = df_pvs_bm['Year'].unique()[(df_pvs_bm.groupby(\n",
    "    'Year')[['C4 weight', 'BOBU weight']]).apply(\n",
    "    lambda x: ~x['BOBU weight'].isnull().all() & ~x['C4 weight'].isnull().all())]\n",
    "\n",
    "df_pvs_bm['C4 weight'] = df_pvs_bm.apply(\n",
    "    lambda x: x['C4 weight'] + x['BOBU weight'] if x['Year'] in c4_years else x['C4 weight'],\n",
    "    axis=1)"
   ]
  },
  {
   "cell_type": "code",
   "execution_count": 16,
   "id": "179afd13-8485-4b91-9782-148c439d2727",
   "metadata": {},
   "outputs": [],
   "source": [
    "# recalculate areal density for all FG's\n",
    "for c in df_pvs_bm.columns[df_pvs_bm.columns.str.contains('eight$')]:\n",
    "        df_pvs_bm[c + ' g/m^2'] = df_pvs_bm[c] * 2.0"
   ]
  },
  {
   "cell_type": "code",
   "execution_count": 17,
   "id": "17024f31-4212-425c-9bc4-3b43fb4f7984",
   "metadata": {},
   "outputs": [
    {
     "data": {
      "text/plain": [
       "array([2019, 2020, 2021], dtype=int64)"
      ]
     },
     "execution_count": 17,
     "metadata": {},
     "output_type": "execute_result"
    }
   ],
   "source": [
    "forb_years"
   ]
  },
  {
   "cell_type": "code",
   "execution_count": 18,
   "id": "7b12dc55-da26-47ea-bdb6-2c0df839fb33",
   "metadata": {},
   "outputs": [
    {
     "data": {
      "text/html": [
       "<div>\n",
       "<style scoped>\n",
       "    .dataframe tbody tr th:only-of-type {\n",
       "        vertical-align: middle;\n",
       "    }\n",
       "\n",
       "    .dataframe tbody tr th {\n",
       "        vertical-align: top;\n",
       "    }\n",
       "\n",
       "    .dataframe thead th {\n",
       "        text-align: right;\n",
       "    }\n",
       "</style>\n",
       "<table border=\"1\" class=\"dataframe\">\n",
       "  <thead>\n",
       "    <tr style=\"text-align: right;\">\n",
       "      <th></th>\n",
       "      <th>Entered By</th>\n",
       "      <th>Observers</th>\n",
       "      <th>Recorder</th>\n",
       "      <th>Year</th>\n",
       "      <th>Date</th>\n",
       "      <th>Collection</th>\n",
       "      <th>Site</th>\n",
       "      <th>Plot Name</th>\n",
       "      <th>GPS N</th>\n",
       "      <th>GPS E</th>\n",
       "      <th>...</th>\n",
       "      <th>Other C4 weight g/m^2</th>\n",
       "      <th>total weight g/m^2</th>\n",
       "      <th>% shrub cover</th>\n",
       "      <th>OPPO Cladodes</th>\n",
       "      <th>OPPO seedlings</th>\n",
       "      <th>TOTAL OPPO cladodes</th>\n",
       "      <th>notes</th>\n",
       "      <th>Date_cln</th>\n",
       "      <th>annual grass weight</th>\n",
       "      <th>annual grass weight g/m^2</th>\n",
       "    </tr>\n",
       "  </thead>\n",
       "  <tbody>\n",
       "  </tbody>\n",
       "</table>\n",
       "<p>0 rows × 50 columns</p>\n",
       "</div>"
      ],
      "text/plain": [
       "Empty DataFrame\n",
       "Columns: [Entered By, Observers, Recorder, Year, Date, Collection, Site, Plot Name, GPS N, GPS E, Brome, C3P, C4P, Other grass, Annual/Biennial Forb, Perennial Forb, Forb (2017-2018), Sub-shrub, VUOC, Standing dead, brome weight, C3 weight, C4 weight, BOBU weight, Other C4 weight, forb weight, AF weight, PF weight, VUOC weight, SD weight, total weight, brome weight g/m^2, C3 weight g/m^2, C4 weight g/m^2, forb weight g/m^2, AF weight g/m^2, PF weight g/m^2, SD weight g/m^2, VUOC weight g/m^2, BOBU weight g/m^2, Other C4 weight g/m^2, total weight g/m^2, % shrub cover, OPPO Cladodes, OPPO seedlings, TOTAL OPPO cladodes, notes, Date_cln, annual grass weight, annual grass weight g/m^2]\n",
       "Index: []\n",
       "\n",
       "[0 rows x 50 columns]"
      ]
     },
     "execution_count": 18,
     "metadata": {},
     "output_type": "execute_result"
    }
   ],
   "source": [
    "df_pvs_bm.loc[((df_pvs_bm['forb weight'].isnull()) | (df_pvs_bm['forb weight'] == 0)) & \n",
    "              (df_pvs_bm[['AF weight', 'PF weight']].sum(axis=1) != 0)]"
   ]
  },
  {
   "cell_type": "code",
   "execution_count": 19,
   "id": "c1be469a-7482-4807-93a9-8c41ddc6f210",
   "metadata": {},
   "outputs": [
    {
     "data": {
      "text/html": [
       "<div>\n",
       "<style scoped>\n",
       "    .dataframe tbody tr th:only-of-type {\n",
       "        vertical-align: middle;\n",
       "    }\n",
       "\n",
       "    .dataframe tbody tr th {\n",
       "        vertical-align: top;\n",
       "    }\n",
       "\n",
       "    .dataframe thead th {\n",
       "        text-align: right;\n",
       "    }\n",
       "</style>\n",
       "<table border=\"1\" class=\"dataframe\">\n",
       "  <thead>\n",
       "    <tr style=\"text-align: right;\">\n",
       "      <th></th>\n",
       "      <th>Entered By</th>\n",
       "      <th>Observers</th>\n",
       "      <th>Recorder</th>\n",
       "      <th>Year</th>\n",
       "      <th>Date</th>\n",
       "      <th>Collection</th>\n",
       "      <th>Site</th>\n",
       "      <th>Plot Name</th>\n",
       "      <th>GPS N</th>\n",
       "      <th>GPS E</th>\n",
       "      <th>...</th>\n",
       "      <th>Other C4 weight g/m^2</th>\n",
       "      <th>total weight g/m^2</th>\n",
       "      <th>% shrub cover</th>\n",
       "      <th>OPPO Cladodes</th>\n",
       "      <th>OPPO seedlings</th>\n",
       "      <th>TOTAL OPPO cladodes</th>\n",
       "      <th>notes</th>\n",
       "      <th>Date_cln</th>\n",
       "      <th>annual grass weight</th>\n",
       "      <th>annual grass weight g/m^2</th>\n",
       "    </tr>\n",
       "  </thead>\n",
       "  <tbody>\n",
       "  </tbody>\n",
       "</table>\n",
       "<p>0 rows × 50 columns</p>\n",
       "</div>"
      ],
      "text/plain": [
       "Empty DataFrame\n",
       "Columns: [Entered By, Observers, Recorder, Year, Date, Collection, Site, Plot Name, GPS N, GPS E, Brome, C3P, C4P, Other grass, Annual/Biennial Forb, Perennial Forb, Forb (2017-2018), Sub-shrub, VUOC, Standing dead, brome weight, C3 weight, C4 weight, BOBU weight, Other C4 weight, forb weight, AF weight, PF weight, VUOC weight, SD weight, total weight, brome weight g/m^2, C3 weight g/m^2, C4 weight g/m^2, forb weight g/m^2, AF weight g/m^2, PF weight g/m^2, SD weight g/m^2, VUOC weight g/m^2, BOBU weight g/m^2, Other C4 weight g/m^2, total weight g/m^2, % shrub cover, OPPO Cladodes, OPPO seedlings, TOTAL OPPO cladodes, notes, Date_cln, annual grass weight, annual grass weight g/m^2]\n",
       "Index: []\n",
       "\n",
       "[0 rows x 50 columns]"
      ]
     },
     "execution_count": 19,
     "metadata": {},
     "output_type": "execute_result"
    }
   ],
   "source": [
    "df_pvs_bm.loc[((df_pvs_bm['C4 weight g/m^2'].isnull()) | (df_pvs_bm['C4 weight g/m^2'] == 0)) & \n",
    "              (df_pvs_bm['BOBU weight g/m^2'] != 0)]"
   ]
  },
  {
   "cell_type": "markdown",
   "id": "67010956-d25b-489c-ba08-c3ca131949fa",
   "metadata": {},
   "source": [
    "### Visualize data to check that it makes sense"
   ]
  },
  {
   "cell_type": "code",
   "execution_count": 20,
   "id": "769e79c4-68d1-4eae-affd-7356d9b2e9e4",
   "metadata": {},
   "outputs": [
    {
     "data": {
      "text/plain": [
       "<seaborn.axisgrid.FacetGrid at 0x1ba27287dc0>"
      ]
     },
     "execution_count": 20,
     "metadata": {},
     "output_type": "execute_result"
    },
    {
     "data": {
      "image/png": "[encoded data removed]",
      "text/plain": [
       "<Figure size 428.375x360 with 1 Axes>"
      ]
     },
     "metadata": {
      "needs_background": "light"
     },
     "output_type": "display_data"
    }
   ],
   "source": [
    "# plot pin-frame calibration data\n",
    "sns.relplot(x='Date_cln', y='total weight g/m^2', hue='Site',\n",
    "            data=df_pvs_bm, kind='line', marker=\"o\")"
   ]
  },
  {
   "cell_type": "markdown",
   "id": "fabc5a1a-052b-48a1-b5c9-6afb4b40820c",
   "metadata": {
    "tags": []
   },
   "source": [
    "# Pin Frame Dataset"
   ]
  },
  {
   "cell_type": "markdown",
   "id": "495327fc-6ed4-4645-abf9-15f6e7f4f571",
   "metadata": {},
   "source": [
    "### Combine Biomass and Pin Frame datasets"
   ]
  },
  {
   "cell_type": "code",
   "execution_count": 21,
   "id": "31ce5803-5950-4314-a7f0-e11cb17ba5f5",
   "metadata": {},
   "outputs": [],
   "source": [
    "# drop 'loc' from plot data for consistency\n",
    "df_pvs_pf['Plot Name'] = df_pvs_pf['Plot Name'].astype('str').apply(lambda x: int(re.sub('loc', '', x)))\n",
    "\n",
    "# Create a new column in the Pin Frame dataframe pulling the nearest Biomass sampling date\n",
    "df_pvs_pf = pd.merge_asof(df_pvs_pf.sort_values('Date'), \n",
    "                          df_pvs_bm.groupby(['Date_cln', 'Site', 'Plot Name']).mean().reset_index().sort_values('Date_cln')[['Site',\n",
    "                                                                                                                             'Plot Name',\n",
    "                                                                                                                             'C4 weight g/m^2',\n",
    "                                                                                                                             'C3 weight g/m^2', \n",
    "                                                                                                                             'forb weight g/m^2', \n",
    "                                                                                                                             'brome weight g/m^2',\n",
    "                                                                                                                             'VUOC weight g/m^2',\n",
    "                                                                                                                             'annual grass weight g/m^2', \n",
    "                                                                                                                             'SD weight g/m^2',\n",
    "                                                                                                                             'total weight g/m^2',\n",
    "                                                                                                                             'Date_cln']],\n",
    "                          left_on='Date',\n",
    "                          right_on='Date_cln',\n",
    "                          by=['Site', 'Plot Name'],\n",
    "                          direction='nearest',\n",
    "                          tolerance=datetime.timedelta(days=15),\n",
    "                          suffixes=['_x', ''])"
   ]
  },
  {
   "cell_type": "code",
   "execution_count": 22,
   "id": "d0b4be2d-55b3-482f-b783-9ff03cb63445",
   "metadata": {},
   "outputs": [],
   "source": [
    "# drop any records missing Biomass data\n",
    "df_pvs_pf = df_pvs_pf[df_pvs_pf['total weight g/m^2'].notnull()]"
   ]
  },
  {
   "cell_type": "markdown",
   "id": "c45c7efe-6638-4f19-a3f7-0d6688d4ed99",
   "metadata": {},
   "source": [
    "### Clean up Pin Frame dataset"
   ]
  },
  {
   "cell_type": "code",
   "execution_count": 23,
   "id": "8aef315f-8605-41f9-adf5-4071f5f950ad",
   "metadata": {},
   "outputs": [],
   "source": [
    "# drop basal hits\n",
    "df_pvs_pf = df_pvs_pf[df_pvs_pf['Position'] != 'basal']"
   ]
  },
  {
   "cell_type": "code",
   "execution_count": 24,
   "id": "ba45e7b4-0f00-44df-a8be-70fcfc77ecd7",
   "metadata": {},
   "outputs": [],
   "source": [
    "# calculate forb hits\n",
    "df_pvs_pf['Forb'] = df_pvs_pf['AnnualForb'] + df_pvs_pf['PerennialForb']\n",
    "\n",
    "# calculate annual grass hits\n",
    "df_pvs_pf['Annual Grass'] = df_pvs_pf['Brome'] + df_pvs_pf['VUOC']"
   ]
  },
  {
   "cell_type": "markdown",
   "id": "46a80aab-44cf-410f-bd0e-50b6657d94f7",
   "metadata": {},
   "source": [
    "### Calculate appropriate values at the experimental unit level"
   ]
  },
  {
   "cell_type": "code",
   "execution_count": 25,
   "id": "9da54c33-3d4b-482a-afb6-a2b09e05d136",
   "metadata": {},
   "outputs": [],
   "source": [
    "# aggregate data by experimental unit\n",
    "df_pvs_pf_agg = df_pvs_pf.groupby(\n",
    "    ['Site', 'Plot Name', 'Date_cln']).aggregate(\n",
    "    {'Total Hits': np.sum,\n",
    "     'C4P_Grass': np.sum,\n",
    "     'C3P_Grass': np.sum,\n",
    "     'Annual Grass': np.sum,\n",
    "     'Forb': np.sum,\n",
    "     'Brome': np.sum,\n",
    "     'VUOC': np.sum,\n",
    "     'StandingDead': np.sum,\n",
    "     'TotalHerbHits': np.sum,\n",
    "     'total weight g/m^2': np.mean,\n",
    "     'C4 weight g/m^2': np.mean,\n",
    "     'C3 weight g/m^2': np.mean,\n",
    "     'forb weight g/m^2': np.mean,\n",
    "     'brome weight g/m^2': np.mean,\n",
    "     'VUOC weight g/m^2': np.mean,\n",
    "     'annual grass weight g/m^2': np.mean,\n",
    "     'SD weight g/m^2': np.mean}).reset_index()"
   ]
  },
  {
   "cell_type": "code",
   "execution_count": 26,
   "id": "620f110b-da01-407d-b207-311b8aafbc48",
   "metadata": {},
   "outputs": [],
   "source": [
    "pf_colname_mapper = {\n",
    "    'C4P_Grass': 'hits_C4',\n",
    "    'C3P_Grass': 'hits_C3',\n",
    "    'Annual Grass': 'hits_AnnGrass',\n",
    "    'Forb': 'hits_Forb',\n",
    "    'Brome': 'hits_Brome',\n",
    "    'VUOC': 'hits_VUOC',\n",
    "    'StandingDead': 'hits_SD',\n",
    "    'TotalHerbHits': 'hits_Total',\n",
    "    'C4 weight g/m^2': 'weight_C4',\n",
    "    'C3 weight g/m^2': 'weight_C3',\n",
    "    'annual grass weight g/m^2': 'weight_AnnGrass',\n",
    "    'forb weight g/m^2': 'weight_Forb',\n",
    "    'brome weight g/m^2': 'weight_Brome',\n",
    "    'VUOC weight g/m^2': 'weight_VUOC',\n",
    "    'SD weight g/m^2': 'weight_SD',\n",
    "    'total weight g/m^2': 'weight_Total'\n",
    "}\n",
    "\n",
    "df_pvs_pf_agg = df_pvs_pf_agg.rename(columns=pf_colname_mapper)"
   ]
  },
  {
   "cell_type": "code",
   "execution_count": 27,
   "id": "0e76e1a1-2cfb-4127-9c07-51013b7d73cf",
   "metadata": {},
   "outputs": [],
   "source": [
    "# reset the year column\n",
    "df_pvs_pf_agg['Year'] = df_pvs_pf_agg['Date_cln'].dt.year\n",
    "\n",
    "# rename date column\n",
    "df_pvs_pf_agg = df_pvs_pf_agg.rename(columns={'Date_cln': 'Date'})"
   ]
  },
  {
   "cell_type": "markdown",
   "id": "0829e870-1cb0-44b4-8dbf-a77361d75ef1",
   "metadata": {},
   "source": [
    "### Create long-form version of data"
   ]
  },
  {
   "cell_type": "code",
   "execution_count": 28,
   "id": "e411455e-4636-492c-ada9-d98fb600125b",
   "metadata": {},
   "outputs": [],
   "source": [
    "# convert to long format to be able to plot with hue as the FG\n",
    "df_pvs_pf_agg_long = pd.wide_to_long(df_pvs_pf_agg.reset_index(), \n",
    "                                     stubnames=['hits', 'weight'], \n",
    "                                     i=['Site', 'Plot Name', 'Date'], \n",
    "                                     j='FG', \n",
    "                                     sep=\"_\", \n",
    "                                     suffix=r'\\w+').reset_index()"
   ]
  },
  {
   "cell_type": "markdown",
   "id": "dc0bee1f-3e91-47a1-be59-4030065e537f",
   "metadata": {},
   "source": [
    "### Check data and save to disk"
   ]
  },
  {
   "cell_type": "code",
   "execution_count": 29,
   "id": "b9082c45-163a-4e8d-91c5-56514553f7ed",
   "metadata": {},
   "outputs": [
    {
     "data": {
      "text/plain": [
       "<seaborn.axisgrid.FacetGrid at 0x1ba28218790>"
      ]
     },
     "execution_count": 29,
     "metadata": {},
     "output_type": "execute_result"
    },
    {
     "data": {
      "image/png": "[encoded data removed]",
      "text/plain": [
       "<Figure size 831.6x756 with 8 Axes>"
      ]
     },
     "metadata": {
      "needs_background": "light"
     },
     "output_type": "display_data"
    }
   ],
   "source": [
    "# plot linear fits for each functional group (FG)\n",
    "sns.lmplot(x='hits',\n",
    "           y='weight',\n",
    "           col='FG',\n",
    "           col_wrap=3,\n",
    "           hue='FG',\n",
    "           data=df_pvs_pf_agg_long,\n",
    "           scatter=True, height=3.5, aspect=1.1)"
   ]
  },
  {
   "cell_type": "code",
   "execution_count": 30,
   "id": "479fc3b7-8c0e-4d5e-8517-14effd600df1",
   "metadata": {},
   "outputs": [
    {
     "data": {
      "text/html": [
       "<div>\n",
       "<style scoped>\n",
       "    .dataframe tbody tr th:only-of-type {\n",
       "        vertical-align: middle;\n",
       "    }\n",
       "\n",
       "    .dataframe tbody tr th {\n",
       "        vertical-align: top;\n",
       "    }\n",
       "\n",
       "    .dataframe thead th {\n",
       "        text-align: right;\n",
       "    }\n",
       "</style>\n",
       "<table border=\"1\" class=\"dataframe\">\n",
       "  <thead>\n",
       "    <tr style=\"text-align: right;\">\n",
       "      <th></th>\n",
       "      <th>Site</th>\n",
       "      <th>Plot Name</th>\n",
       "      <th>Date</th>\n",
       "      <th>Total Hits</th>\n",
       "      <th>hits_C4</th>\n",
       "      <th>hits_C3</th>\n",
       "      <th>hits_AnnGrass</th>\n",
       "      <th>hits_Forb</th>\n",
       "      <th>hits_Brome</th>\n",
       "      <th>hits_VUOC</th>\n",
       "      <th>...</th>\n",
       "      <th>hits_Total</th>\n",
       "      <th>weight_Total</th>\n",
       "      <th>weight_C4</th>\n",
       "      <th>weight_C3</th>\n",
       "      <th>weight_Forb</th>\n",
       "      <th>weight_Brome</th>\n",
       "      <th>weight_VUOC</th>\n",
       "      <th>weight_AnnGrass</th>\n",
       "      <th>weight_SD</th>\n",
       "      <th>Year</th>\n",
       "    </tr>\n",
       "  </thead>\n",
       "  <tbody>\n",
       "    <tr>\n",
       "      <th>2</th>\n",
       "      <td>clayey</td>\n",
       "      <td>1</td>\n",
       "      <td>2019-07-23</td>\n",
       "      <td>25</td>\n",
       "      <td>2</td>\n",
       "      <td>11</td>\n",
       "      <td>6</td>\n",
       "      <td>6</td>\n",
       "      <td>2</td>\n",
       "      <td>4</td>\n",
       "      <td>...</td>\n",
       "      <td>25</td>\n",
       "      <td>240.9</td>\n",
       "      <td>16.8</td>\n",
       "      <td>155.4</td>\n",
       "      <td>40.9</td>\n",
       "      <td>9.1</td>\n",
       "      <td>13.5</td>\n",
       "      <td>22.6</td>\n",
       "      <td>5.2</td>\n",
       "      <td>2019</td>\n",
       "    </tr>\n",
       "  </tbody>\n",
       "</table>\n",
       "<p>1 rows × 21 columns</p>\n",
       "</div>"
      ],
      "text/plain": [
       "     Site  Plot Name       Date  Total Hits  hits_C4  hits_C3  hits_AnnGrass  \\\n",
       "2  clayey          1 2019-07-23          25        2       11              6   \n",
       "\n",
       "   hits_Forb  hits_Brome  hits_VUOC  ...  hits_Total  weight_Total  weight_C4  \\\n",
       "2          6           2          4  ...          25         240.9       16.8   \n",
       "\n",
       "   weight_C3  weight_Forb  weight_Brome  weight_VUOC  weight_AnnGrass  \\\n",
       "2      155.4         40.9           9.1         13.5             22.6   \n",
       "\n",
       "   weight_SD  Year  \n",
       "2        5.2  2019  \n",
       "\n",
       "[1 rows x 21 columns]"
      ]
     },
     "execution_count": 30,
     "metadata": {},
     "output_type": "execute_result"
    }
   ],
   "source": [
    "# explore outliers\n",
    "df_pvs_pf_agg[(df_pvs_pf_agg.hits_C3 < 20) & (df_pvs_pf_agg.weight_C3 > 100)]"
   ]
  },
  {
   "cell_type": "code",
   "execution_count": 31,
   "id": "b0978180-1b13-47bd-98cd-762e4a08dd74",
   "metadata": {},
   "outputs": [],
   "source": [
    "# drop meaningless columns\n",
    "df_pvs_pf_agg_long = df_pvs_pf_agg_long.drop(columns=['index'])\n",
    "# save datasets to disk\n",
    "df_pvs_pf_agg.to_csv('data/TB_pvsage_pf.csv', index=False)\n",
    "df_pvs_pf_agg_long.to_csv('data/TB_pvsage_pf_long.csv', index=False)"
   ]
  },
  {
   "cell_type": "markdown",
   "id": "69147695-defa-45a8-987a-b68a83b7091b",
   "metadata": {},
   "source": [
    "# Questions:\n",
    "* Are we ok with removing 2017 loamy sites altogether since SD is missing?\n",
    "* Ask Katie\n",
    "  * about Sub-shrub weights [YUGL, AGGL, ARFR, ARPE, GUSA, OOMU]"
   ]
  },
  {
   "cell_type": "code",
   "execution_count": null,
   "id": "3cecff9d-c1f8-4f7e-8a70-530f0f974bd3",
   "metadata": {},
   "outputs": [],
   "source": []
  }
 ],
 "metadata": {
  "kernelspec": {
   "display_name": "Python 3 (ipykernel)",
   "language": "python",
   "name": "python3"
  },
  "language_info": {
   "codemirror_mode": {
    "name": "ipython",
    "version": 3
   },
   "file_extension": ".py",
   "mimetype": "text/x-python",
   "name": "python",
   "nbconvert_exporter": "python",
   "pygments_lexer": "ipython3",
   "version": "3.9.7"
  }
 },
 "nbformat": 4,
 "nbformat_minor": 5
}
