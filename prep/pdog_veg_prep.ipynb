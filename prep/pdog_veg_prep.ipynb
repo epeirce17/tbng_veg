{
 "cells": [
  {
   "cell_type": "code",
   "execution_count": 1,
   "id": "efcf26cd-ca95-4bd3-8538-83416787d72d",
   "metadata": {},
   "outputs": [],
   "source": [
    "import pandas as pd\n",
    "import os\n",
    "import re\n",
    "import numpy as np\n",
    "import datetime\n",
    "import seaborn as sns\n",
    "import matplotlib.pyplot as plt\n",
    "import geopandas as gpd"
   ]
  },
  {
   "cell_type": "markdown",
   "id": "261bc742-1879-401b-a753-8cc084ad219a",
   "metadata": {
    "tags": []
   },
   "source": [
    "# Create initial datasets"
   ]
  },
  {
   "cell_type": "markdown",
   "id": "f578f891-eda2-4fa9-9816-70683b67d43c",
   "metadata": {
    "tags": []
   },
   "source": [
    "### Setup input/output"
   ]
  },
  {
   "cell_type": "code",
   "execution_count": 3,
   "id": "2d70191e-36df-4878-a005-6eb92896546a",
   "metadata": {},
   "outputs": [],
   "source": [
    "# set base directory\n",
    "baseDIR = os.path.dirname(os.getcwd())\n",
    "\n",
    "# set input directory\n",
    "inDIR = 'data/'\n",
    "\n",
    "# set output directory\n",
    "outDIR = 'data/clip'\n",
    "if not os.path.exists(os.path.join(baseDIR, outDIR)):\n",
    "    os.mkdir(os.path.join(baseDIR, outDIR))\n",
    "\n",
    "# set input file for biomass and associated data\n",
    "inXLSX = 'PrairieDogPostPlagueBiomassProject_5april2022epAFTERNOON.xlsx'\n",
    "# NOTE: data originally stored in: T:\\2-Projects\\Thunder Basin\\PDog Biomass\\DataEntry\\Multiyear\n",
    "\n",
    "# set input file for 2021 'A' transects\n",
    "pdog_a_trnx = 'T:/3-GIS/ThunderBasin/Pdog_Vegetation/A_transects_start-end_2021.shp'\n",
    "\n",
    "# set input file for 2021 'Roth' transects\n",
    "pdog_roth_pts = 'T:/3-GIS/ThunderBasin/Bird_Habitats_Project/BMZ/finalbmz_2021.shp'\n",
    "\n",
    "# set size of clipping quadrat for calculating biomass density\n",
    "quad_size_m2 = 0.5"
   ]
  },
  {
   "cell_type": "markdown",
   "id": "0d8e65b1-6114-483c-b712-0cfc132beff1",
   "metadata": {},
   "source": [
    "### Load data"
   ]
  },
  {
   "cell_type": "code",
   "execution_count": 4,
   "id": "7805e5df-6fa1-4e91-881f-37ec4c426c04",
   "metadata": {},
   "outputs": [
    {
     "data": {
      "text/plain": [
       "['MetaData',\n",
       " 'Soils_and_Env_Covariates',\n",
       " 'Biomass',\n",
       " 'PrairieDogBurrows',\n",
       " 'ShrubMeasurements',\n",
       " 'SpeciesRichness']"
      ]
     },
     "metadata": {},
     "output_type": "display_data"
    }
   ],
   "source": [
    "# create an Excel file object for investigating contents\n",
    "pdog_xlsx = pd.ExcelFile(os.path.join(baseDIR, inDIR, inXLSX))\n",
    "\n",
    "# create a GeoDataFrame of 'A' transect data\n",
    "gdf_a_trnx = gpd.read_file(pdog_a_trnx)\n",
    "\n",
    "# create a GeoDataFrame of 'Roth' transect data\n",
    "gdf_roth_pts = gpd.read_file(pdog_roth_pts)\n",
    "\n",
    "# display the sheet names in the .xlsx file\n",
    "display(pdog_xlsx.sheet_names)"
   ]
  },
  {
   "cell_type": "code",
   "execution_count": 5,
   "id": "efc29997-fc04-42fc-ad52-a7a5dfcad362",
   "metadata": {},
   "outputs": [],
   "source": [
    "# load necessary data\n",
    "df_pdog_bm = pdog_xlsx.parse(sheet_name='Biomass', header=0)\n",
    "df_pdog_sr = pdog_xlsx.parse(sheet_name='SpeciesRichness', header=0)\n",
    "df_pdog_env = pdog_xlsx.parse(sheet_name='Soils_and_Env_Covariates', header=0)"
   ]
  },
  {
   "cell_type": "code",
   "execution_count": 6,
   "id": "8df8e768-3359-4364-ad8b-a760cfe71263",
   "metadata": {},
   "outputs": [
    {
     "data": {
      "text/plain": [
       "array(['1nw01', '2duchardtE24', 'C1.2', 'C1.6', 'C10.1', 'C10.6', 'C2.1',\n",
       "       'C2.7', 'C4.4', 'C4.8', 'C6.7', 'C7.2', 'C7.7', 'C9.1', 'C9.6',\n",
       "       'E10.3', 'E10.6', 'E10.7', 'E18.2', 'E18.4', 'E18.8', 'E20.2',\n",
       "       'E20.4', 'E20.7', 'E21.2', 'E21.6', 'E21.8', 'E22.2', 'E22.6',\n",
       "       'E22.8', 'E23.2', 'E23.4', 'E23.8', 'E26.1', 'E26.3', 'E26.5',\n",
       "       'E30.1', 'E30.3', 'E33.3', 'E33.5', 'E33.8', 'E35.1', 'E35.3',\n",
       "       'E39.1', 'E39.4', 'E39.6', 'E46.2', 'E46.5', 'E46.7', 'E49.1',\n",
       "       'E49.3', 'E49.6', 'E51.1', 'E51.3', 'E51.4', 'E52.1', 'E52.2',\n",
       "       'E52.4', 'E55.1', 'E55.2', 'E55.5', 'E57.1', 'E57.2', 'E57.5',\n",
       "       'E60.2', 'E60.5', 'E7.2', 'E7.4', 'E7.5', 'E8.1', 'E8.2', 'E8.6',\n",
       "       'E9.1', 'E9.2', 'E9.4', 'L11.3', 'L11.7', 'L3.3', 'L3.8', 'L4.2',\n",
       "       'L4.6', 'L4.8', 'L5.2', 'L5.7', 'L6.6', 'L7.1', 'L7.6', 'L8.3',\n",
       "       'L8.8', 'SAU01', 'L8.6', 'A3.1', 'A1.1', 'Roth 143_C', 'A2.1'],\n",
       "      dtype=object)"
      ]
     },
     "execution_count": 6,
     "metadata": {},
     "output_type": "execute_result"
    }
   ],
   "source": [
    "df_pdog_sr['Point'].unique()"
   ]
  },
  {
   "cell_type": "code",
   "execution_count": 7,
   "id": "fd2ad992-cb41-4ba3-8d29-72d453b4514b",
   "metadata": {},
   "outputs": [
    {
     "data": {
      "text/plain": [
       "array(['1nw01', '2duchardtE24', 'C1.2', 'C1.6', 'C10.1', 'C10.6', 'C2.1',\n",
       "       'C2.7', 'C4.4', 'C4.8', 'C6.7', 'C7.2', 'C7.7', 'C9.1', 'C9.6',\n",
       "       'E10.3', 'E10.6', 'E10.7', 'E18.2', 'E18.4', 'E18.8', 'E20.2',\n",
       "       'E20.4', 'E20.7', 'E21.2', 'E21.6', 'E21.8', 'E22.2', 'E22.6',\n",
       "       'E22.8', 'E23.2', 'E23.4', 'E23.8', 'E26.1', 'E26.3', 'E26.5',\n",
       "       'E30.1', 'E30.3', 'E33.3', 'E33.5', 'E33.8', 'E35.1', 'E35.3',\n",
       "       'E39.1', 'E39.4', 'E39.6', 'E46.2', 'E46.5', 'E46.7', 'E49.1',\n",
       "       'E49.3', 'E49.6', 'E51.1', 'E51.3', 'E51.4', 'E52.1', 'E52.2',\n",
       "       'E52.4', 'E55.1', 'E55.2', 'E55.5', 'E57.1', 'E57.2', 'E57.5',\n",
       "       'E60.2', 'E60.5', 'E7.2', 'E7.4', 'E7.5', 'E8.1', 'E8.2', 'E8.6',\n",
       "       'E9.1', 'E9.2', 'E9.4', 'L11.3', 'L11.7', 'L3.3', 'L3.8', 'L4.2',\n",
       "       'L4.6', 'L4.8', 'L5.2', 'L5.7', 'L6.6', 'L7.1', 'L7.6', 'L8.3',\n",
       "       'L8.8', 'sau01', 'Trashgrass', 'A1.1', 'A2.1', 'A3.1', 'C4.5',\n",
       "       'E30.6', 'E30_C', 'E30_P', 'E36.3', 'E37.2', 'L8.6', 'Roth101_c',\n",
       "       'Roth101_O', 'Roth101_p', 'Roth114_c', 'Roth114_O', 'Roth114_p',\n",
       "       'Roth143_c', 'Roth143_O', 'Roth143_p'], dtype=object)"
      ]
     },
     "execution_count": 7,
     "metadata": {},
     "output_type": "execute_result"
    }
   ],
   "source": [
    "df_pdog_bm['Point'].unique()"
   ]
  },
  {
   "cell_type": "code",
   "execution_count": 8,
   "id": "1825d3f1-258c-47aa-8acd-8a781dbc5540",
   "metadata": {},
   "outputs": [
    {
     "data": {
      "text/plain": [
       "array(['SAU01', 'Roth 143_C'], dtype=object)"
      ]
     },
     "execution_count": 8,
     "metadata": {},
     "output_type": "execute_result"
    }
   ],
   "source": [
    "df_pdog_sr['Point'][~df_pdog_sr['Point'].isin(df_pdog_bm['Point'].unique())].unique()"
   ]
  },
  {
   "cell_type": "code",
   "execution_count": 9,
   "id": "12ec95b9-a2f2-4963-9af0-721757e5d2ff",
   "metadata": {},
   "outputs": [
    {
     "data": {
      "text/plain": [
       "array(['sau01', 'Trashgrass', 'C4.5', 'E30.6', 'E30_C', 'E30_P', 'E36.3',\n",
       "       'E37.2', 'Roth101_c', 'Roth101_O', 'Roth101_p', 'Roth114_c',\n",
       "       'Roth114_O', 'Roth114_p', 'Roth143_c', 'Roth143_O', 'Roth143_p'],\n",
       "      dtype=object)"
      ]
     },
     "execution_count": 9,
     "metadata": {},
     "output_type": "execute_result"
    }
   ],
   "source": [
    "df_pdog_bm['Point'][~df_pdog_bm['Point'].isin(df_pdog_sr['Point'].unique())].unique()"
   ]
  },
  {
   "cell_type": "code",
   "execution_count": 10,
   "id": "e459a097-b2d7-482a-bbe4-b4c4a43decbd",
   "metadata": {},
   "outputs": [],
   "source": [
    "# rename points in clipping and cover datasets to match\n",
    "df_pdog_sr.loc[df_pdog_sr['Point'] == 'SAU01', 'Point'] = 'sau01'\n",
    "df_pdog_sr.loc[df_pdog_sr['Point'] == 'Roth 143_C', 'Point'] = 'Roth143_c'"
   ]
  },
  {
   "cell_type": "code",
   "execution_count": 11,
   "id": "c3e653ee-4415-4eff-a0a7-f581b5062a47",
   "metadata": {},
   "outputs": [],
   "source": [
    "# rename date column in clipping dataset\n",
    "df_pdog_bm = df_pdog_bm.rename(columns={'Sample Date': 'Date'})\n",
    "\n",
    "# set dates in cover data\n",
    "df_pdog_sr = df_pdog_sr[df_pdog_sr['Date'] != 'na']\n",
    "df_pdog_sr['Date'] = pd.to_datetime(df_pdog_sr['Date'])"
   ]
  },
  {
   "cell_type": "code",
   "execution_count": 12,
   "id": "c5b8bbd7-9c98-484f-b93a-07c832a64422",
   "metadata": {},
   "outputs": [],
   "source": [
    "# calculate total biomass density in g/m^2 by summing SD and live and adjusting for quadrat size\n",
    "df_pdog_bm['Total_Weight_(g/m^2)'] = df_pdog_bm[['TotalCurrentYear',\n",
    "                                                 'SD total']].sum(axis=1) / quad_size_m2"
   ]
  },
  {
   "cell_type": "code",
   "execution_count": 13,
   "id": "a76bca87-f378-48ae-9870-a924cba04aed",
   "metadata": {},
   "outputs": [],
   "source": [
    "# aggregate clipping data\n",
    "df_pdog_bm_agg = df_pdog_bm.groupby(['Date', 'Point']).mean().reset_index()\n",
    "\n",
    "# aggregate cover data\n",
    "df_pdog_sr_agg = df_pdog_sr.groupby(['Date', 'Point']).mean().reset_index()"
   ]
  },
  {
   "cell_type": "code",
   "execution_count": 16,
   "id": "7f4903a7-8aac-488f-a8c8-cb2f4cce85aa",
   "metadata": {},
   "outputs": [],
   "source": [
    "df_pdog_fnl = pd.merge_asof(df_pdog_bm_agg.sort_values('Date'),\n",
    "                         df_pdog_sr_agg.sort_values('Date'),\n",
    "                         left_on= 'Date',\n",
    "                         right_on= 'Date',\n",
    "                         by=['Point'],\n",
    "                         direction= 'nearest',\n",
    "                         tolerance= datetime.timedelta(days= 22),\n",
    "                         suffixes=['_bm', '_sr'])"
   ]
  },
  {
   "cell_type": "code",
   "execution_count": 18,
   "id": "2a8b02f2-9d05-4211-a532-5bd75516c5e1",
   "metadata": {},
   "outputs": [],
   "source": [
    "bad_plots = df_pdog_fnl.groupby('Point').mean()[((df_pdog_fnl.groupby('Point').mean()['%Shrub Cover'] +\n",
    "                                                  df_pdog_fnl.groupby('Point').mean()['% YUGL cover']) >= 20)]"
   ]
  },
  {
   "cell_type": "code",
   "execution_count": 19,
   "id": "eb84ce72-3c1d-4369-b2b9-12f88284de03",
   "metadata": {},
   "outputs": [],
   "source": [
    "df_pdog_fnl['Cacti_cladodes'] = df_pdog_fnl['Cacti_cladodes'].transform(lambda x: 0.0 if np.isnan(x) else x)\n",
    "df_pdog_fnl['%Shrub Cover'] = df_pdog_fnl['%Shrub Cover'].transform(lambda x: 0.0 if np.isnan(x) else x)"
   ]
  },
  {
   "cell_type": "code",
   "execution_count": 20,
   "id": "2a4e5fef-0808-4a8a-9024-b526e68142d6",
   "metadata": {},
   "outputs": [],
   "source": [
    "#df_pdog_fnl"
   ]
  },
  {
   "cell_type": "code",
   "execution_count": 21,
   "id": "3f1592c4-ab16-4602-9159-6b47b344bc3d",
   "metadata": {},
   "outputs": [],
   "source": [
    "df_pdog_fnl = df_pdog_fnl[(df_pdog_fnl['Cacti_cladodes'] < 50) &\n",
    "                          ((df_pdog_fnl['%Shrub Cover'] +\n",
    "                            df_pdog_fnl['% YUGL cover']) < 20) &\n",
    "                          (~df_pdog_fnl['Point'].isin(bad_plots.index))]"
   ]
  },
  {
   "cell_type": "code",
   "execution_count": 25,
   "id": "ca7e2f1e-c833-492d-9c43-59817e106f2e",
   "metadata": {},
   "outputs": [
    {
     "data": {
      "text/plain": [
       "<AxesSubplot:xlabel='Year', ylabel='Total_Weight_(g/m^2)'>"
      ]
     },
     "execution_count": 25,
     "metadata": {},
     "output_type": "execute_result"
    },
    {
     "data": {
      "image/png": "[encoded data removed]",
      "text/plain": [
       "<Figure size 432x288 with 1 Axes>"
      ]
     },
     "metadata": {
      "needs_background": "light"
     },
     "output_type": "display_data"
    }
   ],
   "source": [
    "sns.boxplot(x='Year', y='Total_Weight_(g/m^2)', data=df_pdog_fnl)"
   ]
  },
  {
   "cell_type": "code",
   "execution_count": 26,
   "id": "44480e20-a136-489d-bb8a-5f0181ea3154",
   "metadata": {},
   "outputs": [
    {
     "data": {
      "text/plain": [
       "array(['sau01', 'A1.1', 'A2.1', 'A3.1', 'Roth143_c'], dtype=object)"
      ]
     },
     "execution_count": 26,
     "metadata": {},
     "output_type": "execute_result"
    }
   ],
   "source": [
    "df_pdog_fnl['Point'][~df_pdog_fnl['Point'].isin(df_pdog_env['Point'].unique())].unique()"
   ]
  },
  {
   "cell_type": "code",
   "execution_count": 27,
   "id": "4bf7ae39-41b6-46c6-be26-41cc75c3f3b9",
   "metadata": {},
   "outputs": [
    {
     "data": {
      "text/plain": [
       "array(['E26.5', 'SAU01'], dtype=object)"
      ]
     },
     "execution_count": 27,
     "metadata": {},
     "output_type": "execute_result"
    }
   ],
   "source": [
    "df_pdog_env['Point'][~df_pdog_env['Point'].isin(df_pdog_fnl['Point'].unique())].unique()"
   ]
  },
  {
   "cell_type": "code",
   "execution_count": 28,
   "id": "da8f01d6-0dbe-444c-a009-0b533253fbfc",
   "metadata": {},
   "outputs": [
    {
     "data": {
      "text/html": [
       "<div>\n",
       "<style scoped>\n",
       "    .dataframe tbody tr th:only-of-type {\n",
       "        vertical-align: middle;\n",
       "    }\n",
       "\n",
       "    .dataframe tbody tr th {\n",
       "        vertical-align: top;\n",
       "    }\n",
       "\n",
       "    .dataframe thead th {\n",
       "        text-align: right;\n",
       "    }\n",
       "</style>\n",
       "<table border=\"1\" class=\"dataframe\">\n",
       "  <thead>\n",
       "    <tr style=\"text-align: right;\">\n",
       "      <th></th>\n",
       "      <th>Point</th>\n",
       "      <th>Transect</th>\n",
       "      <th>Easting_BirdPt</th>\n",
       "      <th>Northing_BirdPt</th>\n",
       "      <th>Mean.GPS_E.Biomass</th>\n",
       "      <th>Mean.GPS_N.Biomass</th>\n",
       "      <th>Texture_Sample</th>\n",
       "      <th>Texture_Run</th>\n",
       "      <th>Percent.Sand</th>\n",
       "      <th>Percent.Clay</th>\n",
       "      <th>...</th>\n",
       "      <th>tmin_celsius_annual</th>\n",
       "      <th>SSURGO_ave_clay_10cm</th>\n",
       "      <th>SSURGO_ave_clay_30cm</th>\n",
       "      <th>SSURGO_ave_clay_200cm</th>\n",
       "      <th>SSURGO_ave_sand_10cm</th>\n",
       "      <th>SSURGO_ave_sand_30cm</th>\n",
       "      <th>SSURGO_ave_sand_200cm</th>\n",
       "      <th>SSURGO_ave_silt_10cm</th>\n",
       "      <th>SSURGO_ave_silt_30cm</th>\n",
       "      <th>SSURGO_ave_silt_200cm</th>\n",
       "    </tr>\n",
       "  </thead>\n",
       "  <tbody>\n",
       "    <tr>\n",
       "      <th>0</th>\n",
       "      <td>E26.3</td>\n",
       "      <td>E26</td>\n",
       "      <td>499428.0</td>\n",
       "      <td>4813456.0</td>\n",
       "      <td>499413.315</td>\n",
       "      <td>4813462.255</td>\n",
       "      <td>42</td>\n",
       "      <td>7</td>\n",
       "      <td>37.856</td>\n",
       "      <td>31.216</td>\n",
       "      <td>...</td>\n",
       "      <td>0.25</td>\n",
       "      <td>31.000000</td>\n",
       "      <td>31.000000</td>\n",
       "      <td>31.000000</td>\n",
       "      <td>35.000000</td>\n",
       "      <td>35.000000</td>\n",
       "      <td>35.000000</td>\n",
       "      <td>34.000000</td>\n",
       "      <td>34.000000</td>\n",
       "      <td>34.000000</td>\n",
       "    </tr>\n",
       "    <tr>\n",
       "      <th>1</th>\n",
       "      <td>E60.5</td>\n",
       "      <td>E60</td>\n",
       "      <td>489036.0</td>\n",
       "      <td>4798019.0</td>\n",
       "      <td>489045.615</td>\n",
       "      <td>4798033.190</td>\n",
       "      <td>73</td>\n",
       "      <td>5</td>\n",
       "      <td>60.000</td>\n",
       "      <td>15.288</td>\n",
       "      <td>...</td>\n",
       "      <td>0.16</td>\n",
       "      <td>16.548760</td>\n",
       "      <td>27.581364</td>\n",
       "      <td>31.387190</td>\n",
       "      <td>64.192149</td>\n",
       "      <td>45.612087</td>\n",
       "      <td>36.761715</td>\n",
       "      <td>19.259091</td>\n",
       "      <td>26.806550</td>\n",
       "      <td>31.851095</td>\n",
       "    </tr>\n",
       "    <tr>\n",
       "      <th>2</th>\n",
       "      <td>C4.4</td>\n",
       "      <td>C4</td>\n",
       "      <td>494388.0</td>\n",
       "      <td>4811280.0</td>\n",
       "      <td>494402.705</td>\n",
       "      <td>4811289.075</td>\n",
       "      <td>5</td>\n",
       "      <td>1</td>\n",
       "      <td>65.856</td>\n",
       "      <td>18.216</td>\n",
       "      <td>...</td>\n",
       "      <td>0.27</td>\n",
       "      <td>25.080232</td>\n",
       "      <td>27.857371</td>\n",
       "      <td>28.311977</td>\n",
       "      <td>47.641013</td>\n",
       "      <td>38.913134</td>\n",
       "      <td>36.690408</td>\n",
       "      <td>27.278755</td>\n",
       "      <td>33.229495</td>\n",
       "      <td>34.997615</td>\n",
       "    </tr>\n",
       "    <tr>\n",
       "      <th>3</th>\n",
       "      <td>E33.8</td>\n",
       "      <td>E33</td>\n",
       "      <td>495094.0</td>\n",
       "      <td>4811608.0</td>\n",
       "      <td>495080.140</td>\n",
       "      <td>4811620.305</td>\n",
       "      <td>48</td>\n",
       "      <td>3</td>\n",
       "      <td>60.784</td>\n",
       "      <td>20.360</td>\n",
       "      <td>...</td>\n",
       "      <td>0.25</td>\n",
       "      <td>18.066920</td>\n",
       "      <td>26.680684</td>\n",
       "      <td>21.949900</td>\n",
       "      <td>69.598481</td>\n",
       "      <td>56.954694</td>\n",
       "      <td>60.971134</td>\n",
       "      <td>12.334599</td>\n",
       "      <td>16.364623</td>\n",
       "      <td>17.078965</td>\n",
       "    </tr>\n",
       "    <tr>\n",
       "      <th>4</th>\n",
       "      <td>C9.6</td>\n",
       "      <td>C9</td>\n",
       "      <td>498802.0</td>\n",
       "      <td>4816553.0</td>\n",
       "      <td>498815.400</td>\n",
       "      <td>4816563.830</td>\n",
       "      <td>11</td>\n",
       "      <td>1</td>\n",
       "      <td>63.784</td>\n",
       "      <td>10.360</td>\n",
       "      <td>...</td>\n",
       "      <td>0.19</td>\n",
       "      <td>23.500000</td>\n",
       "      <td>45.000000</td>\n",
       "      <td>35.000000</td>\n",
       "      <td>39.200000</td>\n",
       "      <td>26.100000</td>\n",
       "      <td>35.400000</td>\n",
       "      <td>37.300000</td>\n",
       "      <td>28.900000</td>\n",
       "      <td>29.600000</td>\n",
       "    </tr>\n",
       "    <tr>\n",
       "      <th>...</th>\n",
       "      <td>...</td>\n",
       "      <td>...</td>\n",
       "      <td>...</td>\n",
       "      <td>...</td>\n",
       "      <td>...</td>\n",
       "      <td>...</td>\n",
       "      <td>...</td>\n",
       "      <td>...</td>\n",
       "      <td>...</td>\n",
       "      <td>...</td>\n",
       "      <td>...</td>\n",
       "      <td>...</td>\n",
       "      <td>...</td>\n",
       "      <td>...</td>\n",
       "      <td>...</td>\n",
       "      <td>...</td>\n",
       "      <td>...</td>\n",
       "      <td>...</td>\n",
       "      <td>...</td>\n",
       "      <td>...</td>\n",
       "      <td>...</td>\n",
       "    </tr>\n",
       "    <tr>\n",
       "      <th>86</th>\n",
       "      <td>E7.2</td>\n",
       "      <td>E7</td>\n",
       "      <td>499204.0</td>\n",
       "      <td>4825203.0</td>\n",
       "      <td>499217.330</td>\n",
       "      <td>4825202.565</td>\n",
       "      <td>14</td>\n",
       "      <td>1</td>\n",
       "      <td>39.784</td>\n",
       "      <td>32.288</td>\n",
       "      <td>...</td>\n",
       "      <td>-0.03</td>\n",
       "      <td>21.512524</td>\n",
       "      <td>34.530219</td>\n",
       "      <td>28.668168</td>\n",
       "      <td>36.648652</td>\n",
       "      <td>28.746391</td>\n",
       "      <td>34.193383</td>\n",
       "      <td>41.838825</td>\n",
       "      <td>36.723389</td>\n",
       "      <td>37.138448</td>\n",
       "    </tr>\n",
       "    <tr>\n",
       "      <th>87</th>\n",
       "      <td>E52.2</td>\n",
       "      <td>E52</td>\n",
       "      <td>487882.0</td>\n",
       "      <td>4803198.0</td>\n",
       "      <td>487894.550</td>\n",
       "      <td>4803210.470</td>\n",
       "      <td>64</td>\n",
       "      <td>4</td>\n",
       "      <td>55.856</td>\n",
       "      <td>24.144</td>\n",
       "      <td>...</td>\n",
       "      <td>0.29</td>\n",
       "      <td>21.530601</td>\n",
       "      <td>45.000000</td>\n",
       "      <td>42.180986</td>\n",
       "      <td>55.064467</td>\n",
       "      <td>20.000000</td>\n",
       "      <td>33.900653</td>\n",
       "      <td>23.404932</td>\n",
       "      <td>35.000000</td>\n",
       "      <td>23.918360</td>\n",
       "    </tr>\n",
       "    <tr>\n",
       "      <th>88</th>\n",
       "      <td>E30.1</td>\n",
       "      <td>E30</td>\n",
       "      <td>492149.0</td>\n",
       "      <td>4815905.0</td>\n",
       "      <td>492161.655</td>\n",
       "      <td>4815918.655</td>\n",
       "      <td>44</td>\n",
       "      <td>3</td>\n",
       "      <td>74.712</td>\n",
       "      <td>6.288</td>\n",
       "      <td>...</td>\n",
       "      <td>0.11</td>\n",
       "      <td>20.000000</td>\n",
       "      <td>38.000000</td>\n",
       "      <td>36.500000</td>\n",
       "      <td>42.100000</td>\n",
       "      <td>35.500000</td>\n",
       "      <td>32.500000</td>\n",
       "      <td>37.900000</td>\n",
       "      <td>26.500000</td>\n",
       "      <td>31.000000</td>\n",
       "    </tr>\n",
       "    <tr>\n",
       "      <th>89</th>\n",
       "      <td>L11.3</td>\n",
       "      <td>L11</td>\n",
       "      <td>478619.0</td>\n",
       "      <td>4807083.0</td>\n",
       "      <td>478629.825</td>\n",
       "      <td>4807094.790</td>\n",
       "      <td>86</td>\n",
       "      <td>6</td>\n",
       "      <td>57.640</td>\n",
       "      <td>10.216</td>\n",
       "      <td>...</td>\n",
       "      <td>0.25</td>\n",
       "      <td>21.800000</td>\n",
       "      <td>19.900000</td>\n",
       "      <td>15.000000</td>\n",
       "      <td>40.700000</td>\n",
       "      <td>52.500000</td>\n",
       "      <td>76.000000</td>\n",
       "      <td>37.500000</td>\n",
       "      <td>27.600000</td>\n",
       "      <td>9.000000</td>\n",
       "    </tr>\n",
       "    <tr>\n",
       "      <th>90</th>\n",
       "      <td>E21.2</td>\n",
       "      <td>E21</td>\n",
       "      <td>499664.0</td>\n",
       "      <td>4817672.0</td>\n",
       "      <td>499646.225</td>\n",
       "      <td>4817672.210</td>\n",
       "      <td>32</td>\n",
       "      <td>2</td>\n",
       "      <td>65.712</td>\n",
       "      <td>8.288</td>\n",
       "      <td>...</td>\n",
       "      <td>0.18</td>\n",
       "      <td>27.146214</td>\n",
       "      <td>37.708379</td>\n",
       "      <td>41.250534</td>\n",
       "      <td>45.294873</td>\n",
       "      <td>30.554854</td>\n",
       "      <td>25.641514</td>\n",
       "      <td>27.558913</td>\n",
       "      <td>31.736767</td>\n",
       "      <td>33.107952</td>\n",
       "    </tr>\n",
       "  </tbody>\n",
       "</table>\n",
       "<p>91 rows × 36 columns</p>\n",
       "</div>"
      ],
      "text/plain": [
       "    Point Transect  Easting_BirdPt  Northing_BirdPt  Mean.GPS_E.Biomass  \\\n",
       "0   E26.3      E26        499428.0        4813456.0          499413.315   \n",
       "1   E60.5      E60        489036.0        4798019.0          489045.615   \n",
       "2    C4.4       C4        494388.0        4811280.0          494402.705   \n",
       "3   E33.8      E33        495094.0        4811608.0          495080.140   \n",
       "4    C9.6       C9        498802.0        4816553.0          498815.400   \n",
       "..    ...      ...             ...              ...                 ...   \n",
       "86   E7.2       E7        499204.0        4825203.0          499217.330   \n",
       "87  E52.2      E52        487882.0        4803198.0          487894.550   \n",
       "88  E30.1      E30        492149.0        4815905.0          492161.655   \n",
       "89  L11.3      L11        478619.0        4807083.0          478629.825   \n",
       "90  E21.2      E21        499664.0        4817672.0          499646.225   \n",
       "\n",
       "    Mean.GPS_N.Biomass  Texture_Sample  Texture_Run  Percent.Sand  \\\n",
       "0          4813462.255              42            7        37.856   \n",
       "1          4798033.190              73            5        60.000   \n",
       "2          4811289.075               5            1        65.856   \n",
       "3          4811620.305              48            3        60.784   \n",
       "4          4816563.830              11            1        63.784   \n",
       "..                 ...             ...          ...           ...   \n",
       "86         4825202.565              14            1        39.784   \n",
       "87         4803210.470              64            4        55.856   \n",
       "88         4815918.655              44            3        74.712   \n",
       "89         4807094.790              86            6        57.640   \n",
       "90         4817672.210              32            2        65.712   \n",
       "\n",
       "    Percent.Clay  ...  tmin_celsius_annual SSURGO_ave_clay_10cm  \\\n",
       "0         31.216  ...                 0.25            31.000000   \n",
       "1         15.288  ...                 0.16            16.548760   \n",
       "2         18.216  ...                 0.27            25.080232   \n",
       "3         20.360  ...                 0.25            18.066920   \n",
       "4         10.360  ...                 0.19            23.500000   \n",
       "..           ...  ...                  ...                  ...   \n",
       "86        32.288  ...                -0.03            21.512524   \n",
       "87        24.144  ...                 0.29            21.530601   \n",
       "88         6.288  ...                 0.11            20.000000   \n",
       "89        10.216  ...                 0.25            21.800000   \n",
       "90         8.288  ...                 0.18            27.146214   \n",
       "\n",
       "    SSURGO_ave_clay_30cm  SSURGO_ave_clay_200cm  SSURGO_ave_sand_10cm  \\\n",
       "0              31.000000              31.000000             35.000000   \n",
       "1              27.581364              31.387190             64.192149   \n",
       "2              27.857371              28.311977             47.641013   \n",
       "3              26.680684              21.949900             69.598481   \n",
       "4              45.000000              35.000000             39.200000   \n",
       "..                   ...                    ...                   ...   \n",
       "86             34.530219              28.668168             36.648652   \n",
       "87             45.000000              42.180986             55.064467   \n",
       "88             38.000000              36.500000             42.100000   \n",
       "89             19.900000              15.000000             40.700000   \n",
       "90             37.708379              41.250534             45.294873   \n",
       "\n",
       "    SSURGO_ave_sand_30cm  SSURGO_ave_sand_200cm  SSURGO_ave_silt_10cm  \\\n",
       "0              35.000000              35.000000             34.000000   \n",
       "1              45.612087              36.761715             19.259091   \n",
       "2              38.913134              36.690408             27.278755   \n",
       "3              56.954694              60.971134             12.334599   \n",
       "4              26.100000              35.400000             37.300000   \n",
       "..                   ...                    ...                   ...   \n",
       "86             28.746391              34.193383             41.838825   \n",
       "87             20.000000              33.900653             23.404932   \n",
       "88             35.500000              32.500000             37.900000   \n",
       "89             52.500000              76.000000             37.500000   \n",
       "90             30.554854              25.641514             27.558913   \n",
       "\n",
       "    SSURGO_ave_silt_30cm  SSURGO_ave_silt_200cm  \n",
       "0              34.000000              34.000000  \n",
       "1              26.806550              31.851095  \n",
       "2              33.229495              34.997615  \n",
       "3              16.364623              17.078965  \n",
       "4              28.900000              29.600000  \n",
       "..                   ...                    ...  \n",
       "86             36.723389              37.138448  \n",
       "87             35.000000              23.918360  \n",
       "88             26.500000              31.000000  \n",
       "89             27.600000               9.000000  \n",
       "90             31.736767              33.107952  \n",
       "\n",
       "[91 rows x 36 columns]"
      ]
     },
     "execution_count": 28,
     "metadata": {},
     "output_type": "execute_result"
    }
   ],
   "source": [
    "df_pdog_env"
   ]
  },
  {
   "cell_type": "code",
   "execution_count": 29,
   "id": "ac1ea1cb-7a22-48f2-8ee4-36a52c7e2728",
   "metadata": {},
   "outputs": [],
   "source": [
    "# rename points in clipping and cover datasets to match\n",
    "df_pdog_env.loc[df_pdog_env['Point'] == 'SAU01', 'Point'] = 'sau01'"
   ]
  },
  {
   "cell_type": "code",
   "execution_count": 35,
   "id": "88d161e9-89d2-4d64-871e-96e10bcda7e8",
   "metadata": {},
   "outputs": [],
   "source": [
    "# drop any duplicated (manually identified that they exist)\n",
    "df_pdog_env = df_pdog_env.drop_duplicates(keep='first')"
   ]
  },
  {
   "cell_type": "code",
   "execution_count": 36,
   "id": "3e1c6f36-849a-4a8a-a690-6cb0966ceaa5",
   "metadata": {},
   "outputs": [],
   "source": [
    "# convert 'a' transect data to get center point\n",
    "gdf_a_trnx['Point'] = gdf_a_trnx['Tranect'].transform(lambda x: x.split(' ')[0])\n",
    "\n",
    "gdf_a_trnx_mean = gdf_a_trnx.groupby('Point').mean().rename(columns={'UTME': 'Mean.GPS_E.Biomass',\n",
    "                                                                'UTMN': 'Mean.GPS_N.Biomass'}).reset_index()\n",
    "\n",
    "# convert 'Roth' point data\n",
    "gdf_roth_pts['Point'] = gdf_roth_pts['Name']\n",
    "gdf_roth_pts.loc[gdf_roth_pts['Point'] == 'Roth143_C', 'Point'] = 'Roth143_c'\n",
    "\n",
    "gdf_roth_pts['Mean.GPS_E.Biomass'] = gdf_roth_pts.geometry.x\n",
    "gdf_roth_pts['Mean.GPS_N.Biomass'] = gdf_roth_pts.geometry.y\n"
   ]
  },
  {
   "cell_type": "code",
   "execution_count": 37,
   "id": "82126b74-0b03-469f-8e88-cbaf2f54c5d2",
   "metadata": {},
   "outputs": [],
   "source": [
    "# combine biomass and environmental datasets\n",
    "df_pdog_fnl = pd.merge(df_pdog_fnl,\n",
    "                       pd.concat([df_pdog_env[['Point', 'Mean.GPS_E.Biomass', 'Mean.GPS_N.Biomass']],\n",
    "                                 gdf_a_trnx_mean,\n",
    "                                 gdf_roth_pts[['Point', 'Mean.GPS_E.Biomass', 'Mean.GPS_N.Biomass']]]),\n",
    "                       on='Point',\n",
    "                       how='left')"
   ]
  },
  {
   "cell_type": "code",
   "execution_count": 40,
   "id": "9d6b672c-1ae5-4280-8401-c90ecf51eea9",
   "metadata": {},
   "outputs": [],
   "source": [
    "df_pdog_fnl.to_csv(os.path.join(baseDIR, outDIR, 'TB_pdog_clip.csv'), index=False)"
   ]
  },
  {
   "cell_type": "markdown",
   "id": "a82151bf-6943-44bb-896a-beee9c889f13",
   "metadata": {},
   "source": [
    "# Questions\n",
    "* ID's missing from GPS (see above) - can get A. and Roth from shapefile(s) on T:\n",
    "    * (A are in ThunderBasin/PdogVegetation; Roth are in BMZ file in ThunderBasin/BirdHabitatsProject/BMZ)"
   ]
  }
 ],
 "metadata": {
  "kernelspec": {
   "display_name": "Python 3 (ipykernel)",
   "language": "python",
   "name": "python3"
  },
  "language_info": {
   "codemirror_mode": {
    "name": "ipython",
    "version": 3
   },
   "file_extension": ".py",
   "mimetype": "text/x-python",
   "name": "python",
   "nbconvert_exporter": "python",
   "pygments_lexer": "ipython3",
   "version": "3.9.9"
  }
 },
 "nbformat": 4,
 "nbformat_minor": 5
}
