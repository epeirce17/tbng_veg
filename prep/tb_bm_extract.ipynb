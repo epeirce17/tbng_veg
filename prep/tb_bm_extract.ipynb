{
 "cells": [
  {
   "cell_type": "code",
   "execution_count": 3,
   "id": "37a34084-7125-41c0-952f-df177b6ac6b7",
   "metadata": {},
   "outputs": [],
   "source": [
    "import os\n",
    "import pandas as pd\n",
    "from glob import glob"
   ]
  },
  {
   "cell_type": "code",
   "execution_count": null,
   "id": "f81a49fb-039e-44df-8fdd-de66d9430d80",
   "metadata": {},
   "outputs": [],
   "source": [
    "proj_dict = {\n",
    "    'TB_fire_clip.csv': {\n",
    "        'Project': 'Fire',\n",
    "        'Method': 'clip',\n",
    "        'ID': 'Transect ID',\n",
    "        'Date': 'Date',\n",
    "        'bm_gm2': 'Total_Weight_(g/m^2)',\n",
    "        'gps_E': 'Mean.GPS_E.Biomass',\n",
    "        'gps_N': 'Mean.GPS_N.Biomass'\n",
    "    },\n",
    "    'TB_nex_clip.csv': {\n",
    "        'Project': 'NEX',\n",
    "        'Method': 'clip',\n",
    "        'ID': ['Site', 'Disturbance', 'Exclosure']\n",
    "        'Date': 'Date_cln',\n",
    "        'bm_gm2': 'Total Weight (g/m^2)',\n",
    "        'gps_E': \n",
    "    }\n",
    "}"
   ]
  },
  {
   "cell_type": "code",
   "execution_count": 8,
   "id": "3561d7b9-c824-4f08-86b0-8d6f6d352299",
   "metadata": {},
   "outputs": [],
   "source": [
    "clipLIST = glob('../data/clip/*.csv')"
   ]
  },
  {
   "cell_type": "code",
   "execution_count": 9,
   "id": "1881e746-dc25-4840-8289-8c839eae33e1",
   "metadata": {},
   "outputs": [
    {
     "data": {
      "text/plain": [
       "['../data/clip/TB_fire_clip.csv',\n",
       " '../data/clip/TB_nex_clip.csv',\n",
       " '../data/clip/TB_pdog_clip.csv',\n",
       " '../data/clip/TB_wtgn_clip.csv']"
      ]
     },
     "execution_count": 9,
     "metadata": {},
     "output_type": "execute_result"
    }
   ],
   "source": [
    "clipLIST"
   ]
  },
  {
   "cell_type": "code",
   "execution_count": 20,
   "id": "49790f41-dcaa-43f6-a2e8-e9865ff06cfa",
   "metadata": {},
   "outputs": [],
   "source": [
    "test = pd.read_csv(clipLIST[1])"
   ]
  },
  {
   "cell_type": "code",
   "execution_count": 26,
   "id": "1fd591cf-ba02-45aa-b4a6-9a7c35d7811a",
   "metadata": {},
   "outputs": [
    {
     "data": {
      "text/plain": [
       "Disturbance  Site        Exclosure     Date_cln  \n",
       "control      lake creek  livestock ex  2015-07-27    [2.0]\n",
       "                                       2016-08-02    [2.0]\n",
       "                                       2017-07-25    [2.0]\n",
       "                                       2018-06-07    [2.0]\n",
       "                                       2018-07-03    [2.0]\n",
       "                                                     ...  \n",
       "prairie dog  wildcat     ungulate ex   2019-07-03    [2.0]\n",
       "                                       2019-08-05    [2.0]\n",
       "                                       2020-07-13    [2.0]\n",
       "                                       2020-08-06    [1.0]\n",
       "                                       2021-07-12    [2.0]\n",
       "Name: Rep, Length: 385, dtype: object"
      ]
     },
     "execution_count": 26,
     "metadata": {},
     "output_type": "execute_result"
    }
   ],
   "source": [
    "test.groupby(['Disturbance', 'Site', 'Exclosure', 'Date_cln']).Rep.unique()#.columns"
   ]
  },
  {
   "cell_type": "code",
   "execution_count": 31,
   "id": "e88c73ac-42fa-4794-b326-f41e37314bb1",
   "metadata": {},
   "outputs": [
    {
     "data": {
      "text/plain": [
       "Index(['Site', 'Disturbance', 'Exclosure', 'Date_cln', 'Year', 'Rep',\n",
       "       'Area (m^2)', '% sd ARTR', '% ARCA', '% ATCA', '# OPPO cladodes',\n",
       "       '# COVI', '% OPPO', 'Total Weight (g)', 'Total Weight (g/m^2)',\n",
       "       'C4 weight (g)', 'C3 weight (g)', 'Bromes weight (g)',\n",
       "       'Forbs weight (g)', 'Ann Forb weight (g)', 'Per Forb weight (g)',\n",
       "       'VUOC weight (g)', 'Subshrub weight (g)', 'Standing Dead weight (g)',\n",
       "       'Check'],\n",
       "      dtype='object')"
      ]
     },
     "execution_count": 31,
     "metadata": {},
     "output_type": "execute_result"
    }
   ],
   "source": [
    "test.columns"
   ]
  },
  {
   "cell_type": "code",
   "execution_count": null,
   "id": "fa856cd9-8ad2-4fb6-af89-84c4921f3ebc",
   "metadata": {},
   "outputs": [],
   "source": []
  }
 ],
 "metadata": {
  "kernelspec": {
   "display_name": "Python 3 (ipykernel)",
   "language": "python",
   "name": "python3"
  },
  "language_info": {
   "codemirror_mode": {
    "name": "ipython",
    "version": 3
   },
   "file_extension": ".py",
   "mimetype": "text/x-python",
   "name": "python",
   "nbconvert_exporter": "python",
   "pygments_lexer": "ipython3",
   "version": "3.9.12"
  }
 },
 "nbformat": 4,
 "nbformat_minor": 5
}
