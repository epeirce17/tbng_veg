{
 "cells": [
  {
   "cell_type": "code",
   "execution_count": 25,
   "id": "37a34084-7125-41c0-952f-df177b6ac6b7",
   "metadata": {},
   "outputs": [],
   "source": [
    "import os\n",
    "import pandas as pd\n",
    "from glob import glob\n",
    "import pickle"
   ]
  },
  {
   "cell_type": "code",
   "execution_count": 64,
   "id": "f81a49fb-039e-44df-8fdd-de66d9430d80",
   "metadata": {},
   "outputs": [],
   "source": [
    "proj_dict = {\n",
    "    'clip': {\n",
    "        'TB_fire_clip.csv': {\n",
    "            'Project': 'FIRE',\n",
    "            'ID': 'Transect ID',\n",
    "            'Date': 'Date',\n",
    "            'gps_E': 'Mean.GPS_E.Biomass',\n",
    "            'gps_N': 'Mean.GPS_N.Biomass',\n",
    "            'bm_gm2': 'Total_Weight_(g/m^2)'\n",
    "        },\n",
    "        'TB_nex_clip.csv': {\n",
    "            'Project': 'NEX',\n",
    "            'ID': 'Transect ID',\n",
    "            'Date': 'Date_cln',\n",
    "            'gps_E': 'Mean.GPS_E.Biomass',\n",
    "            'gps_N': 'Mean.GPS_N.Biomass',\n",
    "            'bm_gm2': 'Total Weight (g/m^2)'\n",
    "        },\n",
    "        'TB_pdog_clip.csv': {\n",
    "            'Project': 'PDOG',\n",
    "            'ID': 'Point',\n",
    "            'Date': 'Date',\n",
    "            'gps_E': 'Mean.GPS_E.Biomass',\n",
    "            'gps_N': 'Mean.GPS_N.Biomass',\n",
    "            'bm_gm2': 'Total_Weight_(g/m^2)'\n",
    "        },\n",
    "        'TB_wtgn_clip.csv': {\n",
    "            'Project': 'WTGN',\n",
    "            'ID': 'Join_ID',\n",
    "            'Date': 'Date',\n",
    "            'gps_E': 'Mean.GPS_E.Biomass',\n",
    "            'gps_N': 'Mean.GPS_N.Biomass',\n",
    "            'bm_gm2': 'Total Weight (g/m^2)',\n",
    "        }},\n",
    "    'vor': {\n",
    "        'TB_duch_vor.csv': {\n",
    "            'Project': 'BIRD',\n",
    "            'ID': 'Point',\n",
    "            'Date': 'Veg_date',\n",
    "            'gps_E': 'Easting',\n",
    "            'gps_N': 'Northing'\n",
    "        },\n",
    "        'TB_nex_vor.csv': {\n",
    "            'Project': 'NEX',\n",
    "            'ID': 'Transect ID',\n",
    "            'Date': 'Date',\n",
    "            'gps_E': 'Mean.GPS_E.Biomass',\n",
    "            'gps_N': 'Mean.GPS_N.Biomass'\n",
    "        },\n",
    "        'TB_wtgn_vor.csv': {\n",
    "            'Project': 'WTGN',\n",
    "            'ID': 'Join_ID',\n",
    "            'Date': 'Date',\n",
    "            'gps_E': 'Mean.GPS_E.Biomass',\n",
    "            'gps_N': 'Mean.GPS_N.Biomass'\n",
    "        }\n",
    "    }\n",
    "    \n",
    "}"
   ]
  },
  {
   "cell_type": "code",
   "execution_count": 14,
   "id": "3561d7b9-c824-4f08-86b0-8d6f6d352299",
   "metadata": {},
   "outputs": [],
   "source": [
    "clipLIST = glob('../data/clip/*.csv')\n",
    "vorLIST = glob('../data/vor/*.csv')\n",
    "with open('../models/vor_linreg_both.pk', 'rb') as f:\n",
    "    vor_to_bm = pickle.load(f)"
   ]
  },
  {
   "cell_type": "code",
   "execution_count": 89,
   "id": "1881e746-dc25-4840-8289-8c839eae33e1",
   "metadata": {},
   "outputs": [
    {
     "name": "stdout",
     "output_type": "stream",
     "text": [
      "clip\n",
      "TB_fire_clip.csv\n",
      "TB_nex_clip.csv\n",
      "TB_pdog_clip.csv\n",
      "TB_wtgn_clip.csv\n",
      "vor\n",
      "TB_duch_vor.csv\n",
      "TB_nex_vor.csv\n",
      "TB_wtgn_vor.csv\n"
     ]
    },
    {
     "name": "stderr",
     "output_type": "stream",
     "text": [
      "C:\\Users\\sean.kearney\\.conda\\envs\\tbng_veg_env\\lib\\site-packages\\pandas\\core\\indexing.py:1667: SettingWithCopyWarning: \n",
      "A value is trying to be set on a copy of a slice from a DataFrame.\n",
      "Try using .loc[row_indexer,col_indexer] = value instead\n",
      "\n",
      "See the caveats in the documentation: https://pandas.pydata.org/pandas-docs/stable/user_guide/indexing.html#returning-a-view-versus-a-copy\n",
      "  self.obj[key] = value\n"
     ]
    }
   ],
   "source": [
    "df_bm = None\n",
    "for m in proj_dict:\n",
    "    print(m)\n",
    "    for f in proj_dict[m]:\n",
    "        print(f)\n",
    "        df_tmp = pd.read_csv(os.path.join('../data', m, f))\n",
    "        df_out_tmp = df_tmp[[proj_dict[m][f]['ID'],\n",
    "                             proj_dict[m][f]['Date'],\n",
    "                             proj_dict[m][f]['gps_E'],\n",
    "                             proj_dict[m][f]['gps_N']]]\n",
    "        df_out_tmp.columns = ['ID', 'Date', 'gps_E', 'gps_N']\n",
    "        if m == 'vor':\n",
    "            df_out_tmp.loc[:, 'bm_gm2'] = vor_to_bm.predict(df_tmp)\n",
    "        else:\n",
    "            df_out_tmp.loc[:, 'bm_gm2'] =  df_tmp[proj_dict[m][f]['bm_gm2']]\n",
    "        df_out_tmp.loc[:, 'Project'] = proj_dict[m][f]['Project']\n",
    "        df_out_tmp.loc[:, 'Method'] = m\n",
    "        if df_bm is None:\n",
    "            df_bm = df_out_tmp\n",
    "        else:\n",
    "            df_bm = df_bm.append(df_out_tmp)"
   ]
  },
  {
   "cell_type": "code",
   "execution_count": 92,
   "id": "cdbddaf3-1c84-45c9-b954-1c80c6572e29",
   "metadata": {},
   "outputs": [],
   "source": [
    "# drop remaining duplicates for now\n",
    "df_bm = df_bm.drop_duplicates(subset=['ID', 'Date', 'Project', 'Method'], keep='first')"
   ]
  },
  {
   "cell_type": "code",
   "execution_count": 105,
   "id": "8fdd3193-663e-4d29-8b8e-bae90c0f518e",
   "metadata": {},
   "outputs": [],
   "source": [
    "# compare VOR vs. Clip when both are available\n",
    "df_bm_comp = df_bm[df_bm.duplicated(subset=['ID', 'Date', 'Project', 'gps_E', 'gps_N'],\n",
    "                                    keep=False)].pivot(index=['ID', 'Date', 'Project'], \n",
    "                                                       columns='Method',\n",
    "                                                       values='bm_gm2').reset_index()"
   ]
  },
  {
   "cell_type": "code",
   "execution_count": 113,
   "id": "6cdebbb0-3514-43b9-b586-2ebd518677d5",
   "metadata": {},
   "outputs": [
    {
     "data": {
      "text/html": [
       "<div>\n",
       "<style scoped>\n",
       "    .dataframe tbody tr th:only-of-type {\n",
       "        vertical-align: middle;\n",
       "    }\n",
       "\n",
       "    .dataframe tbody tr th {\n",
       "        vertical-align: top;\n",
       "    }\n",
       "\n",
       "    .dataframe thead th {\n",
       "        text-align: right;\n",
       "    }\n",
       "</style>\n",
       "<table border=\"1\" class=\"dataframe\">\n",
       "  <thead>\n",
       "    <tr style=\"text-align: right;\">\n",
       "      <th>Method</th>\n",
       "      <th>clip</th>\n",
       "      <th>vor</th>\n",
       "    </tr>\n",
       "    <tr>\n",
       "      <th>Method</th>\n",
       "      <th></th>\n",
       "      <th></th>\n",
       "    </tr>\n",
       "  </thead>\n",
       "  <tbody>\n",
       "    <tr>\n",
       "      <th>clip</th>\n",
       "      <td>1.000000</td>\n",
       "      <td>0.764568</td>\n",
       "    </tr>\n",
       "    <tr>\n",
       "      <th>vor</th>\n",
       "      <td>0.764568</td>\n",
       "      <td>1.000000</td>\n",
       "    </tr>\n",
       "  </tbody>\n",
       "</table>\n",
       "</div>"
      ],
      "text/plain": [
       "Method      clip       vor\n",
       "Method                    \n",
       "clip    1.000000  0.764568\n",
       "vor     0.764568  1.000000"
      ]
     },
     "execution_count": 113,
     "metadata": {},
     "output_type": "execute_result"
    },
    {
     "data": {
      "image/png": "[encoded data removed]",
      "text/plain": [
       "<Figure size 427.125x360 with 1 Axes>"
      ]
     },
     "metadata": {
      "needs_background": "light"
     },
     "output_type": "display_data"
    }
   ],
   "source": [
    "import seaborn as sns\n",
    "import matplotlib.pyplot as plt\n",
    "sns.lmplot(x='clip', y='vor', hue='Project', data=df_bm_comp)\n",
    "plt.plot([0, 600], [0, 600], linewidth=2, c='black', linestyle='dotted')\n",
    "df_bm_comp[['clip', 'vor']].corr()"
   ]
  },
  {
   "cell_type": "code",
   "execution_count": 116,
   "id": "49790f41-dcaa-43f6-a2e8-e9865ff06cfa",
   "metadata": {},
   "outputs": [],
   "source": [
    "df_bm = df_bm.groupby(['ID', 'Date', 'Project', 'gps_E', 'gps_N']).mean().reset_index()"
   ]
  },
  {
   "cell_type": "code",
   "execution_count": 117,
   "id": "76fde673-172c-4a32-b01e-60fa89ed3a13",
   "metadata": {},
   "outputs": [],
   "source": [
    "df_bm.to_csv('../data/bm_extract/TB_all_bm.csv', index=False)"
   ]
  },
  {
   "cell_type": "code",
   "execution_count": null,
   "id": "64307bac-de40-4e2d-a3e7-3d6ed86ca80f",
   "metadata": {},
   "outputs": [],
   "source": []
  }
 ],
 "metadata": {
  "kernelspec": {
   "display_name": "Python 3 (ipykernel)",
   "language": "python",
   "name": "python3"
  },
  "language_info": {
   "codemirror_mode": {
    "name": "ipython",
    "version": 3
   },
   "file_extension": ".py",
   "mimetype": "text/x-python",
   "name": "python",
   "nbconvert_exporter": "python",
   "pygments_lexer": "ipython3",
   "version": "3.9.7"
  }
 },
 "nbformat": 4,
 "nbformat_minor": 5
}
