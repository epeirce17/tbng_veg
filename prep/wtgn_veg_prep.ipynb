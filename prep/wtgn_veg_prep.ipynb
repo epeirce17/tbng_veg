{
 "cells": [
  {
   "cell_type": "code",
   "execution_count": 1,
   "id": "7a73a3b9-cc2c-4030-994e-787012baefbc",
   "metadata": {},
   "outputs": [],
   "source": [
    "import pandas as pd\n",
    "import os\n",
    "import re\n",
    "import numpy as np\n",
    "import datetime\n",
    "import seaborn as sns\n",
    "import matplotlib.pyplot as plt\n",
    "import geopandas as gpd"
   ]
  },
  {
   "cell_type": "markdown",
   "id": "ad41938d-edbf-4bbc-ad71-17f016a33167",
   "metadata": {},
   "source": [
    "# Create initial datasets"
   ]
  },
  {
   "cell_type": "markdown",
   "id": "20cbec71-bc3a-4038-80b9-a1fb75a4bff5",
   "metadata": {
    "tags": []
   },
   "source": [
    "### Setup input/output"
   ]
  },
  {
   "cell_type": "code",
   "execution_count": 2,
   "id": "684efaf3-056e-4da6-9eb1-83f8f7d73176",
   "metadata": {},
   "outputs": [],
   "source": [
    "# set base directory\n",
    "#baseDIR = '/mnt/d'\n",
    "baseDIR = 'T:/'\n",
    "\n",
    "# set input directory\n",
    "#inDIR = 'TBNG/data/'\n",
    "inDIR = \"2-Projects/Thunder Basin/Weight Gains Project/DATA/Vegetation DATA/\"\n",
    "\n",
    "# set input file\n",
    "vorXLSX = 'VOR/weight gains VORmetadata7March2022_ep.xlsx'\n",
    "bmXLSX = 'biomass and FQ/wt gains biomass and FQ 7March2022_ep.xlsx'\n",
    "\n",
    "# set working directory to project directory\n",
    "os.chdir(os.path.dirname(os.getcwd()))\n",
    "\n",
    "# set directory of shapefile with location data\n",
    "inSHP = 'data/shps/TB_wGain_sampling_2021_fixed_20220607.shp'\n",
    "\n",
    "# set output directories\n",
    "outDIR_clip = 'data/clip'\n",
    "outDIR_vor = 'data/vor'\n",
    "outDIR_vor_train = 'data/vor_train'\n",
    "if not os.path.exists(os.path.join(os.getcwd(), outDIR_clip)):\n",
    "    os.mkdir(os.path.join(os.getcwd(), outDIR_clip))\n",
    "if not os.path.exists(os.path.join(os.getcwd(), outDIR_vor)):\n",
    "    os.mkdir(os.path.join(os.getcwd(), outDIR_vor))\n",
    "if not os.path.exists(os.path.join(os.getcwd(), outDIR_vor_train)):\n",
    "    os.mkdir(os.path.join(os.getcwd(), outDIR_vor_train))"
   ]
  },
  {
   "cell_type": "markdown",
   "id": "7847607e-6634-425e-8392-1ce9c88d45e5",
   "metadata": {},
   "source": [
    "### Load data"
   ]
  },
  {
   "cell_type": "code",
   "execution_count": 3,
   "id": "bf72a2ae-59cc-4c2a-879e-2b39b2caefef",
   "metadata": {},
   "outputs": [
    {
     "data": {
      "text/plain": [
       "['Sheet1']"
      ]
     },
     "metadata": {},
     "output_type": "display_data"
    }
   ],
   "source": [
    "# create an Excel file object for investigating contents\n",
    "vor_xlsx = pd.ExcelFile(os.path.join(baseDIR, inDIR, vorXLSX))\n",
    "# display the sheet names in the .xlsx file\n",
    "display(vor_xlsx.sheet_names)"
   ]
  },
  {
   "cell_type": "code",
   "execution_count": 4,
   "id": "d693ccb1-cd08-46a2-8be8-992696601ad9",
   "metadata": {},
   "outputs": [
    {
     "data": {
      "text/plain": [
       "['Summary by Pasture', 'Raw Data']"
      ]
     },
     "metadata": {},
     "output_type": "display_data"
    }
   ],
   "source": [
    "# create an Excel file object for investigating contents\n",
    "bm_xlsx = pd.ExcelFile(os.path.join(baseDIR, inDIR, bmXLSX))\n",
    "# display the sheet names in the .xlsx file\n",
    "display(bm_xlsx.sheet_names)"
   ]
  },
  {
   "cell_type": "code",
   "execution_count": 5,
   "id": "8cb5173d-323a-4a8b-bb30-3091e07706ab",
   "metadata": {},
   "outputs": [],
   "source": [
    "# Create the desired dataframes by parsing the individual sheets\n",
    "df_wtgn_bm = bm_xlsx.parse(sheet_name='Raw Data', header=0)\n",
    "df_wtgn_vor = vor_xlsx.parse(sheet_name='Sheet1', header=0)"
   ]
  },
  {
   "cell_type": "code",
   "execution_count": 6,
   "id": "82aa8182-9061-497b-8774-e82bf9fef6dd",
   "metadata": {},
   "outputs": [],
   "source": [
    "gdf_wtgn = gpd.read_file(inSHP)"
   ]
  },
  {
   "cell_type": "markdown",
   "id": "0633a129-e9bc-45a5-9181-18f5e98f8288",
   "metadata": {},
   "source": [
    "# Biomass dataset"
   ]
  },
  {
   "cell_type": "markdown",
   "id": "910225a1-bf3f-485b-bfcd-6855f0f261e3",
   "metadata": {},
   "source": [
    "#### Clean up dates"
   ]
  },
  {
   "cell_type": "code",
   "execution_count": 7,
   "id": "0b9e7df9-9551-4f79-a25b-8a30220948ca",
   "metadata": {},
   "outputs": [],
   "source": [
    "df_wtgn_bm['Date'] = pd.to_datetime(df_wtgn_bm['Date'])"
   ]
  },
  {
   "cell_type": "markdown",
   "id": "7e1c8bdc-9b7a-4f75-b174-6d7356de0297",
   "metadata": {},
   "source": [
    "### Prep biomass values for joining"
   ]
  },
  {
   "cell_type": "code",
   "execution_count": 8,
   "id": "bf4b9316-8d29-4830-a5e5-f82895f3e44b",
   "metadata": {},
   "outputs": [],
   "source": [
    "# drop data with missing plot info\n",
    "df_wtgn_bm = df_wtgn_bm[df_wtgn_bm['Plot'] != 'na']\n",
    "# convert plot values to integer to match VOR\n",
    "df_wtgn_bm.loc[:,'Plot'] = df_wtgn_bm['Plot'].astype(int) "
   ]
  },
  {
   "cell_type": "code",
   "execution_count": 9,
   "id": "8d6f0b20-d30f-492d-8f4d-209cd611a8d5",
   "metadata": {},
   "outputs": [],
   "source": [
    "# drop any missing data\n",
    "df_wtgn_bm = df_wtgn_bm[df_wtgn_bm['Total g/m^2'].notnull()]\n",
    "# rename weight column to match other datasets\n",
    "df_wtgn_bm = df_wtgn_bm.rename(columns={'Total g/m^2': 'Total Weight (g/m^2)'})\n",
    "# rename pastures where necessary\n",
    "bm_past_dict = {\n",
    "    'Mid Weiss G': 'Mid Weiss Pasture G'\n",
    "}\n",
    "df_wtgn_bm.loc[:, 'Pasture'] = df_wtgn_bm['Pasture'].apply(lambda x: bm_past_dict[x] if x in bm_past_dict else x)"
   ]
  },
  {
   "cell_type": "markdown",
   "id": "afab8773-f63e-4d9b-b06a-1190592ea9bb",
   "metadata": {},
   "source": [
    "### Visualize data to check that it makes sense"
   ]
  },
  {
   "cell_type": "code",
   "execution_count": 10,
   "id": "54524b9e-6f40-4527-baba-366275d23246",
   "metadata": {},
   "outputs": [
    {
     "data": {
      "text/plain": [
       "<seaborn.axisgrid.FacetGrid at 0x1eef455fd30>"
      ]
     },
     "execution_count": 10,
     "metadata": {},
     "output_type": "execute_result"
    },
    {
     "data": {
      "image/png": "[encoded data removed]",
      "text/plain": [
       "<Figure size 421.5x360 with 1 Axes>"
      ]
     },
     "metadata": {
      "needs_background": "light"
     },
     "output_type": "display_data"
    }
   ],
   "source": [
    "# plot pin-frame calibration data\n",
    "sns.relplot(x='Date', y='Total Weight (g/m^2)', hue='Year',\n",
    "            data=df_wtgn_bm, kind='line', marker=\"o\")"
   ]
  },
  {
   "cell_type": "markdown",
   "id": "5a350e68-a79f-474e-bf91-0c99e54e05de",
   "metadata": {},
   "source": [
    "### Add in GPS locations from shapefile"
   ]
  },
  {
   "cell_type": "code",
   "execution_count": 11,
   "id": "3beeb718-5021-468b-8d50-f7f2b5b99bd5",
   "metadata": {},
   "outputs": [],
   "source": [
    "# update prairie dog colony column\n",
    "df_wtgn_bm = df_wtgn_bm.rename(columns={'PD Colony?': 'PD'})\n",
    "df_wtgn_bm.loc[:, 'PD'] = df_wtgn_bm['Pasture'].transform(lambda x: 'Yes' if '-PD' in x else 'No')"
   ]
  },
  {
   "cell_type": "code",
   "execution_count": 12,
   "id": "065ffdcc-30b8-42db-9c82-fd96e82f6cc7",
   "metadata": {},
   "outputs": [],
   "source": [
    "past_name_dict = {\n",
    "    'Mid Weiss Pasture G': 'East Weiss',\n",
    "    'North Owens -PD': 'North Owens', \n",
    "    'North Owens - No PD': 'North Owens',\n",
    "    'Mid Weiss Pasture K': 'East Weiss',\n",
    "    'East NE Weiss': 'East Weiss', \n",
    "    'Cameron  Place': 'Cameron Place',\n",
    "    'North School Section H': 'East Weiss',\n",
    "    'East Weiss K': 'East Weiss', \n",
    "    'SW Section 4': 'Section 4',\n",
    "    'W Weiss E': 'West Weiss',\n",
    "    'Section 4': 'Section 4', \n",
    "    'W Weiss C': 'West Weiss'\n",
    "}\n",
    "\n",
    "# create unique id's of pasture+plot+PD that match for shape and clip data.\n",
    "df_wtgn_bm.loc[:, 'Pasture_shp'] = df_wtgn_bm['Pasture'].transform(\n",
    "    lambda x: past_name_dict[x] if x in past_name_dict.keys() else x)\n",
    "df_wtgn_bm.loc[:, 'Pasture_shp'] = df_wtgn_bm['Pasture_shp'].transform(\n",
    "    lambda x: re.sub(' ', '_', x))\n",
    "df_wtgn_bm.loc[:, 'Join_ID'] = df_wtgn_bm.apply(lambda x: '_'.join([x['Pasture_shp'], \n",
    "                                    'Pt' + str(x['Plot']),\n",
    "                                    x['PD']]),\n",
    "                 axis=1)#.Pasture.unique()"
   ]
  },
  {
   "cell_type": "code",
   "execution_count": 13,
   "id": "84c2e676-4c6d-43c5-8dca-1ab6bcef1341",
   "metadata": {},
   "outputs": [],
   "source": [
    "gdf_wtgn.loc[gdf_wtgn['pdog'].isnull(), 'pdog'] = 'No'"
   ]
  },
  {
   "cell_type": "code",
   "execution_count": 14,
   "id": "c203653e-1158-4e35-b24c-88ef20c51cdc",
   "metadata": {},
   "outputs": [],
   "source": [
    "gdf_wtgn.loc[:, 'Join_ID'] = gdf_wtgn.apply(lambda x: '_'.join([x['Plot_ID'], x['pdog']]), axis=1)"
   ]
  },
  {
   "cell_type": "code",
   "execution_count": 15,
   "id": "67927d81-3438-49c7-9058-cbffe47704e0",
   "metadata": {},
   "outputs": [],
   "source": [
    "gdf_wtgn['Mean.GPS_E.Biomass'] = gdf_wtgn.geometry.centroid.x\n",
    "gdf_wtgn['Mean.GPS_N.Biomass'] = gdf_wtgn.geometry.centroid.y"
   ]
  },
  {
   "cell_type": "code",
   "execution_count": 16,
   "id": "d6dce4f3-2df4-4c1c-9022-7f47f817abd6",
   "metadata": {},
   "outputs": [
    {
     "data": {
      "text/plain": [
       "array(['Mid Weiss Pasture G', 'Center Owens', 'Section 8',\n",
       "       'North Owens -PD', 'North Owens - No PD', 'Top',\n",
       "       'Mid Weiss Pasture K', 'East NE Weiss', 'Cameron  Place',\n",
       "       'North School Section H', 'East Weiss K', 'SW Section 4',\n",
       "       'W Weiss E', 'Section 4', 'W Weiss C'], dtype=object)"
      ]
     },
     "execution_count": 16,
     "metadata": {},
     "output_type": "execute_result"
    }
   ],
   "source": [
    "df_wtgn_bm.Pasture.unique()"
   ]
  },
  {
   "cell_type": "code",
   "execution_count": 17,
   "id": "5835fb10-4af6-45c7-9160-fcc8f624f637",
   "metadata": {},
   "outputs": [],
   "source": [
    "df_wtgn_bm = pd.merge(df_wtgn_bm,\n",
    "                      gdf_wtgn[['Join_ID', 'Mean.GPS_E.Biomass', 'Mean.GPS_N.Biomass']],\n",
    "                      on= 'Join_ID',\n",
    "                      suffixes=['_clip', '_shp'],\n",
    "                      how='left')"
   ]
  },
  {
   "cell_type": "code",
   "execution_count": 18,
   "id": "ae94f9a4-221b-45fe-856d-b4a77fbd7421",
   "metadata": {},
   "outputs": [],
   "source": [
    "df_wtgn_bm.to_csv(os.path.join(os.getcwd(), outDIR_clip, 'TB_wtgn_clip.csv'), index=False)"
   ]
  },
  {
   "cell_type": "markdown",
   "id": "f074758d-45a7-4084-979f-6c2b0fa37cfa",
   "metadata": {
    "tags": []
   },
   "source": [
    "# VOR"
   ]
  },
  {
   "cell_type": "markdown",
   "id": "052dd094-da51-47ad-88ca-79c4ab87c6e6",
   "metadata": {},
   "source": [
    "### *Additional cleaning*"
   ]
  },
  {
   "cell_type": "code",
   "execution_count": 11,
   "id": "b7d7d2ad-44de-4b07-816c-71886d14995c",
   "metadata": {},
   "outputs": [],
   "source": [
    "# drop data with missing dates\n",
    "df_wtgn_vor = df_wtgn_vor[~df_wtgn_vor['date'].isin(['nan', 'na', np.nan])]\n",
    "# drop data with note about plot center\n",
    "df_wtgn_vor = df_wtgn_vor[~(df_wtgn_vor['notes'].notnull() &\n",
    "                           df_wtgn_vor['notes'].str.contains('2.5m across center of plot'))]"
   ]
  },
  {
   "cell_type": "code",
   "execution_count": 12,
   "id": "d4d99d0c-93d0-466a-8743-f097184f87c4",
   "metadata": {},
   "outputs": [],
   "source": [
    "# convert date column to datetime object\n",
    "df_wtgn_vor.loc[:, 'date'] = pd.to_datetime(df_wtgn_vor['date'])\n",
    "\n",
    "# get subset of 2019 data to drop based solely on sample date\n",
    "df_wtgn_vor_2019_bad = df_wtgn_vor[df_wtgn_vor['date'] <= datetime.datetime(2019, 6, 24)]"
   ]
  },
  {
   "cell_type": "code",
   "execution_count": 13,
   "id": "7641d9fb-f7ca-4083-8b06-4565ae3d0751",
   "metadata": {},
   "outputs": [],
   "source": [
    "\"\"\"drop all data collected prior to 06/24/2019 and \n",
    "plots resampled in 2019 that were first sampled prior\"\"\"\n",
    "# get unique pasture/plot/position combos that were sampled prior to 2019 cut-off date\n",
    "vor_bad_ids = df_wtgn_vor_2019_bad.apply(lambda x: '_'.join([x['pasture'],\n",
    "                                                             str(x['plot']),\n",
    "                                                             x['VOR position'],\n",
    "                                                             str(x['date'].year)]), axis=1)\n",
    "\n",
    "# remove all matching id's from dataset\n",
    "df_wtgn_vor = df_wtgn_vor[~df_wtgn_vor.apply(lambda x: '_'.join([x['pasture'],\n",
    "                                      str(x['plot']),\n",
    "                                      x['VOR position'],\n",
    "                                      str(x['date'].year)]), axis=1).isin(vor_bad_ids)]"
   ]
  },
  {
   "cell_type": "code",
   "execution_count": 14,
   "id": "f5a4e205-23b4-40fc-b049-2da15aa11feb",
   "metadata": {},
   "outputs": [],
   "source": [
    "# convert all VOR readings > 90 cm to 90 cm and store as integers\n",
    "df_wtgn_vor.loc[df_wtgn_vor['VOR'] == '>90', 'VOR'] = 90\n",
    "df_wtgn_vor['VOR'] = df_wtgn_vor['VOR'].astype(int)\n",
    "\n",
    "# create list of species to drop from VOR data\n",
    "vor_spp_drop_list = ['ATCA', 'atca', 'OPPO', 'oppo', 'ARTR', 'artr', 'SD ARTR', 'ARCA', 'arca', 'SD ATCA']\n",
    "\n",
    "# drop VOR readings in species list\n",
    "df_wtgn_vor_spp_bad = df_wtgn_vor[df_wtgn_vor['species'].isin(vor_spp_drop_list)]\n",
    "\n",
    "# get unique pasture/plot/position combos that were sampled prior to 2019 cut-off date\n",
    "vor_bad_ids2 = df_wtgn_vor_spp_bad.apply(lambda x: '_'.join([x['pasture'],\n",
    "                                                             str(x['plot']),\n",
    "                                                             x['VOR position'],\n",
    "                                                             str(x['date'])]), axis=1)\n",
    "\n",
    "# remove all matching id's from dataset\n",
    "df_wtgn_vor = df_wtgn_vor[~df_wtgn_vor.apply(lambda x: '_'.join([x['pasture'],\n",
    "                                      str(x['plot']),\n",
    "                                      x['VOR position'],\n",
    "                                      str(x['date'])]), axis=1).isin(vor_bad_ids2)]"
   ]
  },
  {
   "cell_type": "code",
   "execution_count": 15,
   "id": "9ca40bde-5ad1-48ed-8b2f-64dbc6020588",
   "metadata": {},
   "outputs": [],
   "source": [
    "# remove all VOR values of -1\n",
    "df_wtgn_vor = df_wtgn_vor[~df_wtgn_vor['VOR'] < 0]"
   ]
  },
  {
   "cell_type": "code",
   "execution_count": 16,
   "id": "0c75bb13-7b8a-4270-94c3-b32aedffe6f9",
   "metadata": {},
   "outputs": [
    {
     "data": {
      "text/plain": [
       "array([nan, 'BARE', 'BRAR', 'BARE/MOSS', 'BOGR', 'PASM', 'ARPU', 'CADU',\n",
       "       'SCPA', 'SPCO', 'BRTE', 'VUOC', 'POSE', 'MAGR', 'ASSP', 'HYFI',\n",
       "       'LECI', 'CAFI', 'HECO', 'ERPA', 'AGCR', 'KOMA', 'TEAC', 'PLPA'],\n",
       "      dtype=object)"
      ]
     },
     "execution_count": 16,
     "metadata": {},
     "output_type": "execute_result"
    }
   ],
   "source": [
    "# check species of any 0 value readings\n",
    "df_wtgn_vor[df_wtgn_vor['VOR'].astype(int) < 1]['species'].unique()"
   ]
  },
  {
   "cell_type": "code",
   "execution_count": 17,
   "id": "9b7c8ee4-a3f6-4b81-a571-17c78ff962f4",
   "metadata": {},
   "outputs": [],
   "source": [
    "# add 1 to all VOR readings that have a non-bare species value\n",
    "df_wtgn_vor.loc[:, 'VOR'] = df_wtgn_vor.apply(\n",
    "    lambda x: x['VOR'] if x['species'] in ['BARE', \n",
    "                                           'BARE/MOSS'] else x['VOR'] + 1, axis=1)"
   ]
  },
  {
   "cell_type": "markdown",
   "id": "0e0eba59-05ce-4f8f-8fc8-e1e3e5d94161",
   "metadata": {},
   "source": [
    "### *Additional prep*"
   ]
  },
  {
   "cell_type": "code",
   "execution_count": 18,
   "id": "5dd7b3e1-401f-4ad6-8f75-368bb59c99d3",
   "metadata": {},
   "outputs": [],
   "source": [
    "# get mean of any repeat measurements within groups\n",
    "df_wtgn_vor = df_wtgn_vor.groupby(['pasture', 'plot', 'date', \n",
    "                         'VOR position', 'reading (high/low)'])['VOR'].mean().reset_index()\n",
    "# separate low and high VOR readings to separate columns\n",
    "df_wtgn_vor = df_wtgn_vor.pivot(index=['pasture', 'plot', 'date', \n",
    "                         'VOR position'], \n",
    "                  columns='reading (high/low)', values='VOR').reset_index()\n",
    "# rename columns to match other datasets\n",
    "df_wtgn_vor = df_wtgn_vor.rename(columns={'low': 'Low_cm',\n",
    "                                          'high': 'High_cm'})\n",
    "# drop name associated with columns\n",
    "df_wtgn_vor.columns.name = None\n",
    "\n",
    "# drop VOR where low > high as suspected data entry errors\n",
    "df_wtgn_vor = df_wtgn_vor[df_wtgn_vor['Low_cm'] <= df_wtgn_vor['High_cm']]"
   ]
  },
  {
   "cell_type": "markdown",
   "id": "87c47407-a592-43aa-aa62-93254bbb8671",
   "metadata": {},
   "source": [
    "### *Combine with biomass dataset*"
   ]
  },
  {
   "cell_type": "code",
   "execution_count": 19,
   "id": "9692ff65-0b73-4765-9b3e-52b7a4bb3b66",
   "metadata": {},
   "outputs": [],
   "source": [
    "# create mapping of pasture names\n",
    "vor_past_dict = {'NE cameron place': 'Cameron  Place',\n",
    "             'SW section 4': 'SW Section 4',\n",
    "             'center owens': 'Center Owens',\n",
    "             'downey 5-6': None,\n",
    "             'east NE weiss': 'East NE Weiss', \n",
    "             'east weiss K': 'East Weiss K', \n",
    "             'hogsback': 'Hogsback',\n",
    "             'mid weiss G': 'Mid Weiss Pasture G',\n",
    "             'mid weiss K': 'Mid Weiss Pasture K', \n",
    "             'mid weiss g': 'Mid Weiss Pasture G',\n",
    "             'ne section 4': None, \n",
    "             'north owens': 'North Owens',\n",
    "             'north owens PD': 'North Owens -PD',\n",
    "             'north owens no PD': 'North Owens - No PD',\n",
    "             'north school section': 'North School Section',\n",
    "             'north school section H': 'North School Section H',\n",
    "             'nw section 4': 'NW Section 4',\n",
    "             'rattlesnake': 'Rattlesnake',\n",
    "             'section 4': 'Section 4', \n",
    "             'section 8': 'Section 8',\n",
    "             'section 9': 'Section 9', \n",
    "             'top': 'Top', \n",
    "             'upper rattlesnake': 'Upper Rattlesnake',\n",
    "             'west weiss C': 'W Weiss C',\n",
    "             'west weiss E': 'W Weiss E'\n",
    "            }\n",
    "\n",
    "# change pasture names to match clipping data\n",
    "df_wtgn_vor.loc[:, 'pasture'] = df_wtgn_vor['pasture'].apply(lambda x: vor_past_dict[x])"
   ]
  },
  {
   "cell_type": "code",
   "execution_count": 20,
   "id": "36a39bbe-ed7f-41b3-9417-26c2ab83b76c",
   "metadata": {},
   "outputs": [],
   "source": [
    "df_wtgn_vor = df_wtgn_vor.rename(columns={'pasture': 'Pasture',\n",
    "                                          'plot': 'Plot',\n",
    "                                          'date': 'Date'})\n",
    "df_wtgn_vor['Plot'] = df_wtgn_vor['Plot'].astype(int)"
   ]
  },
  {
   "cell_type": "markdown",
   "id": "c9b48183-e219-48ac-9e9d-b07481cbb310",
   "metadata": {},
   "source": [
    "### Save VOR data to disk prior to joining with clipped data"
   ]
  },
  {
   "cell_type": "code",
   "execution_count": 21,
   "id": "6dce2b2c-b141-47a3-ac1e-021ed1e2287c",
   "metadata": {},
   "outputs": [],
   "source": [
    "# get mean of each experimental unit\n",
    "df_wtgn_vor_out = df_wtgn_vor.groupby(\n",
    "    ['Date', 'Pasture', 'Plot']).mean().reset_index()\n",
    "\n",
    "# reset the year column\n",
    "df_wtgn_vor_out['Year'] = df_wtgn_vor_out['Date'].dt.year\n",
    "\n",
    "# get count of valid VOR observations and drop any <= 2 (50%)\n",
    "df_wtgn_vor_out['vor_reading_ct'] = df_wtgn_vor.groupby(\n",
    "    ['Date', 'Pasture', 'Plot']).count().reset_index()['Low_cm']\n",
    "df_wtgn_vor_out = df_wtgn_vor_out[df_wtgn_vor_out['vor_reading_ct'] > 2]\n",
    "\n",
    "# save to disk\n",
    "df_wtgn_vor_out.to_csv(os.path.join(os.getcwd(), outDIR_vor, 'TB_wtgn_vor.csv'), index=False)"
   ]
  },
  {
   "cell_type": "markdown",
   "id": "13261e71-cb62-46e3-8183-5faed520fc14",
   "metadata": {},
   "source": [
    "### Merge VOR and clipping data"
   ]
  },
  {
   "cell_type": "code",
   "execution_count": 22,
   "id": "91d68b27-3cf3-4a39-b297-39ec58b74ce8",
   "metadata": {},
   "outputs": [],
   "source": [
    "# join Biomass and VOR datasets using Biomass dates with a definted maximum threshold of date difference\n",
    "df_wtgn_vor = pd.merge_asof(df_wtgn_vor.sort_values('Date'), \n",
    "              df_wtgn_bm.sort_values('Date')[['Date',\n",
    "                                              'Pasture',\n",
    "                                              'Plot',\n",
    "                                              'Total Weight (g/m^2)',\n",
    "                                              'Mean.GPS_E.Biomass',\n",
    "                                              'Mean.GPS_N.Biomass']],\n",
    "                           left_on='Date',\n",
    "                           right_on='Date',\n",
    "                           by=['Pasture', 'Plot'],\n",
    "                           direction='nearest',\n",
    "                           tolerance=datetime.timedelta(days=10),\n",
    "                           suffixes=['_x', ''],)"
   ]
  },
  {
   "cell_type": "code",
   "execution_count": 23,
   "id": "1af5ceb5-86ab-4eed-a6c0-2321c68d0f93",
   "metadata": {},
   "outputs": [],
   "source": [
    "# drop any records missing Biomass data\n",
    "df_wtgn_vor = df_wtgn_vor[df_wtgn_vor['Total Weight (g/m^2)'].notnull()]"
   ]
  },
  {
   "cell_type": "markdown",
   "id": "ae6970ea-108e-49ce-b36e-cad9a79b7004",
   "metadata": {},
   "source": [
    "### *Create dataset of mean values by experimental unit*"
   ]
  },
  {
   "cell_type": "code",
   "execution_count": 24,
   "id": "f5de082e-e072-4b0f-b570-cd9bb8806e20",
   "metadata": {},
   "outputs": [],
   "source": [
    "# get mean of each experimental unit\n",
    "df_wtgn_vor_agg = df_wtgn_vor.groupby(\n",
    "    ['Date', 'Pasture', 'Plot']).mean().reset_index()\n",
    "\n",
    "# reset the year column\n",
    "df_wtgn_vor_agg['Year'] = df_wtgn_vor_agg['Date'].dt.year"
   ]
  },
  {
   "cell_type": "code",
   "execution_count": 25,
   "id": "c53b09ca-0e11-4d82-ba60-ef69d0729b80",
   "metadata": {},
   "outputs": [],
   "source": [
    "# get count of valid VOR observations and drop any <= 2 (50%)\n",
    "df_wtgn_vor_agg['vor_reading_ct'] = df_wtgn_vor.groupby(\n",
    "    ['Date', 'Pasture', 'Plot']).count().reset_index()['Low_cm']\n",
    "\n",
    "df_wtgn_vor_agg = df_wtgn_vor_agg[df_wtgn_vor_agg['vor_reading_ct'] > 2]"
   ]
  },
  {
   "cell_type": "markdown",
   "id": "38f227e7-abd8-4737-9e4e-0b076814c413",
   "metadata": {},
   "source": [
    "### *Check data and save to disk*"
   ]
  },
  {
   "cell_type": "code",
   "execution_count": 26,
   "id": "38da1460-6871-4c69-94d0-73bb3566ccff",
   "metadata": {},
   "outputs": [
    {
     "data": {
      "text/plain": [
       "<seaborn.axisgrid.FacetGrid at 0x1f4b0196610>"
      ]
     },
     "execution_count": 26,
     "metadata": {},
     "output_type": "execute_result"
    },
    {
     "data": {
      "image/png": "[encoded data removed]",
      "text/plain": [
       "<Figure size 421.5x360 with 1 Axes>"
      ]
     },
     "metadata": {
      "needs_background": "light"
     },
     "output_type": "display_data"
    }
   ],
   "source": [
    "# plot linear fit of low VOR reading and Biomass\n",
    "sns.lmplot(\n",
    "    #x='High_cm', \n",
    "    x='Low_cm',\n",
    "    y='Total Weight (g/m^2)',\n",
    "    hue='Year', ci=None,\n",
    "    data=df_wtgn_vor_agg)"
   ]
  },
  {
   "cell_type": "code",
   "execution_count": 27,
   "id": "63bf1804-a7f4-4a9c-812f-ad3340a57fbb",
   "metadata": {},
   "outputs": [
    {
     "data": {
      "text/html": [
       "<div>\n",
       "<style scoped>\n",
       "    .dataframe tbody tr th:only-of-type {\n",
       "        vertical-align: middle;\n",
       "    }\n",
       "\n",
       "    .dataframe tbody tr th {\n",
       "        vertical-align: top;\n",
       "    }\n",
       "\n",
       "    .dataframe thead th {\n",
       "        text-align: right;\n",
       "    }\n",
       "</style>\n",
       "<table border=\"1\" class=\"dataframe\">\n",
       "  <thead>\n",
       "    <tr style=\"text-align: right;\">\n",
       "      <th></th>\n",
       "      <th>Pasture</th>\n",
       "      <th>Plot</th>\n",
       "      <th>Date</th>\n",
       "      <th>VOR position</th>\n",
       "      <th>High_cm</th>\n",
       "      <th>Low_cm</th>\n",
       "      <th>Total Weight (g/m^2)</th>\n",
       "    </tr>\n",
       "  </thead>\n",
       "  <tbody>\n",
       "    <tr>\n",
       "      <th>160</th>\n",
       "      <td>North Owens - No PD</td>\n",
       "      <td>11</td>\n",
       "      <td>2019-07-23</td>\n",
       "      <td>east</td>\n",
       "      <td>37.0</td>\n",
       "      <td>23.0</td>\n",
       "      <td>122.34</td>\n",
       "    </tr>\n",
       "    <tr>\n",
       "      <th>183</th>\n",
       "      <td>North Owens - No PD</td>\n",
       "      <td>9</td>\n",
       "      <td>2019-07-24</td>\n",
       "      <td>south</td>\n",
       "      <td>63.0</td>\n",
       "      <td>23.0</td>\n",
       "      <td>136.88</td>\n",
       "    </tr>\n",
       "    <tr>\n",
       "      <th>184</th>\n",
       "      <td>North Owens - No PD</td>\n",
       "      <td>1</td>\n",
       "      <td>2019-07-24</td>\n",
       "      <td>south</td>\n",
       "      <td>43.0</td>\n",
       "      <td>34.0</td>\n",
       "      <td>376.64</td>\n",
       "    </tr>\n",
       "    <tr>\n",
       "      <th>196</th>\n",
       "      <td>North Owens - No PD</td>\n",
       "      <td>1</td>\n",
       "      <td>2019-07-24</td>\n",
       "      <td>east</td>\n",
       "      <td>59.0</td>\n",
       "      <td>28.0</td>\n",
       "      <td>376.64</td>\n",
       "    </tr>\n",
       "    <tr>\n",
       "      <th>233</th>\n",
       "      <td>East NE Weiss</td>\n",
       "      <td>5</td>\n",
       "      <td>2019-08-01</td>\n",
       "      <td>south</td>\n",
       "      <td>44.0</td>\n",
       "      <td>23.0</td>\n",
       "      <td>187.24</td>\n",
       "    </tr>\n",
       "    <tr>\n",
       "      <th>234</th>\n",
       "      <td>East NE Weiss</td>\n",
       "      <td>5</td>\n",
       "      <td>2019-08-01</td>\n",
       "      <td>north</td>\n",
       "      <td>40.0</td>\n",
       "      <td>21.0</td>\n",
       "      <td>187.24</td>\n",
       "    </tr>\n",
       "    <tr>\n",
       "      <th>235</th>\n",
       "      <td>East NE Weiss</td>\n",
       "      <td>5</td>\n",
       "      <td>2019-08-01</td>\n",
       "      <td>east</td>\n",
       "      <td>31.0</td>\n",
       "      <td>21.0</td>\n",
       "      <td>187.24</td>\n",
       "    </tr>\n",
       "    <tr>\n",
       "      <th>246</th>\n",
       "      <td>East NE Weiss</td>\n",
       "      <td>1</td>\n",
       "      <td>2019-08-01</td>\n",
       "      <td>north</td>\n",
       "      <td>53.0</td>\n",
       "      <td>43.0</td>\n",
       "      <td>183.44</td>\n",
       "    </tr>\n",
       "    <tr>\n",
       "      <th>248</th>\n",
       "      <td>East NE Weiss</td>\n",
       "      <td>2</td>\n",
       "      <td>2019-08-01</td>\n",
       "      <td>west</td>\n",
       "      <td>37.0</td>\n",
       "      <td>21.0</td>\n",
       "      <td>147.20</td>\n",
       "    </tr>\n",
       "    <tr>\n",
       "      <th>283</th>\n",
       "      <td>North School Section H</td>\n",
       "      <td>2</td>\n",
       "      <td>2019-08-12</td>\n",
       "      <td>south</td>\n",
       "      <td>52.0</td>\n",
       "      <td>26.0</td>\n",
       "      <td>172.62</td>\n",
       "    </tr>\n",
       "    <tr>\n",
       "      <th>502</th>\n",
       "      <td>W Weiss E</td>\n",
       "      <td>5</td>\n",
       "      <td>2020-06-02</td>\n",
       "      <td>south</td>\n",
       "      <td>48.0</td>\n",
       "      <td>21.0</td>\n",
       "      <td>65.22</td>\n",
       "    </tr>\n",
       "  </tbody>\n",
       "</table>\n",
       "</div>"
      ],
      "text/plain": [
       "                    Pasture  Plot       Date VOR position  High_cm  Low_cm  \\\n",
       "160     North Owens - No PD    11 2019-07-23         east     37.0    23.0   \n",
       "183     North Owens - No PD     9 2019-07-24        south     63.0    23.0   \n",
       "184     North Owens - No PD     1 2019-07-24        south     43.0    34.0   \n",
       "196     North Owens - No PD     1 2019-07-24         east     59.0    28.0   \n",
       "233           East NE Weiss     5 2019-08-01        south     44.0    23.0   \n",
       "234           East NE Weiss     5 2019-08-01        north     40.0    21.0   \n",
       "235           East NE Weiss     5 2019-08-01         east     31.0    21.0   \n",
       "246           East NE Weiss     1 2019-08-01        north     53.0    43.0   \n",
       "248           East NE Weiss     2 2019-08-01         west     37.0    21.0   \n",
       "283  North School Section H     2 2019-08-12        south     52.0    26.0   \n",
       "502               W Weiss E     5 2020-06-02        south     48.0    21.0   \n",
       "\n",
       "     Total Weight (g/m^2)  \n",
       "160                122.34  \n",
       "183                136.88  \n",
       "184                376.64  \n",
       "196                376.64  \n",
       "233                187.24  \n",
       "234                187.24  \n",
       "235                187.24  \n",
       "246                183.44  \n",
       "248                147.20  \n",
       "283                172.62  \n",
       "502                 65.22  "
      ]
     },
     "execution_count": 27,
     "metadata": {},
     "output_type": "execute_result"
    }
   ],
   "source": [
    "df_wtgn_vor[df_wtgn_vor['Low_cm'] > 20]"
   ]
  },
  {
   "cell_type": "code",
   "execution_count": 28,
   "id": "46fb300f-47e3-4c19-9310-b5f08ea0fbb8",
   "metadata": {},
   "outputs": [
    {
     "data": {
      "text/html": [
       "<div>\n",
       "<style scoped>\n",
       "    .dataframe tbody tr th:only-of-type {\n",
       "        vertical-align: middle;\n",
       "    }\n",
       "\n",
       "    .dataframe tbody tr th {\n",
       "        vertical-align: top;\n",
       "    }\n",
       "\n",
       "    .dataframe thead th {\n",
       "        text-align: right;\n",
       "    }\n",
       "</style>\n",
       "<table border=\"1\" class=\"dataframe\">\n",
       "  <thead>\n",
       "    <tr style=\"text-align: right;\">\n",
       "      <th></th>\n",
       "      <th>Notes</th>\n",
       "      <th>re-weighs</th>\n",
       "    </tr>\n",
       "  </thead>\n",
       "  <tbody>\n",
       "    <tr>\n",
       "      <th>132</th>\n",
       "      <td>NaN</td>\n",
       "      <td>NaN</td>\n",
       "    </tr>\n",
       "  </tbody>\n",
       "</table>\n",
       "</div>"
      ],
      "text/plain": [
       "    Notes re-weighs\n",
       "132   NaN       NaN"
      ]
     },
     "execution_count": 28,
     "metadata": {},
     "output_type": "execute_result"
    }
   ],
   "source": [
    "df_wtgn_bm[(df_wtgn_bm['Pasture'] == 'W Weiss E') &\n",
    "           (df_wtgn_bm['Plot'] == 5)][['Notes', 're-weighs']]"
   ]
  },
  {
   "cell_type": "code",
   "execution_count": 30,
   "id": "c9e69bb1-3d8f-4d2f-8750-5f44b08daf55",
   "metadata": {},
   "outputs": [],
   "source": [
    "# save final data to disk\n",
    "df_wtgn_vor_agg.to_csv(os.path.join(os.getcwd(), outDIR_vor_train, 'TB_wtgn_vor_train.csv'), index=False)"
   ]
  },
  {
   "cell_type": "code",
   "execution_count": 30,
   "id": "b1fe6873-4beb-4731-b498-7a936fc73bab",
   "metadata": {},
   "outputs": [],
   "source": [
    "import statsmodels.formula.api as smf\n",
    "mod_both = smf.ols(\"Q('Total Weight (g/m^2)') ~ High_cm + Low_cm\", data=df_wtgn_vor_agg).fit()"
   ]
  },
  {
   "cell_type": "code",
   "execution_count": 31,
   "id": "bb3740a6-0997-4fe6-83e3-a7eac45b1cb9",
   "metadata": {},
   "outputs": [
    {
     "data": {
      "text/html": [
       "<table class=\"simpletable\">\n",
       "<caption>OLS Regression Results</caption>\n",
       "<tr>\n",
       "  <th>Dep. Variable:</th>    <td>Q('Total Weight (g/m^2)')</td> <th>  R-squared:         </th> <td>   0.595</td>\n",
       "</tr>\n",
       "<tr>\n",
       "  <th>Model:</th>                       <td>OLS</td>            <th>  Adj. R-squared:    </th> <td>   0.585</td>\n",
       "</tr>\n",
       "<tr>\n",
       "  <th>Method:</th>                 <td>Least Squares</td>       <th>  F-statistic:       </th> <td>   62.31</td>\n",
       "</tr>\n",
       "<tr>\n",
       "  <th>Date:</th>                 <td>Tue, 17 May 2022</td>      <th>  Prob (F-statistic):</th> <td>2.18e-17</td>\n",
       "</tr>\n",
       "<tr>\n",
       "  <th>Time:</th>                     <td>09:23:49</td>          <th>  Log-Likelihood:    </th> <td> -455.59</td>\n",
       "</tr>\n",
       "<tr>\n",
       "  <th>No. Observations:</th>          <td>    88</td>           <th>  AIC:               </th> <td>   917.2</td>\n",
       "</tr>\n",
       "<tr>\n",
       "  <th>Df Residuals:</th>              <td>    85</td>           <th>  BIC:               </th> <td>   924.6</td>\n",
       "</tr>\n",
       "<tr>\n",
       "  <th>Df Model:</th>                  <td>     2</td>           <th>                     </th>     <td> </td>   \n",
       "</tr>\n",
       "<tr>\n",
       "  <th>Covariance Type:</th>          <td>nonrobust</td>         <th>                     </th>     <td> </td>   \n",
       "</tr>\n",
       "</table>\n",
       "<table class=\"simpletable\">\n",
       "<tr>\n",
       "      <td></td>         <th>coef</th>     <th>std err</th>      <th>t</th>      <th>P>|t|</th>  <th>[0.025</th>    <th>0.975]</th>  \n",
       "</tr>\n",
       "<tr>\n",
       "  <th>Intercept</th> <td>   10.8513</td> <td>   12.966</td> <td>    0.837</td> <td> 0.405</td> <td>  -14.929</td> <td>   36.632</td>\n",
       "</tr>\n",
       "<tr>\n",
       "  <th>High_cm</th>   <td>    1.2425</td> <td>    0.739</td> <td>    1.682</td> <td> 0.096</td> <td>   -0.226</td> <td>    2.711</td>\n",
       "</tr>\n",
       "<tr>\n",
       "  <th>Low_cm</th>    <td>    9.1407</td> <td>    1.382</td> <td>    6.612</td> <td> 0.000</td> <td>    6.392</td> <td>   11.889</td>\n",
       "</tr>\n",
       "</table>\n",
       "<table class=\"simpletable\">\n",
       "<tr>\n",
       "  <th>Omnibus:</th>       <td>13.472</td> <th>  Durbin-Watson:     </th> <td>   1.646</td>\n",
       "</tr>\n",
       "<tr>\n",
       "  <th>Prob(Omnibus):</th> <td> 0.001</td> <th>  Jarque-Bera (JB):  </th> <td>  14.808</td>\n",
       "</tr>\n",
       "<tr>\n",
       "  <th>Skew:</th>          <td> 0.854</td> <th>  Prob(JB):          </th> <td>0.000609</td>\n",
       "</tr>\n",
       "<tr>\n",
       "  <th>Kurtosis:</th>      <td> 4.059</td> <th>  Cond. No.          </th> <td>    71.7</td>\n",
       "</tr>\n",
       "</table><br/><br/>Notes:<br/>[1] Standard Errors assume that the covariance matrix of the errors is correctly specified."
      ],
      "text/plain": [
       "<class 'statsmodels.iolib.summary.Summary'>\n",
       "\"\"\"\n",
       "                                OLS Regression Results                               \n",
       "=====================================================================================\n",
       "Dep. Variable:     Q('Total Weight (g/m^2)')   R-squared:                       0.595\n",
       "Model:                                   OLS   Adj. R-squared:                  0.585\n",
       "Method:                        Least Squares   F-statistic:                     62.31\n",
       "Date:                       Tue, 17 May 2022   Prob (F-statistic):           2.18e-17\n",
       "Time:                               09:23:49   Log-Likelihood:                -455.59\n",
       "No. Observations:                         88   AIC:                             917.2\n",
       "Df Residuals:                             85   BIC:                             924.6\n",
       "Df Model:                                  2                                         \n",
       "Covariance Type:                   nonrobust                                         \n",
       "==============================================================================\n",
       "                 coef    std err          t      P>|t|      [0.025      0.975]\n",
       "------------------------------------------------------------------------------\n",
       "Intercept     10.8513     12.966      0.837      0.405     -14.929      36.632\n",
       "High_cm        1.2425      0.739      1.682      0.096      -0.226       2.711\n",
       "Low_cm         9.1407      1.382      6.612      0.000       6.392      11.889\n",
       "==============================================================================\n",
       "Omnibus:                       13.472   Durbin-Watson:                   1.646\n",
       "Prob(Omnibus):                  0.001   Jarque-Bera (JB):               14.808\n",
       "Skew:                           0.854   Prob(JB):                     0.000609\n",
       "Kurtosis:                       4.059   Cond. No.                         71.7\n",
       "==============================================================================\n",
       "\n",
       "Notes:\n",
       "[1] Standard Errors assume that the covariance matrix of the errors is correctly specified.\n",
       "\"\"\""
      ]
     },
     "execution_count": 31,
     "metadata": {},
     "output_type": "execute_result"
    }
   ],
   "source": [
    "mod_both.summary()"
   ]
  }
 ],
 "metadata": {
  "kernelspec": {
   "display_name": "Python 3 (ipykernel)",
   "language": "python",
   "name": "python3"
  },
  "language_info": {
   "codemirror_mode": {
    "name": "ipython",
    "version": 3
   },
   "file_extension": ".py",
   "mimetype": "text/x-python",
   "name": "python",
   "nbconvert_exporter": "python",
   "pygments_lexer": "ipython3",
   "version": "3.9.7"
  }
 },
 "nbformat": 4,
 "nbformat_minor": 5
}
