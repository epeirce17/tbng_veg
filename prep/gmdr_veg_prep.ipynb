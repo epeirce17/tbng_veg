{
 "cells": [
  {
   "cell_type": "markdown",
   "id": "49429155-b7b3-48fc-af70-774013cb17d9",
   "metadata": {},
   "source": [
    "Robel and clipping data analysis for Grazing Management and Drought Resilience (GMDR) project Thunder Basin WY"
   ]
  },
  {
   "cell_type": "code",
   "execution_count": 1,
   "id": "0256c116-fdeb-4633-b902-09fe6fda139a",
   "metadata": {},
   "outputs": [],
   "source": [
    "import os\n",
    "import pandas as pd\n",
    "import numpy as np\n",
    "import datetime\n",
    "import seaborn as sns"
   ]
  },
  {
   "cell_type": "code",
   "execution_count": 2,
   "id": "40246d77-ec6a-4507-8ab8-8227412e0e63",
   "metadata": {},
   "outputs": [],
   "source": [
    "# change working directory to be project directory\n",
    "os.chdir(os.path.dirname(os.getcwd()))\n",
    "\n",
    "#Import robel and clipping data\n",
    "robel= pd.read_csv('data/GMDR_ROBEL_2021.csv', parse_dates= {\"RobelDate\" : [\"Year\",\"Month\",\"Date\"]})\n",
    "clips= pd.read_csv('data/GMDR_ExitClips.csv')\n",
    "\n",
    "# set output directories\n",
    "outDIR_clip = 'data/clip'\n",
    "outDIR_vor = 'data/vor'\n",
    "outDIR_vor_train = 'data/vor_train'\n",
    "if not os.path.exists(os.path.join(os.getcwd(), outDIR_clip)):\n",
    "    os.mkdir(os.path.join(os.getcwd(), outDIR_clip))\n",
    "if not os.path.exists(os.path.join(os.getcwd(), outDIR_vor)):\n",
    "    os.mkdir(os.path.join(os.getcwd(), outDIR_vor))\n",
    "if not os.path.exists(os.path.join(os.getcwd(), outDIR_vor_train)):\n",
    "    os.mkdir(os.path.join(os.getcwd(), outDIR_vor_train))"
   ]
  },
  {
   "cell_type": "markdown",
   "id": "6128fd07-631a-4d3a-96fd-35926f3b81d7",
   "metadata": {},
   "source": [
    "# Robel dataframe"
   ]
  },
  {
   "cell_type": "code",
   "execution_count": 3,
   "id": "2be6679c-788d-4a6e-a203-ac2efbae4bb9",
   "metadata": {},
   "outputs": [],
   "source": [
    "# Make a list of just the columns we want\n",
    "robelcols = ['RobelDate', 'Block', 'Paddock', 'Plot', 'Direction', 'Location', \n",
    "             'Height Hi', 'Height Lo', 'Species Lo']\n",
    "robel = robel[robelcols]"
   ]
  },
  {
   "cell_type": "code",
   "execution_count": 4,
   "id": "862d4fc8-780e-42f2-8b08-66cf54ad34ec",
   "metadata": {},
   "outputs": [],
   "source": [
    "#Create robel location column that works for all years\n",
    "robel['Robel_loc'] = robel['Block'].map(str) + '-' + robel['Paddock'].map(str) + '-' + robel['Location']"
   ]
  },
  {
   "cell_type": "code",
   "execution_count": 5,
   "id": "738a58b4-3c37-4d5a-b05c-52bf7b2a3859",
   "metadata": {},
   "outputs": [
    {
     "name": "stdout",
     "output_type": "stream",
     "text": [
      "Low values:\n"
     ]
    },
    {
     "data": {
      "text/plain": [
       "array(['11', '7', '21', '16', '5', '4', '10', '6', '15', '8', '9', '2',\n",
       "       '3', '17', '22', '12', '13', '1', '30', '14', '#VALUE!'],\n",
       "      dtype=object)"
      ]
     },
     "metadata": {},
     "output_type": "display_data"
    },
    {
     "name": "stdout",
     "output_type": "stream",
     "text": [
      "\n",
      " High values\n"
     ]
    },
    {
     "data": {
      "text/plain": [
       "array(['29', '41', '35', '52', '23', '21', '5', '31', '39', '27', '24',\n",
       "       '49', '43', '36', '20', '40', '33', '17', '45', '32', '61', '38',\n",
       "       '34', '16', '25', '51', '30', '9', '37', '13', '12', '11', '7',\n",
       "       '26', '28', '15', '8', '10', '18', '4', '55', '22', '6', '77',\n",
       "       '19', '73', '67', '65', '47', '59', '#VALUE!', '42', '3', '14',\n",
       "       '2', '62', 'CHECK'], dtype=object)"
      ]
     },
     "metadata": {},
     "output_type": "display_data"
    }
   ],
   "source": [
    "# find non-numeric values in High/Low readings\n",
    "print('Low values:')\n",
    "display(robel['Height Lo'].unique())\n",
    "print('\\n High values')\n",
    "display(robel['Height Hi'].unique())"
   ]
  },
  {
   "cell_type": "code",
   "execution_count": 6,
   "id": "ba12120d-d4a8-4cb7-bb7f-371363f0abf5",
   "metadata": {},
   "outputs": [],
   "source": [
    "#replace '.' with NaN and change datatpe to float\n",
    "robel.loc[robel['Height Lo'] == '#VALUE!', 'Height Lo'] = np.nan\n",
    "robel.loc[robel['Height Hi'] == '#VALUE!', 'Height Hi'] = np.nan\n",
    "robel.loc[robel['Height Hi'] == 'CHECK', 'Height Hi'] = np.nan\n",
    "\n",
    "\n",
    "robel['Height Lo'] = robel['Height Lo'].astype('float64')\n",
    "robel['Height Hi'] = robel['Height Hi'].astype('float64')"
   ]
  },
  {
   "cell_type": "code",
   "execution_count": 7,
   "id": "75c9a9c8-f95c-478d-bd23-54cfa821b8c0",
   "metadata": {},
   "outputs": [],
   "source": [
    "#create year column\n",
    "robel['Year']=robel['RobelDate'].dt.year"
   ]
  },
  {
   "cell_type": "code",
   "execution_count": 8,
   "id": "e4c05bed-5025-410d-a6b3-dea751eaa6e3",
   "metadata": {},
   "outputs": [],
   "source": [
    "# create list of species to drop from VOR data\n",
    "vor_spp_drop_list = ['ATCA', 'atca', 'OPPO', 'oppo', 'ARTR', 'artr', 'SD ARTR', 'ARCA', 'arca', 'SD ATCA']"
   ]
  },
  {
   "cell_type": "code",
   "execution_count": 9,
   "id": "d4d4ea8e-974c-4c24-bb46-cd332f4913eb",
   "metadata": {},
   "outputs": [],
   "source": [
    "# drop any readings input as -1\n",
    "robel = robel[(robel['Height Lo'] >= 0) & (robel['Height Hi'] >= 0)]"
   ]
  },
  {
   "cell_type": "code",
   "execution_count": 10,
   "id": "84cb1874-eff3-442a-a3ea-c288cd201ce9",
   "metadata": {},
   "outputs": [],
   "source": [
    "# calculate percent of reading that are valid herbaceous species\n",
    "vor_reading_cts = robel.groupby(['Block', 'Paddock', 'RobelDate', 'Robel_loc']).count()['Location']\n",
    "robel = robel[~robel['Species Lo'].isin(vor_spp_drop_list)]\n",
    "# drop any readings where low is greater than high\n",
    "robel = robel[robel['Height Lo'] <= robel['Height Hi']]\n",
    "vor_reading_pct = robel.groupby(['Block', 'Paddock', 'RobelDate', 'Robel_loc']).count()['Location'] / vor_reading_cts"
   ]
  },
  {
   "cell_type": "code",
   "execution_count": 11,
   "id": "e09d09ed-5151-4702-829c-3afa99d08b47",
   "metadata": {},
   "outputs": [],
   "source": [
    "# aggregate data by plot and date\n",
    "robel_agg = robel.groupby(['Block', 'Paddock', 'RobelDate', 'Robel_loc']).mean().reset_index()"
   ]
  },
  {
   "cell_type": "code",
   "execution_count": 12,
   "id": "6444ebd4-b88a-496a-b39f-36e6535f77e9",
   "metadata": {},
   "outputs": [],
   "source": [
    "# drop any plots with < 50% valid data\n",
    "robel_agg['vor_reading_pct'] = vor_reading_pct.reset_index()['Location']\n",
    "robel_agg = robel_agg[robel_agg['vor_reading_pct'] > 0.50]"
   ]
  },
  {
   "cell_type": "markdown",
   "id": "67cad1d5-5090-4203-9c86-acc498349cfb",
   "metadata": {},
   "source": [
    "#### Save VOR dataset to disk"
   ]
  },
  {
   "cell_type": "code",
   "execution_count": 13,
   "id": "f34b3468-bb1f-4798-ba91-322536ee370a",
   "metadata": {},
   "outputs": [],
   "source": [
    "robel_out = robel_agg[robel_agg['Year'] == 2019].groupby(['Block', 'Paddock', 'RobelDate']).mean().reset_index().rename(\n",
    "    columns={\n",
    "        'Height Hi': 'High_cm',\n",
    "        'Height Lo': 'Low_cm'\n",
    "})\n",
    "\n",
    "robel_out.to_csv(os.path.join(os.getcwd(), outDIR_vor, 'TB_gmdr_vor.csv'), index=False)"
   ]
  },
  {
   "cell_type": "markdown",
   "id": "b1df6941-eed2-41fa-8d81-ca255f2f716e",
   "metadata": {},
   "source": [
    "# Exit clips dataframe"
   ]
  },
  {
   "cell_type": "code",
   "execution_count": 14,
   "id": "bcf81148-40d5-4b58-a10d-c9cbbff16986",
   "metadata": {},
   "outputs": [],
   "source": [
    "# Select columns of interest to work with\n",
    "clipscols=['Year', 'Date', 'Block', 'Paddock', 'Plot', 'Location', 'GrazingTrt2019', 'GrazingTrt2020', 'GrazingTrt2021', 'g/m2']\n",
    "clips= clips[clipscols]"
   ]
  },
  {
   "cell_type": "code",
   "execution_count": 15,
   "id": "8d03f637-0ca8-4eaf-acc8-e164bd6fb295",
   "metadata": {},
   "outputs": [],
   "source": [
    "# Create robel location column to match the robel dataframe\n",
    "clips['Robel_loc'] = clips['Block'].map(str) + '-' + clips['Paddock'].map(str) + '-' + clips['Location']\n"
   ]
  },
  {
   "cell_type": "code",
   "execution_count": 16,
   "id": "103d66c9-c5ca-4d61-8d7b-3a2899266ff1",
   "metadata": {},
   "outputs": [],
   "source": [
    "# Adding arbitrary late date  of 8/1 to records without a date\n",
    "# NOTE: There are no longer any missing dates to assign to Aug. 1\n",
    "clips['ClipDate']= clips.apply(lambda row: str(row.Year) + '-' + '8-1' if pd.isna(row.Date) else row.Date, axis=1)\n",
    "\n",
    "# Make Date1 column a date datatype\n",
    "clips['ClipDate']= pd.to_datetime(clips['ClipDate'])"
   ]
  },
  {
   "cell_type": "code",
   "execution_count": 17,
   "id": "59d6dc80-b7ef-4c84-8240-da15f3ca7710",
   "metadata": {
    "tags": []
   },
   "outputs": [],
   "source": [
    "robelclip= pd.merge_asof(clips.sort_values('ClipDate'),\n",
    "                         robel_agg.sort_values('RobelDate'),\n",
    "                         left_on= 'ClipDate',\n",
    "                         right_on= 'RobelDate',\n",
    "                         by=['Block', 'Paddock', 'Robel_loc'],\n",
    "                         direction= 'nearest',\n",
    "                         tolerance= datetime.timedelta(days= 22),\n",
    "                         suffixes=['_clip', ''])"
   ]
  },
  {
   "cell_type": "code",
   "execution_count": 18,
   "id": "3c594a38-c104-4eb2-8cdc-c5fa7776ec6b",
   "metadata": {},
   "outputs": [],
   "source": [
    "robelclipmean= robelclip.groupby(['Block', 'Paddock', 'Date']).mean().reset_index().rename(\n",
    "    columns={\n",
    "        'g/m2': 'Total Weight (g/m^2)',\n",
    "        'Height Hi': 'High_cm',\n",
    "        'Height Lo': 'Low_cm'\n",
    "})"
   ]
  },
  {
   "cell_type": "code",
   "execution_count": 19,
   "id": "053827e4-755a-452b-94ad-eb5115acf247",
   "metadata": {},
   "outputs": [
    {
     "data": {
      "text/plain": [
       "<seaborn.axisgrid.FacetGrid at 0x28db16eec40>"
      ]
     },
     "execution_count": 19,
     "metadata": {},
     "output_type": "execute_result"
    },
    {
     "data": {
      "image/png": "[encoded data removed]",
      "text/plain": [
       "<Figure size 360x360 with 1 Axes>"
      ]
     },
     "metadata": {
      "needs_background": "light"
     },
     "output_type": "display_data"
    }
   ],
   "source": [
    "sns.lmplot(x='Low_cm',\n",
    "y='Total Weight (g/m^2)',\n",
    "data=robelclipmean)"
   ]
  },
  {
   "cell_type": "code",
   "execution_count": 20,
   "id": "71253630-11eb-47ac-92f3-96d7eb927a84",
   "metadata": {},
   "outputs": [
    {
     "data": {
      "text/plain": [
       "<seaborn.axisgrid.FacetGrid at 0x28db164c550>"
      ]
     },
     "execution_count": 20,
     "metadata": {},
     "output_type": "execute_result"
    },
    {
     "data": {
      "image/png": "[encoded data removed]",
      "text/plain": [
       "<Figure size 431.125x360 with 1 Axes>"
      ]
     },
     "metadata": {
      "needs_background": "light"
     },
     "output_type": "display_data"
    }
   ],
   "source": [
    "sns.lmplot(x='Height Hi',\n",
    "           y='g/m2',\n",
    "           data=robelclip.groupby(['Block', 'Paddock', 'Date']).mean().reset_index(),\n",
    "           hue='Year')"
   ]
  },
  {
   "cell_type": "code",
   "execution_count": 21,
   "id": "0a47edb2-229d-469e-8663-8d6816c09237",
   "metadata": {},
   "outputs": [],
   "source": [
    "import statsmodels.formula.api as smf\n",
    "mod_both = smf.ols(\"Q('Total Weight (g/m^2)') ~ High_cm + Low_cm\", \n",
    "                   data=robelclipmean).fit()"
   ]
  },
  {
   "cell_type": "code",
   "execution_count": 22,
   "id": "d35b1221-4905-4564-9b29-305e3673d425",
   "metadata": {},
   "outputs": [
    {
     "data": {
      "text/html": [
       "<table class=\"simpletable\">\n",
       "<caption>OLS Regression Results</caption>\n",
       "<tr>\n",
       "  <th>Dep. Variable:</th>    <td>Q('Total Weight (g/m^2)')</td> <th>  R-squared:         </th> <td>   0.597</td>\n",
       "</tr>\n",
       "<tr>\n",
       "  <th>Model:</th>                       <td>OLS</td>            <th>  Adj. R-squared:    </th> <td>   0.565</td>\n",
       "</tr>\n",
       "<tr>\n",
       "  <th>Method:</th>                 <td>Least Squares</td>       <th>  F-statistic:       </th> <td>   18.51</td>\n",
       "</tr>\n",
       "<tr>\n",
       "  <th>Date:</th>                 <td>Wed, 06 Jul 2022</td>      <th>  Prob (F-statistic):</th> <td>1.17e-05</td>\n",
       "</tr>\n",
       "<tr>\n",
       "  <th>Time:</th>                     <td>10:34:28</td>          <th>  Log-Likelihood:    </th> <td> -128.24</td>\n",
       "</tr>\n",
       "<tr>\n",
       "  <th>No. Observations:</th>          <td>    28</td>           <th>  AIC:               </th> <td>   262.5</td>\n",
       "</tr>\n",
       "<tr>\n",
       "  <th>Df Residuals:</th>              <td>    25</td>           <th>  BIC:               </th> <td>   266.5</td>\n",
       "</tr>\n",
       "<tr>\n",
       "  <th>Df Model:</th>                  <td>     2</td>           <th>                     </th>     <td> </td>   \n",
       "</tr>\n",
       "<tr>\n",
       "  <th>Covariance Type:</th>          <td>nonrobust</td>         <th>                     </th>     <td> </td>   \n",
       "</tr>\n",
       "</table>\n",
       "<table class=\"simpletable\">\n",
       "<tr>\n",
       "      <td></td>         <th>coef</th>     <th>std err</th>      <th>t</th>      <th>P>|t|</th>  <th>[0.025</th>    <th>0.975]</th>  \n",
       "</tr>\n",
       "<tr>\n",
       "  <th>Intercept</th> <td>    4.4332</td> <td>   10.666</td> <td>    0.416</td> <td> 0.681</td> <td>  -17.534</td> <td>   26.400</td>\n",
       "</tr>\n",
       "<tr>\n",
       "  <th>High_cm</th>   <td>    2.0769</td> <td>    1.133</td> <td>    1.833</td> <td> 0.079</td> <td>   -0.257</td> <td>    4.411</td>\n",
       "</tr>\n",
       "<tr>\n",
       "  <th>Low_cm</th>    <td>    8.9937</td> <td>    5.751</td> <td>    1.564</td> <td> 0.130</td> <td>   -2.851</td> <td>   20.838</td>\n",
       "</tr>\n",
       "</table>\n",
       "<table class=\"simpletable\">\n",
       "<tr>\n",
       "  <th>Omnibus:</th>       <td>15.460</td> <th>  Durbin-Watson:     </th> <td>   2.025</td>\n",
       "</tr>\n",
       "<tr>\n",
       "  <th>Prob(Omnibus):</th> <td> 0.000</td> <th>  Jarque-Bera (JB):  </th> <td>  24.787</td>\n",
       "</tr>\n",
       "<tr>\n",
       "  <th>Skew:</th>          <td> 1.085</td> <th>  Prob(JB):          </th> <td>4.14e-06</td>\n",
       "</tr>\n",
       "<tr>\n",
       "  <th>Kurtosis:</th>      <td> 7.067</td> <th>  Cond. No.          </th> <td>    40.1</td>\n",
       "</tr>\n",
       "</table><br/><br/>Notes:<br/>[1] Standard Errors assume that the covariance matrix of the errors is correctly specified."
      ],
      "text/plain": [
       "<class 'statsmodels.iolib.summary.Summary'>\n",
       "\"\"\"\n",
       "                                OLS Regression Results                               \n",
       "=====================================================================================\n",
       "Dep. Variable:     Q('Total Weight (g/m^2)')   R-squared:                       0.597\n",
       "Model:                                   OLS   Adj. R-squared:                  0.565\n",
       "Method:                        Least Squares   F-statistic:                     18.51\n",
       "Date:                       Wed, 06 Jul 2022   Prob (F-statistic):           1.17e-05\n",
       "Time:                               10:34:28   Log-Likelihood:                -128.24\n",
       "No. Observations:                         28   AIC:                             262.5\n",
       "Df Residuals:                             25   BIC:                             266.5\n",
       "Df Model:                                  2                                         \n",
       "Covariance Type:                   nonrobust                                         \n",
       "==============================================================================\n",
       "                 coef    std err          t      P>|t|      [0.025      0.975]\n",
       "------------------------------------------------------------------------------\n",
       "Intercept      4.4332     10.666      0.416      0.681     -17.534      26.400\n",
       "High_cm        2.0769      1.133      1.833      0.079      -0.257       4.411\n",
       "Low_cm         8.9937      5.751      1.564      0.130      -2.851      20.838\n",
       "==============================================================================\n",
       "Omnibus:                       15.460   Durbin-Watson:                   2.025\n",
       "Prob(Omnibus):                  0.000   Jarque-Bera (JB):               24.787\n",
       "Skew:                           1.085   Prob(JB):                     4.14e-06\n",
       "Kurtosis:                       7.067   Cond. No.                         40.1\n",
       "==============================================================================\n",
       "\n",
       "Notes:\n",
       "[1] Standard Errors assume that the covariance matrix of the errors is correctly specified.\n",
       "\"\"\""
      ]
     },
     "execution_count": 22,
     "metadata": {},
     "output_type": "execute_result"
    }
   ],
   "source": [
    "mod_both.summary()"
   ]
  },
  {
   "cell_type": "code",
   "execution_count": 23,
   "id": "e4a72399-fa61-4f92-a8c8-24305151b2d3",
   "metadata": {},
   "outputs": [],
   "source": [
    "robelclipmean.to_csv(os.path.join(os.getcwd(), outDIR_vor_train, 'TB_gmdr_vor_train.csv'), index=False)"
   ]
  },
  {
   "cell_type": "code",
   "execution_count": null,
   "id": "568b9e09-d4db-4ca6-9d3a-30ec6ea8c104",
   "metadata": {},
   "outputs": [],
   "source": []
  }
 ],
 "metadata": {
  "kernelspec": {
   "display_name": "Python 3 (ipykernel)",
   "language": "python",
   "name": "python3"
  },
  "language_info": {
   "codemirror_mode": {
    "name": "ipython",
    "version": 3
   },
   "file_extension": ".py",
   "mimetype": "text/x-python",
   "name": "python",
   "nbconvert_exporter": "python",
   "pygments_lexer": "ipython3",
   "version": "3.9.7"
  }
 },
 "nbformat": 4,
 "nbformat_minor": 5
}
